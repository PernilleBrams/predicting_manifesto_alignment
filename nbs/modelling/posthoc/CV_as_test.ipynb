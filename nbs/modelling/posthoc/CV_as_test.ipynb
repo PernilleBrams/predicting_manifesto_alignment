{
 "cells": [
  {
   "cell_type": "markdown",
   "metadata": {},
   "source": [
    "# Posthoc CV\n",
    "This notebook conducts tuning in the same way as retraining to assess if performance improves."
   ]
  },
  {
   "cell_type": "code",
   "execution_count": 1,
   "metadata": {},
   "outputs": [
    {
     "name": "stdout",
     "output_type": "stream",
     "text": [
      "Euclidean range:\n",
      "3.268728494644165\n",
      "23.27056884765625\n",
      "Cosine range:\n",
      "0.1292201876640319\n",
      "0.964977502822876\n",
      "Subsetting for modelling...\n"
     ]
    },
    {
     "name": "stderr",
     "output_type": "stream",
     "text": [
      "/var/folders/rp/y6c4hxp96_j_rq3k86806lgr0000gn/T/ipykernel_33749/3468724933.py:189: SettingWithCopyWarning: \n",
      "A value is trying to be set on a copy of a slice from a DataFrame.\n",
      "Try using .loc[row_indexer,col_indexer] = value instead\n",
      "\n",
      "See the caveats in the documentation: https://pandas.pydata.org/pandas-docs/stable/user_guide/indexing.html#returning-a-view-versus-a-copy\n",
      "  data_comp_subset['PolQuarter_numb'] = data_comp_subset.apply(assign_quarter_number, axis=1)\n",
      "/var/folders/rp/y6c4hxp96_j_rq3k86806lgr0000gn/T/ipykernel_33749/3468724933.py:190: SettingWithCopyWarning: \n",
      "A value is trying to be set on a copy of a slice from a DataFrame.\n",
      "Try using .loc[row_indexer,col_indexer] = value instead\n",
      "\n",
      "See the caveats in the documentation: https://pandas.pydata.org/pandas-docs/stable/user_guide/indexing.html#returning-a-view-versus-a-copy\n",
      "  data_inc_subset['PolQuarter_numb'] = data_inc_subset.apply(assign_quarter_number, axis=1)\n",
      "/var/folders/rp/y6c4hxp96_j_rq3k86806lgr0000gn/T/ipykernel_33749/3468724933.py:197: FutureWarning: The behavior of Series.replace (and DataFrame.replace) with CategoricalDtype is deprecated. In a future version, replace will only be used for cases that preserve the categories. To change the categories, use ser.cat.rename_categories instead.\n",
      "  data_inc_subset['government_status'] = data_inc['government_status'].replace('minority government', 'coalition')\n",
      "/var/folders/rp/y6c4hxp96_j_rq3k86806lgr0000gn/T/ipykernel_33749/3468724933.py:197: SettingWithCopyWarning: \n",
      "A value is trying to be set on a copy of a slice from a DataFrame.\n",
      "Try using .loc[row_indexer,col_indexer] = value instead\n",
      "\n",
      "See the caveats in the documentation: https://pandas.pydata.org/pandas-docs/stable/user_guide/indexing.html#returning-a-view-versus-a-copy\n",
      "  data_inc_subset['government_status'] = data_inc['government_status'].replace('minority government', 'coalition')\n",
      "/var/folders/rp/y6c4hxp96_j_rq3k86806lgr0000gn/T/ipykernel_33749/3468724933.py:198: FutureWarning: The behavior of Series.replace (and DataFrame.replace) with CategoricalDtype is deprecated. In a future version, replace will only be used for cases that preserve the categories. To change the categories, use ser.cat.rename_categories instead.\n",
      "  data_comp_subset['government_status'] = data_comp['government_status'].replace('minority government', 'coalition')\n",
      "/var/folders/rp/y6c4hxp96_j_rq3k86806lgr0000gn/T/ipykernel_33749/3468724933.py:198: SettingWithCopyWarning: \n",
      "A value is trying to be set on a copy of a slice from a DataFrame.\n",
      "Try using .loc[row_indexer,col_indexer] = value instead\n",
      "\n",
      "See the caveats in the documentation: https://pandas.pydata.org/pandas-docs/stable/user_guide/indexing.html#returning-a-view-versus-a-copy\n",
      "  data_comp_subset['government_status'] = data_comp['government_status'].replace('minority government', 'coalition')\n"
     ]
    },
    {
     "name": "stdout",
     "output_type": "stream",
     "text": [
      "[nan  1.  2.  3.  4.]\n",
      "[nan  1.  2.  3.  4.]\n",
      "Dates for complete dataset (all rows for all calendar days):\n",
      "1997-10-07 00:00:00\n",
      "2022-06-07 00:00:00\n",
      "Dates for incomplete dataset:\n",
      "1997-10-07 00:00:00\n",
      "2022-06-07 00:00:00\n"
     ]
    },
    {
     "name": "stderr",
     "output_type": "stream",
     "text": [
      "/var/folders/rp/y6c4hxp96_j_rq3k86806lgr0000gn/T/ipykernel_33749/3468724933.py:227: SettingWithCopyWarning: \n",
      "A value is trying to be set on a copy of a slice from a DataFrame.\n",
      "Try using .loc[row_indexer,col_indexer] = value instead\n",
      "\n",
      "See the caveats in the documentation: https://pandas.pydata.org/pandas-docs/stable/user_guide/indexing.html#returning-a-view-versus-a-copy\n",
      "  data_inc_subset['block'] = data_inc_subset.apply(assign_block, axis=1)\n",
      "/var/folders/rp/y6c4hxp96_j_rq3k86806lgr0000gn/T/ipykernel_33749/3468724933.py:228: SettingWithCopyWarning: \n",
      "A value is trying to be set on a copy of a slice from a DataFrame.\n",
      "Try using .loc[row_indexer,col_indexer] = value instead\n",
      "\n",
      "See the caveats in the documentation: https://pandas.pydata.org/pandas-docs/stable/user_guide/indexing.html#returning-a-view-versus-a-copy\n",
      "  data_comp_subset['block'] = data_comp_subset.apply(assign_block, axis=1)\n"
     ]
    },
    {
     "name": "stdout",
     "output_type": "stream",
     "text": [
      "Euclidean range post outlier removal:\n",
      "3.268728494644165\n",
      "17.694204330444336\n",
      "Cosine range:\n",
      "0.2554056644439697\n",
      "0.964977502822876\n"
     ]
    },
    {
     "name": "stderr",
     "output_type": "stream",
     "text": [
      "/var/folders/rp/y6c4hxp96_j_rq3k86806lgr0000gn/T/ipykernel_33749/3468724933.py:235: SettingWithCopyWarning: \n",
      "A value is trying to be set on a copy of a slice from a DataFrame.\n",
      "Try using .loc[row_indexer,col_indexer] = value instead\n",
      "\n",
      "See the caveats in the documentation: https://pandas.pydata.org/pandas-docs/stable/user_guide/indexing.html#returning-a-view-versus-a-copy\n",
      "  df['z_score'] = zscore(df[column], nan_policy='omit')\n",
      "/var/folders/rp/y6c4hxp96_j_rq3k86806lgr0000gn/T/ipykernel_33749/3468724933.py:237: SettingWithCopyWarning: \n",
      "A value is trying to be set on a copy of a slice from a DataFrame.\n",
      "Try using .loc[row_indexer,col_indexer] = value instead\n",
      "\n",
      "See the caveats in the documentation: https://pandas.pydata.org/pandas-docs/stable/user_guide/indexing.html#returning-a-view-versus-a-copy\n",
      "  df['abs_z_score'] = np.abs(df['z_score'])\n",
      "/var/folders/rp/y6c4hxp96_j_rq3k86806lgr0000gn/T/ipykernel_33749/3468724933.py:235: SettingWithCopyWarning: \n",
      "A value is trying to be set on a copy of a slice from a DataFrame.\n",
      "Try using .loc[row_indexer,col_indexer] = value instead\n",
      "\n",
      "See the caveats in the documentation: https://pandas.pydata.org/pandas-docs/stable/user_guide/indexing.html#returning-a-view-versus-a-copy\n",
      "  df['z_score'] = zscore(df[column], nan_policy='omit')\n",
      "/var/folders/rp/y6c4hxp96_j_rq3k86806lgr0000gn/T/ipykernel_33749/3468724933.py:237: SettingWithCopyWarning: \n",
      "A value is trying to be set on a copy of a slice from a DataFrame.\n",
      "Try using .loc[row_indexer,col_indexer] = value instead\n",
      "\n",
      "See the caveats in the documentation: https://pandas.pydata.org/pandas-docs/stable/user_guide/indexing.html#returning-a-view-versus-a-copy\n",
      "  df['abs_z_score'] = np.abs(df['z_score'])\n"
     ]
    },
    {
     "data": {
      "text/html": [
       "<div>\n",
       "<style scoped>\n",
       "    .dataframe tbody tr th:only-of-type {\n",
       "        vertical-align: middle;\n",
       "    }\n",
       "\n",
       "    .dataframe tbody tr th {\n",
       "        vertical-align: top;\n",
       "    }\n",
       "\n",
       "    .dataframe thead th {\n",
       "        text-align: right;\n",
       "    }\n",
       "</style>\n",
       "<table border=\"1\" class=\"dataframe\">\n",
       "  <thead>\n",
       "    <tr style=\"text-align: right;\">\n",
       "      <th></th>\n",
       "      <th>Party_Name</th>\n",
       "      <th>government_status</th>\n",
       "      <th>government_status_finegrained</th>\n",
       "      <th>family_name</th>\n",
       "      <th>days_until_election</th>\n",
       "      <th>days_since_election</th>\n",
       "      <th>days_until_election_2</th>\n",
       "      <th>days_since_election_2</th>\n",
       "      <th>seats</th>\n",
       "      <th>left_right</th>\n",
       "      <th>...</th>\n",
       "      <th>cosine_similarity_to_dynamic</th>\n",
       "      <th>Date</th>\n",
       "      <th>Month</th>\n",
       "      <th>Year</th>\n",
       "      <th>DayOfWeek</th>\n",
       "      <th>Quarter</th>\n",
       "      <th>PolQuarter_numb</th>\n",
       "      <th>block</th>\n",
       "      <th>z_score</th>\n",
       "      <th>abs_z_score</th>\n",
       "    </tr>\n",
       "  </thead>\n",
       "  <tbody>\n",
       "    <tr>\n",
       "      <th>9031</th>\n",
       "      <td>Liberal Alliance</td>\n",
       "      <td>opposition</td>\n",
       "      <td>opposition</td>\n",
       "      <td>Liberal</td>\n",
       "      <td>324</td>\n",
       "      <td>1078</td>\n",
       "      <td>104976</td>\n",
       "      <td>1162084</td>\n",
       "      <td>5.0</td>\n",
       "      <td>6.0000</td>\n",
       "      <td>...</td>\n",
       "      <td>0.506699</td>\n",
       "      <td>2010-10-26</td>\n",
       "      <td>10</td>\n",
       "      <td>2010</td>\n",
       "      <td>1</td>\n",
       "      <td>4</td>\n",
       "      <td>4.0</td>\n",
       "      <td>right</td>\n",
       "      <td>7.962504</td>\n",
       "      <td>7.962504</td>\n",
       "    </tr>\n",
       "    <tr>\n",
       "      <th>16146</th>\n",
       "      <td>Alternativet</td>\n",
       "      <td>opposition</td>\n",
       "      <td>opposition</td>\n",
       "      <td>Green/Ecologist</td>\n",
       "      <td>29</td>\n",
       "      <td>1419</td>\n",
       "      <td>841</td>\n",
       "      <td>2013561</td>\n",
       "      <td>9.0</td>\n",
       "      <td>2.5000</td>\n",
       "      <td>...</td>\n",
       "      <td>0.297219</td>\n",
       "      <td>2019-05-07</td>\n",
       "      <td>5</td>\n",
       "      <td>2019</td>\n",
       "      <td>1</td>\n",
       "      <td>2</td>\n",
       "      <td>4.0</td>\n",
       "      <td>left</td>\n",
       "      <td>7.816306</td>\n",
       "      <td>7.816306</td>\n",
       "    </tr>\n",
       "    <tr>\n",
       "      <th>617</th>\n",
       "      <td>Det Radikale Venstre</td>\n",
       "      <td>coalition</td>\n",
       "      <td>coalition_maj</td>\n",
       "      <td>Liberal</td>\n",
       "      <td>1126</td>\n",
       "      <td>224</td>\n",
       "      <td>1267876</td>\n",
       "      <td>50176</td>\n",
       "      <td>7.0</td>\n",
       "      <td>4.8736</td>\n",
       "      <td>...</td>\n",
       "      <td>0.264017</td>\n",
       "      <td>1998-10-21</td>\n",
       "      <td>10</td>\n",
       "      <td>1998</td>\n",
       "      <td>2</td>\n",
       "      <td>4</td>\n",
       "      <td>1.0</td>\n",
       "      <td>left</td>\n",
       "      <td>7.710556</td>\n",
       "      <td>7.710556</td>\n",
       "    </tr>\n",
       "    <tr>\n",
       "      <th>15368</th>\n",
       "      <td>Konservative Folkeparti</td>\n",
       "      <td>coalition</td>\n",
       "      <td>coalition_min</td>\n",
       "      <td>Conservative</td>\n",
       "      <td>366</td>\n",
       "      <td>1082</td>\n",
       "      <td>133956</td>\n",
       "      <td>1170724</td>\n",
       "      <td>6.0</td>\n",
       "      <td>7.2186</td>\n",
       "      <td>...</td>\n",
       "      <td>0.325943</td>\n",
       "      <td>2018-06-04</td>\n",
       "      <td>6</td>\n",
       "      <td>2018</td>\n",
       "      <td>0</td>\n",
       "      <td>2</td>\n",
       "      <td>3.0</td>\n",
       "      <td>right</td>\n",
       "      <td>7.520634</td>\n",
       "      <td>7.520634</td>\n",
       "    </tr>\n",
       "    <tr>\n",
       "      <th>2349</th>\n",
       "      <td>Dansk Folkeparti</td>\n",
       "      <td>support</td>\n",
       "      <td>support</td>\n",
       "      <td>Right-wing</td>\n",
       "      <td>270</td>\n",
       "      <td>1080</td>\n",
       "      <td>72900</td>\n",
       "      <td>1166400</td>\n",
       "      <td>13.0</td>\n",
       "      <td>8.2269</td>\n",
       "      <td>...</td>\n",
       "      <td>0.420292</td>\n",
       "      <td>2001-02-23</td>\n",
       "      <td>2</td>\n",
       "      <td>2001</td>\n",
       "      <td>4</td>\n",
       "      <td>1</td>\n",
       "      <td>4.0</td>\n",
       "      <td>right</td>\n",
       "      <td>7.426004</td>\n",
       "      <td>7.426004</td>\n",
       "    </tr>\n",
       "    <tr>\n",
       "      <th>...</th>\n",
       "      <td>...</td>\n",
       "      <td>...</td>\n",
       "      <td>...</td>\n",
       "      <td>...</td>\n",
       "      <td>...</td>\n",
       "      <td>...</td>\n",
       "      <td>...</td>\n",
       "      <td>...</td>\n",
       "      <td>...</td>\n",
       "      <td>...</td>\n",
       "      <td>...</td>\n",
       "      <td>...</td>\n",
       "      <td>...</td>\n",
       "      <td>...</td>\n",
       "      <td>...</td>\n",
       "      <td>...</td>\n",
       "      <td>...</td>\n",
       "      <td>...</td>\n",
       "      <td>...</td>\n",
       "      <td>...</td>\n",
       "      <td>...</td>\n",
       "    </tr>\n",
       "    <tr>\n",
       "      <th>866</th>\n",
       "      <td>Dansk Folkeparti</td>\n",
       "      <td>opposition</td>\n",
       "      <td>opposition</td>\n",
       "      <td>Right-wing</td>\n",
       "      <td>1036</td>\n",
       "      <td>314</td>\n",
       "      <td>1073296</td>\n",
       "      <td>98596</td>\n",
       "      <td>13.0</td>\n",
       "      <td>8.2269</td>\n",
       "      <td>...</td>\n",
       "      <td>0.876464</td>\n",
       "      <td>1999-01-19</td>\n",
       "      <td>1</td>\n",
       "      <td>1999</td>\n",
       "      <td>1</td>\n",
       "      <td>1</td>\n",
       "      <td>1.0</td>\n",
       "      <td>right</td>\n",
       "      <td>0.000413</td>\n",
       "      <td>0.000413</td>\n",
       "    </tr>\n",
       "    <tr>\n",
       "      <th>11336</th>\n",
       "      <td>Venstre</td>\n",
       "      <td>opposition</td>\n",
       "      <td>opposition</td>\n",
       "      <td>Liberal</td>\n",
       "      <td>601</td>\n",
       "      <td>771</td>\n",
       "      <td>361201</td>\n",
       "      <td>594441</td>\n",
       "      <td>47.0</td>\n",
       "      <td>7.2920</td>\n",
       "      <td>...</td>\n",
       "      <td>0.820811</td>\n",
       "      <td>2013-10-25</td>\n",
       "      <td>10</td>\n",
       "      <td>2013</td>\n",
       "      <td>4</td>\n",
       "      <td>4</td>\n",
       "      <td>3.0</td>\n",
       "      <td>right</td>\n",
       "      <td>-0.000379</td>\n",
       "      <td>0.000379</td>\n",
       "    </tr>\n",
       "    <tr>\n",
       "      <th>8465</th>\n",
       "      <td>Konservative Folkeparti</td>\n",
       "      <td>coalition</td>\n",
       "      <td>coalition_min</td>\n",
       "      <td>Conservative</td>\n",
       "      <td>609</td>\n",
       "      <td>793</td>\n",
       "      <td>370881</td>\n",
       "      <td>628849</td>\n",
       "      <td>18.0</td>\n",
       "      <td>7.2186</td>\n",
       "      <td>...</td>\n",
       "      <td>0.789072</td>\n",
       "      <td>2010-01-14</td>\n",
       "      <td>1</td>\n",
       "      <td>2010</td>\n",
       "      <td>3</td>\n",
       "      <td>1</td>\n",
       "      <td>3.0</td>\n",
       "      <td>right</td>\n",
       "      <td>0.000361</td>\n",
       "      <td>0.000361</td>\n",
       "    </tr>\n",
       "    <tr>\n",
       "      <th>3580</th>\n",
       "      <td>Konservative Folkeparti</td>\n",
       "      <td>coalition</td>\n",
       "      <td>coalition_min</td>\n",
       "      <td>Conservative</td>\n",
       "      <td>746</td>\n",
       "      <td>430</td>\n",
       "      <td>556516</td>\n",
       "      <td>184900</td>\n",
       "      <td>16.0</td>\n",
       "      <td>7.2186</td>\n",
       "      <td>...</td>\n",
       "      <td>0.841978</td>\n",
       "      <td>2003-01-24</td>\n",
       "      <td>1</td>\n",
       "      <td>2003</td>\n",
       "      <td>4</td>\n",
       "      <td>1</td>\n",
       "      <td>2.0</td>\n",
       "      <td>right</td>\n",
       "      <td>0.000243</td>\n",
       "      <td>0.000243</td>\n",
       "    </tr>\n",
       "    <tr>\n",
       "      <th>1974</th>\n",
       "      <td>Det Radikale Venstre</td>\n",
       "      <td>coalition</td>\n",
       "      <td>coalition_maj</td>\n",
       "      <td>Liberal</td>\n",
       "      <td>439</td>\n",
       "      <td>911</td>\n",
       "      <td>192721</td>\n",
       "      <td>829921</td>\n",
       "      <td>7.0</td>\n",
       "      <td>4.8736</td>\n",
       "      <td>...</td>\n",
       "      <td>0.801325</td>\n",
       "      <td>2000-09-07</td>\n",
       "      <td>9</td>\n",
       "      <td>2000</td>\n",
       "      <td>3</td>\n",
       "      <td>3</td>\n",
       "      <td>3.0</td>\n",
       "      <td>left</td>\n",
       "      <td>-0.000051</td>\n",
       "      <td>0.000051</td>\n",
       "    </tr>\n",
       "  </tbody>\n",
       "</table>\n",
       "<p>18954 rows × 28 columns</p>\n",
       "</div>"
      ],
      "text/plain": [
       "                    Party_Name government_status  \\\n",
       "9031          Liberal Alliance        opposition   \n",
       "16146             Alternativet        opposition   \n",
       "617       Det Radikale Venstre         coalition   \n",
       "15368  Konservative Folkeparti         coalition   \n",
       "2349          Dansk Folkeparti           support   \n",
       "...                        ...               ...   \n",
       "866           Dansk Folkeparti        opposition   \n",
       "11336                  Venstre        opposition   \n",
       "8465   Konservative Folkeparti         coalition   \n",
       "3580   Konservative Folkeparti         coalition   \n",
       "1974      Det Radikale Venstre         coalition   \n",
       "\n",
       "      government_status_finegrained      family_name  days_until_election  \\\n",
       "9031                     opposition          Liberal                  324   \n",
       "16146                    opposition  Green/Ecologist                   29   \n",
       "617                   coalition_maj          Liberal                 1126   \n",
       "15368                 coalition_min     Conservative                  366   \n",
       "2349                        support       Right-wing                  270   \n",
       "...                             ...              ...                  ...   \n",
       "866                      opposition       Right-wing                 1036   \n",
       "11336                    opposition          Liberal                  601   \n",
       "8465                  coalition_min     Conservative                  609   \n",
       "3580                  coalition_min     Conservative                  746   \n",
       "1974                  coalition_maj          Liberal                  439   \n",
       "\n",
       "       days_since_election  days_until_election_2  days_since_election_2  \\\n",
       "9031                  1078                 104976                1162084   \n",
       "16146                 1419                    841                2013561   \n",
       "617                    224                1267876                  50176   \n",
       "15368                 1082                 133956                1170724   \n",
       "2349                  1080                  72900                1166400   \n",
       "...                    ...                    ...                    ...   \n",
       "866                    314                1073296                  98596   \n",
       "11336                  771                 361201                 594441   \n",
       "8465                   793                 370881                 628849   \n",
       "3580                   430                 556516                 184900   \n",
       "1974                   911                 192721                 829921   \n",
       "\n",
       "       seats  left_right  ...  cosine_similarity_to_dynamic       Date  Month  \\\n",
       "9031     5.0      6.0000  ...                      0.506699 2010-10-26     10   \n",
       "16146    9.0      2.5000  ...                      0.297219 2019-05-07      5   \n",
       "617      7.0      4.8736  ...                      0.264017 1998-10-21     10   \n",
       "15368    6.0      7.2186  ...                      0.325943 2018-06-04      6   \n",
       "2349    13.0      8.2269  ...                      0.420292 2001-02-23      2   \n",
       "...      ...         ...  ...                           ...        ...    ...   \n",
       "866     13.0      8.2269  ...                      0.876464 1999-01-19      1   \n",
       "11336   47.0      7.2920  ...                      0.820811 2013-10-25     10   \n",
       "8465    18.0      7.2186  ...                      0.789072 2010-01-14      1   \n",
       "3580    16.0      7.2186  ...                      0.841978 2003-01-24      1   \n",
       "1974     7.0      4.8736  ...                      0.801325 2000-09-07      9   \n",
       "\n",
       "       Year  DayOfWeek  Quarter  PolQuarter_numb  block   z_score abs_z_score  \n",
       "9031   2010          1        4              4.0  right  7.962504    7.962504  \n",
       "16146  2019          1        2              4.0   left  7.816306    7.816306  \n",
       "617    1998          2        4              1.0   left  7.710556    7.710556  \n",
       "15368  2018          0        2              3.0  right  7.520634    7.520634  \n",
       "2349   2001          4        1              4.0  right  7.426004    7.426004  \n",
       "...     ...        ...      ...              ...    ...       ...         ...  \n",
       "866    1999          1        1              1.0  right  0.000413    0.000413  \n",
       "11336  2013          4        4              3.0  right -0.000379    0.000379  \n",
       "8465   2010          3        1              3.0  right  0.000361    0.000361  \n",
       "3580   2003          4        1              2.0  right  0.000243    0.000243  \n",
       "1974   2000          3        3              3.0   left -0.000051    0.000051  \n",
       "\n",
       "[18954 rows x 28 columns]"
      ]
     },
     "execution_count": 1,
     "metadata": {},
     "output_type": "execute_result"
    }
   ],
   "source": [
    "# Get data\n",
    "import pandas as pd\n",
    "\n",
    "data_inc = pd.read_csv(f\"{directory_path}/data/preprocessed/modelling_data/final/incomplete_dates_1997_2022.csv\").drop(columns = ['Unnamed: 0'])\n",
    "data_comp = pd.read_csv(f\"{directory_path}/data/preprocessed/modelling_data/final/complete_dates_1997_2022.csv\").drop(columns = ['Unnamed: 0'])\n",
    "\n",
    "# Making columns year, month and day, quarter\n",
    "data_inc['Date'] = pd.to_datetime(data_inc['Date'])\n",
    "data_comp['Date'] = pd.to_datetime(data_comp['Date'])\n",
    "\n",
    "data_inc['Year'] = data_inc['Date'].dt.year\n",
    "data_inc['Month'] = data_inc['Date'].dt.month\n",
    "data_inc['DayOfWeek'] = data_inc['Date'].dt.dayofweek  # Monday=0, Sunday=6\n",
    "data_inc['Quarter'] = data_inc['Date'].dt.quarter\n",
    "\n",
    "data_comp['Year'] = data_comp['Date'].dt.year\n",
    "data_comp['Month'] = data_comp['Date'].dt.month\n",
    "data_comp['DayOfWeek'] = data_comp['Date'].dt.dayofweek  # Monday=0, Sunday=6\n",
    "data_comp['Quarter'] = data_comp['Date'].dt.quarter\n",
    "\n",
    "# Replacing commas in the parlgov cols - theyre numeric vars\n",
    "data_inc['left_right'] = data_inc['left_right'].str.replace(',', '.').astype('float')\n",
    "data_comp['left_right'] = data_comp['left_right'].str.replace(',', '.').astype('float')\n",
    "\n",
    "data_inc['liberty_authority'] = data_inc['liberty_authority'].str.replace(',', '.').astype('float')\n",
    "data_comp['liberty_authority'] = data_comp['liberty_authority'].str.replace(',', '.').astype('float')\n",
    "\n",
    "data_inc['eu_anti_pro'] = data_inc['eu_anti_pro'].str.replace(',', '.').astype('float')\n",
    "data_comp['eu_anti_pro'] = data_comp['eu_anti_pro'].str.replace(',', '.').astype('float')\n",
    "\n",
    "data_inc['state_market'] = data_inc['state_market'].str.replace(',', '.').astype('float')\n",
    "data_comp['state_market'] = data_comp['state_market'].str.replace(',', '.').astype('float')\n",
    " \n",
    "# Defining lection dates\n",
    "election_dates = [\n",
    "    pd.Timestamp('1994-09-21'),\n",
    "    pd.Timestamp('1998-03-11'),\n",
    "    pd.Timestamp('2001-11-20'),\n",
    "    pd.Timestamp('2005-02-08'),\n",
    "    pd.Timestamp('2007-11-13'),\n",
    "    pd.Timestamp('2011-09-15'),\n",
    "    pd.Timestamp('2015-06-18'),\n",
    "    pd.Timestamp('2019-06-05'),\n",
    "    pd.Timestamp('2022-11-01')  # Include this date even if unsure about data coverage\n",
    "]\n",
    "\n",
    "# Setting types for both dfs\n",
    "\n",
    "# - CATEGORICAL\n",
    "# Party names\n",
    "data_inc['Party_Name'] = data_inc['Party_Name'].astype('category')\n",
    "data_comp['Party_Name'] = data_comp['Party_Name'].astype('category')\n",
    "\n",
    "# Government status\n",
    "data_inc['government_status'] = data_inc['government_status'].astype('category')\n",
    "data_comp['government_status'] = data_comp['government_status'].astype('category')\n",
    "data_inc['government_status_finegrained'] = data_inc['government_status_finegrained'].astype('category')\n",
    "data_comp['government_status_finegrained'] = data_comp['government_status_finegrained'].astype('category')\n",
    "\n",
    "# Party Family\n",
    "data_inc['family_name'] = data_inc['family_name'].astype('category')\n",
    "data_comp['family_name'] = data_comp['family_name'].astype('category')\n",
    "\n",
    "\n",
    "# - NUMERIC\n",
    "# Days until / since\n",
    "data_inc['days_until_election'] = pd.to_numeric(data_inc['days_until_election'], errors='coerce')\n",
    "data_comp['days_until_election'] = pd.to_numeric(data_comp['days_until_election'], errors='coerce')\n",
    "\n",
    "data_inc['days_since_election'] = pd.to_numeric(data_inc['days_since_election'], errors='coerce')\n",
    "data_comp['days_since_election'] = pd.to_numeric(data_comp['days_since_election'], errors='coerce')\n",
    "\n",
    "data_inc['days_until_election_2'] = pd.to_numeric(data_inc['days_until_election_2'], errors='coerce')\n",
    "data_comp['days_until_election_2'] = pd.to_numeric(data_comp['days_until_election_2'], errors='coerce')\n",
    "\n",
    "data_inc['days_since_election_2'] = pd.to_numeric(data_inc['days_since_election_2'], errors='coerce')\n",
    "data_comp['days_since_election_2'] = pd.to_numeric(data_comp['days_since_election_2'], errors='coerce')\n",
    "\n",
    "# Distances - raw\n",
    "data_inc['euclidean_dist_from_dynamic'] = pd.to_numeric(data_inc['euclidean_dist_from_dynamic'], errors='coerce')\n",
    "data_comp['euclidean_dist_from_dynamic'] = pd.to_numeric(data_comp['euclidean_dist_from_dynamic'], errors='coerce')\n",
    "\n",
    "data_inc['euclidean_dist_to_dynamic'] = pd.to_numeric(data_inc['euclidean_dist_to_dynamic'], errors='coerce')\n",
    "data_comp['euclidean_dist_to_dynamic'] = pd.to_numeric(data_comp['euclidean_dist_to_dynamic'], errors='coerce')\n",
    "\n",
    "data_inc['cosine_similarity_from_dynamic'] = pd.to_numeric(data_inc['cosine_similarity_from_dynamic'], errors='coerce')\n",
    "data_comp['cosine_similarity_from_dynamic'] = pd.to_numeric(data_comp['cosine_similarity_from_dynamic'], errors='coerce')\n",
    "\n",
    "data_inc['cosine_similarity_to_dynamic'] = pd.to_numeric(data_inc['cosine_similarity_to_dynamic'], errors='coerce')\n",
    "data_comp['cosine_similarity_to_dynamic'] = pd.to_numeric(data_comp['cosine_similarity_to_dynamic'], errors='coerce')\n",
    "\n",
    "# Distances - pca\n",
    "data_inc['euclidean_pca_dist_from_dynamic'] = pd.to_numeric(data_inc['euclidean_pca_dist_from_dynamic'], errors='coerce')\n",
    "data_comp['euclidean_pca_dist_from_dynamic'] = pd.to_numeric(data_comp['euclidean_pca_dist_from_dynamic'], errors='coerce')\n",
    "\n",
    "data_inc['euclidean_pca_dist_to_dynamic'] = pd.to_numeric(data_inc['euclidean_pca_dist_to_dynamic'], errors='coerce')\n",
    "data_comp['euclidean_pca_dist_to_dynamic'] = pd.to_numeric(data_comp['euclidean_pca_dist_to_dynamic'], errors='coerce')\n",
    "\n",
    "\n",
    "# Seats\n",
    "data_inc['seats'] = pd.to_numeric(data_inc['seats'], errors='coerce')\n",
    "data_comp['seats'] = pd.to_numeric(data_comp['seats'], errors='coerce')\n",
    "\n",
    "# Misc\n",
    "data_inc['left_right'] = pd.to_numeric(data_inc['left_right'], errors='coerce')\n",
    "data_comp['left_right'] = pd.to_numeric(data_comp['left_right'], errors='coerce')\n",
    "\n",
    "data_inc['liberty_authority'] = pd.to_numeric(data_inc['liberty_authority'], errors='coerce')\n",
    "data_comp['liberty_authority'] = pd.to_numeric(data_comp['liberty_authority'], errors='coerce')\n",
    "\n",
    "data_inc['eu_anti_pro'] = pd.to_numeric(data_inc['eu_anti_pro'], errors='coerce')\n",
    "data_comp['eu_anti_pro'] = pd.to_numeric(data_comp['eu_anti_pro'], errors='coerce')\n",
    "\n",
    "data_inc['state_market'] = pd.to_numeric(data_inc['state_market'], errors='coerce')\n",
    "data_comp['state_market'] = pd.to_numeric(data_comp['state_market'], errors='coerce')\n",
    "\n",
    "# See range\n",
    "print(\"Euclidean range:\")\n",
    "print(min(data_inc['euclidean_dist_from_dynamic']))\n",
    "print(max(data_inc['euclidean_dist_from_dynamic']))\n",
    "\n",
    "print(\"Cosine range:\")\n",
    "print(min(data_inc['cosine_similarity_from_dynamic']))\n",
    "print(max(data_inc['cosine_similarity_from_dynamic']))\n",
    "\n",
    "# Subset for modelling\n",
    "print(\"Subsetting for modelling...\")\n",
    "\n",
    "columns_to_include = [\n",
    "    'Party_Name', \n",
    "    'government_status', \n",
    "    'government_status_finegrained', \n",
    "    'family_name',\n",
    "    'days_until_election', \n",
    "    'days_since_election', \n",
    "    'days_until_election_2', \n",
    "    'days_since_election_2',\n",
    "    'seats', \n",
    "    'left_right', \n",
    "    'liberty_authority', \n",
    "    'eu_anti_pro', \n",
    "    'state_market',\n",
    "\n",
    "    'euclidean_dist_from_dynamic',\n",
    "    'euclidean_dist_to_dynamic', \n",
    "\n",
    "    'euclidean_pca_dist_from_dynamic',\n",
    "    'euclidean_pca_dist_to_dynamic',\n",
    "    \n",
    "    'cosine_similarity_from_dynamic',\n",
    "    'cosine_similarity_to_dynamic',\n",
    "\n",
    "    'Date',\n",
    "    'Month',\n",
    "    'Year',\n",
    "    'DayOfWeek',\n",
    "    'Quarter' # not the political quarter\n",
    "]\n",
    "\n",
    "data_inc_subset = data_inc[columns_to_include]\n",
    "data_comp_subset = data_comp[columns_to_include]\n",
    "\n",
    "# - Assigning political quarter numbers\n",
    "# Defining 6 election cycles with start and end dates\n",
    "election_cycles = [\n",
    "    ('1998-03-12', '2001-11-20'),\n",
    "    ('2001-11-21', '2005-02-08'),\n",
    "    ('2005-02-09', '2007-11-13'),\n",
    "    ('2007-11-14', '2011-09-15'),\n",
    "    ('2011-09-16', '2015-06-18'),\n",
    "    ('2015-06-19', '2019-06-05'),  # Holdout test set\n",
    "]\n",
    "\n",
    "# Convert election cycle dates to datetime objects\n",
    "election_cycles_dt = [(pd.to_datetime(start), pd.to_datetime(end)) for start, end in election_cycles]\n",
    "\n",
    "# Function to assign quarter number to each row\n",
    "def assign_quarter_number(row):\n",
    "    date = pd.to_datetime(row['Date'])\n",
    "    for i, (start, end) in enumerate(election_cycles_dt, start=1):\n",
    "        if start <= date <= end:\n",
    "            cycle_duration = (end - start).days + 1  # Total days in the cycle\n",
    "            days_passed = (date - start).days + 1    # Days passed since the start of the cycle\n",
    "            quarter_num = int(days_passed / (cycle_duration / 4)) + 1\n",
    "            return quarter_num if quarter_num <= 4 else quarter_num % 4\n",
    "    return None  # If date doesn't fall within any election cycle\n",
    "\n",
    "data_comp_subset['PolQuarter_numb'] = data_comp_subset.apply(assign_quarter_number, axis=1)\n",
    "data_inc_subset['PolQuarter_numb'] = data_inc_subset.apply(assign_quarter_number, axis=1)\n",
    "\n",
    "# Print unique pol quarters\n",
    "print(data_comp_subset['PolQuarter_numb'].unique())\n",
    "print(data_inc_subset['PolQuarter_numb'].unique())\n",
    "\n",
    "# First: correcting this: replace 'minority government' with 'coalition' if any ones are still there\n",
    "data_inc_subset['government_status'] = data_inc['government_status'].replace('minority government', 'coalition')\n",
    "data_comp_subset['government_status'] = data_comp['government_status'].replace('minority government', 'coalition')\n",
    "\n",
    "# Range of dates\n",
    "print(\"Dates for complete dataset (all rows for all calendar days):\")\n",
    "print(min(data_comp_subset['Date']))\n",
    "print(max(data_comp_subset['Date']))\n",
    "\n",
    "print(\"Dates for incomplete dataset:\")\n",
    "print(min(data_inc_subset['Date']))\n",
    "print(max(data_inc_subset['Date']))\n",
    "\n",
    "import numpy as np\n",
    "from scipy.stats import zscore\n",
    "\n",
    "# Function to add z-score and absolute z-score columns and sort the df\n",
    "def add_zscore_columns(df, column):\n",
    "    # Calculate z-scores\n",
    "    df['z_score'] = zscore(df[column], nan_policy='omit')\n",
    "    # Calculate absolute z-scores\n",
    "    df['abs_z_score'] = np.abs(df['z_score'])\n",
    "    # Sort values by absolute z-score\n",
    "    df = df.sort_values(by='abs_z_score', ascending=False)\n",
    "    return df\n",
    "\n",
    "# Apply the function to df\n",
    "data_inc_subset = add_zscore_columns(data_inc_subset, 'euclidean_dist_from_dynamic')\n",
    "data_comp_subset = add_zscore_columns(data_comp_subset, 'euclidean_dist_from_dynamic')\n",
    "\n",
    "# Filter the df to keep rows where the absolute z-score is below or exactly 8\n",
    "data_inc_subset = data_inc_subset[data_inc_subset['abs_z_score'] <= 8]\n",
    "data_comp_subset = data_comp_subset[data_comp_subset['abs_z_score'] <= 8]\n",
    "\n",
    "# See range\n",
    "print(\"Euclidean range post outlier removal:\")\n",
    "print(min(data_inc_subset['euclidean_dist_from_dynamic']))\n",
    "print(max(data_inc_subset['euclidean_dist_from_dynamic']))\n",
    "\n",
    "print(\"Cosine range:\")\n",
    "print(min(data_inc_subset['cosine_similarity_from_dynamic']))\n",
    "print(max(data_inc_subset['cosine_similarity_from_dynamic']))\n",
    "\n",
    "# Take a look at one of them\n",
    "data_inc_subset\n"
   ]
  },
  {
   "cell_type": "code",
   "execution_count": 2,
   "metadata": {},
   "outputs": [
    {
     "data": {
      "text/plain": [
       "['days_until_election',\n",
       " 'days_since_election',\n",
       " 'days_until_election_2',\n",
       " 'days_since_election_2',\n",
       " 'seats',\n",
       " 'left_right',\n",
       " 'liberty_authority',\n",
       " 'eu_anti_pro',\n",
       " 'state_market',\n",
       " 'government_status_coalition',\n",
       " 'government_status_opposition',\n",
       " 'government_status_support',\n",
       " 'PolQuarter_numb_1.0',\n",
       " 'PolQuarter_numb_2.0',\n",
       " 'PolQuarter_numb_3.0',\n",
       " 'PolQuarter_numb_4.0',\n",
       " 'block_left',\n",
       " 'block_right']"
      ]
     },
     "execution_count": 2,
     "metadata": {},
     "output_type": "execute_result"
    }
   ],
   "source": [
    "import pandas as pd\n",
    "import numpy as np\n",
    "from itertools import combinations\n",
    "from sklearn.preprocessing import StandardScaler\n",
    "from sklearn.impute import SimpleImputer\n",
    "from sklearn.metrics import mean_squared_error, mean_absolute_error, r2_score\n",
    "from sklearn.ensemble import RandomForestRegressor\n",
    "from sklearn.linear_model import LinearRegression\n",
    "from sklearn.model_selection import GridSearchCV, ParameterGrid\n",
    "import matplotlib.pyplot as plt\n",
    "from xgboost import XGBRegressor\n",
    "from keras.models import Sequential\n",
    "from keras.layers import LSTM, Dense, Input\n",
    "from keras.callbacks import EarlyStopping\n",
    "\n",
    "# Defining 6 election cycles with start and end dates\n",
    "election_cycles = [\n",
    "    ('1998-03-12', '2001-11-20'),\n",
    "    ('2001-11-21', '2005-02-08'),\n",
    "    ('2005-02-09', '2007-11-13'),\n",
    "    ('2007-11-14', '2011-09-15'),\n",
    "    ('2011-09-16', '2015-06-18'),\n",
    "    ('2015-06-19', '2019-06-05'),  # Holdout test set\n",
    "]\n",
    "\n",
    "# Convert to datetime\n",
    "election_cycles = [(pd.Timestamp(start), pd.Timestamp(end)) for start, end in election_cycles]\n",
    "\n",
    "# Prepare the data by dropping NaNs\n",
    "data_comp_subset_clean = data_comp_subset.dropna(subset=['euclidean_dist_from_dynamic'])\n",
    "data_comp_subset_clean.reset_index(drop=True, inplace=True)\n",
    "\n",
    "# Ensure data is sorted by Date\n",
    "data_comp_subset_clean = data_comp_subset_clean.sort_values(by='Date')\n",
    "\n",
    "# Define the start and end dates for delimiting the data\n",
    "start_date = pd.Timestamp('1998-03-12') # FIRST CYCLE STARTS\n",
    "end_date = pd.Timestamp('2019-06-05')   # LAST CYCLE ENDS\n",
    "\n",
    "# Filter data to include only rows within the specified range\n",
    "data_comp_subset_clean = data_comp_subset_clean[(data_comp_subset_clean['Date'] >= start_date) & (data_comp_subset_clean['Date'] <= end_date)]\n",
    "\n",
    "data_comp_subset_clean.reset_index(drop=True, inplace=True)  \n",
    "\n",
    "\n",
    "# Define the features and target\n",
    "features = ['days_until_election',\n",
    "            'days_since_election',\n",
    "            'days_until_election_2',\n",
    "            'days_since_election_2',\n",
    "\n",
    "            'seats',\n",
    "            'state_market',\n",
    "            'government_status',\n",
    "            'PolQuarter_numb',\n",
    "            'block',\n",
    "            'block'\n",
    "\n",
    "            # -- Variables from ParlGov that are interesting, but not tested herein\n",
    "            #'left_right',\n",
    "            #'liberty_authority',\n",
    "            #'eu_anti_pro',\n",
    "            \n",
    "            ]\n",
    "\n",
    "# Defining the target\n",
    "target = 'euclidean_dist_from_dynamic'\n",
    "\n",
    "# One-hot encode categorical data\n",
    "data_comp_subset_clean = pd.get_dummies(data_comp_subset_clean, columns=['government_status', \n",
    "                                                                         'PolQuarter_numb', \n",
    "                                                                         'block'], drop_first=False)\n",
    "\n",
    "# Update features list after encoding\n",
    "# Excluding some columns in the data that shouldn't be included in the flow from here\n",
    "features = [col for col in data_comp_subset_clean.columns if col not in ['euclidean_dist_from_dynamic', \n",
    "                                                                         'Party_Name',\n",
    "                                                                         'family_name',\n",
    "                                                                         'government_status_finegrained', # Not testing due to too high imbalance across levels\n",
    "                                                                         'Date',\n",
    "                                                                         'Month', \n",
    "                                                                         'DayOfWeek', \n",
    "                                                                         'Year',\n",
    "                                                                         'Quarter',\n",
    "\n",
    "                                                                         'euclidean_dist_to_dynamic',\n",
    "                                                                         'euclidean_pca_dist_from_dynamic',\n",
    "                                                                         'euclidean_pca_dist_to_dynamic',\n",
    "                                                                         'cosine_similarity_from_dynamic',\n",
    "                                                                         'cosine_similarity_to_dynamic',\n",
    "                                                                         'Sequential_Quarter',\n",
    "\n",
    "                                                                        'z_score',\n",
    "                                                                        'abs_z_score'\n",
    "                                                                         ]]\n",
    "\n",
    "# Convert any non-numeric columns to numeric\n",
    "for feature in features:\n",
    "    data_comp_subset_clean[feature] = pd.to_numeric(data_comp_subset_clean[feature], errors='coerce')\n",
    "\n",
    "# Scale the features\n",
    "scaler = StandardScaler()\n",
    "data_comp_subset_clean[features] = scaler.fit_transform(data_comp_subset_clean[features])\n",
    "\n",
    "# Take a look at what we have to use to predict alignment\n",
    "features"
   ]
  },
  {
   "cell_type": "markdown",
   "metadata": {},
   "source": [
    "# Blocked Cycle Based \n",
    "1) Cross-validation: Train on the first 4 cycles, validate on the 5th.\n",
    "2) Select the best models based on RMSE.\n",
    "3) Retrain the best models on cycles 1-5.\n",
    "4) Test on the holdout cycle (cycle 6)."
   ]
  },
  {
   "cell_type": "code",
   "execution_count": 44,
   "metadata": {},
   "outputs": [
    {
     "data": {
      "text/plain": [
       "0       NaN\n",
       "1       NaN\n",
       "2       NaN\n",
       "3       NaN\n",
       "4       NaN\n",
       "         ..\n",
       "15641   NaN\n",
       "15642   NaN\n",
       "15643   NaN\n",
       "15644   NaN\n",
       "15645   NaN\n",
       "Name: block, Length: 15646, dtype: float64"
      ]
     },
     "execution_count": 44,
     "metadata": {},
     "output_type": "execute_result"
    }
   ],
   "source": [
    "\n",
    "# # Define the lists of columns\n",
    "# columns_set1 = ['seats', 'government_status_coalition', 'government_status_opposition', 'government_status_support', 'block_left','block_right']\n",
    "# columns_set2 = ['days_since_election', 'seats', 'government_status_coalition', 'government_status_opposition', 'government_status_support', 'Party_Name']\n",
    "# columns_set2 = ['days_since_election','seats','government_status_coalition', 'government_status_opposition', 'government_status_support', \n",
    "#  'Party_Name_Dansk Folkeparti',\n",
    "#  'Party_Name_Det Radikale Venstre',\n",
    "#  'Party_Name_Enhedslisten',\n",
    "#  'Party_Name_Konservative Folkeparti',\n",
    "#  'Party_Name_Liberal Alliance',\n",
    "#  'Party_Name_Socialdemokratiet',\n",
    "#  'Party_Name_Socialistisk Folkeparti',\n",
    "#  'Party_Name_Venstre']\n",
    "\n",
    "# # Identify rows with NaN values in the first set of columns\n",
    "# rows_with_nan_set1 = data_comp_subset_clean[columns_set1].isna().any(axis=1)\n",
    "# nan_rows_set1_df = data_comp_subset_clean[rows_with_nan_set1]\n",
    "\n",
    "# # Identify rows with NaN values in the second set of columns\n",
    "# rows_with_nan_set2 = data_comp_subset_clean[columns_set2].isna().any(axis=1)\n",
    "# nan_rows_set2_df = data_comp_subset_clean[rows_with_nan_set2]\n",
    "\n",
    "# nan_rows_set2_df\n",
    "# nan_rows_set1_df['block']"
   ]
  },
  {
   "cell_type": "code",
   "execution_count": 3,
   "metadata": {},
   "outputs": [
    {
     "name": "stdout",
     "output_type": "stream",
     "text": [
      "Tuning RandomForest model...\n"
     ]
    },
    {
     "name": "stderr",
     "output_type": "stream",
     "text": [
      "Tuning RandomForest:   0%|          | 0/54 [00:00<?, ?it/s]"
     ]
    },
    {
     "name": "stdout",
     "output_type": "stream",
     "text": [
      "Evaluating: Feature Subset: ['days_since_election', 'seats'], Params: {'n_estimators': 50, 'max_depth': 10}\n",
      "Training on cycles 1 to 4, Validating on cycle 5\n"
     ]
    },
    {
     "name": "stderr",
     "output_type": "stream",
     "text": [
      "Tuning RandomForest:   2%|▏         | 1/54 [00:00<00:50,  1.05it/s]"
     ]
    },
    {
     "name": "stdout",
     "output_type": "stream",
     "text": [
      "Training on cycles 1 to 4, Validating on cycle 5\n",
      "Evaluating: Feature Subset: ['days_since_election', 'seats'], Params: {'n_estimators': 50, 'max_depth': 15}\n",
      "Training on cycles 1 to 4, Validating on cycle 5\n"
     ]
    },
    {
     "name": "stderr",
     "output_type": "stream",
     "text": [
      "Tuning RandomForest:   4%|▎         | 2/54 [00:02<00:55,  1.07s/it]"
     ]
    },
    {
     "name": "stdout",
     "output_type": "stream",
     "text": [
      "Training on cycles 1 to 4, Validating on cycle 5\n",
      "Evaluating: Feature Subset: ['days_since_election', 'seats'], Params: {'n_estimators': 50, 'max_depth': 20}\n",
      "Training on cycles 1 to 4, Validating on cycle 5\n"
     ]
    },
    {
     "name": "stderr",
     "output_type": "stream",
     "text": [
      "Tuning RandomForest:   6%|▌         | 3/54 [00:03<01:00,  1.18s/it]"
     ]
    },
    {
     "name": "stdout",
     "output_type": "stream",
     "text": [
      "Training on cycles 1 to 4, Validating on cycle 5\n",
      "Evaluating: Feature Subset: ['days_since_election', 'seats'], Params: {'n_estimators': 100, 'max_depth': 10}\n",
      "Training on cycles 1 to 4, Validating on cycle 5\n"
     ]
    },
    {
     "name": "stderr",
     "output_type": "stream",
     "text": [
      "Tuning RandomForest:   7%|▋         | 4/54 [00:05<01:09,  1.40s/it]"
     ]
    },
    {
     "name": "stdout",
     "output_type": "stream",
     "text": [
      "Training on cycles 1 to 4, Validating on cycle 5\n",
      "Evaluating: Feature Subset: ['days_since_election', 'seats'], Params: {'n_estimators': 100, 'max_depth': 15}\n",
      "Training on cycles 1 to 4, Validating on cycle 5\n"
     ]
    },
    {
     "name": "stderr",
     "output_type": "stream",
     "text": [
      "Tuning RandomForest:   9%|▉         | 5/54 [00:07<01:27,  1.78s/it]"
     ]
    },
    {
     "name": "stdout",
     "output_type": "stream",
     "text": [
      "Training on cycles 1 to 4, Validating on cycle 5\n",
      "Evaluating: Feature Subset: ['days_since_election', 'seats'], Params: {'n_estimators': 100, 'max_depth': 20}\n",
      "Training on cycles 1 to 4, Validating on cycle 5\n"
     ]
    },
    {
     "name": "stderr",
     "output_type": "stream",
     "text": [
      "Tuning RandomForest:  11%|█         | 6/54 [00:10<01:42,  2.13s/it]"
     ]
    },
    {
     "name": "stdout",
     "output_type": "stream",
     "text": [
      "Training on cycles 1 to 4, Validating on cycle 5\n",
      "Evaluating: Feature Subset: ['days_since_election', 'seats'], Params: {'n_estimators': 200, 'max_depth': 10}\n",
      "Training on cycles 1 to 4, Validating on cycle 5\n"
     ]
    },
    {
     "name": "stderr",
     "output_type": "stream",
     "text": [
      "Tuning RandomForest:  13%|█▎        | 7/54 [00:14<02:06,  2.70s/it]"
     ]
    },
    {
     "name": "stdout",
     "output_type": "stream",
     "text": [
      "Training on cycles 1 to 4, Validating on cycle 5\n",
      "Evaluating: Feature Subset: ['days_since_election', 'seats'], Params: {'n_estimators': 200, 'max_depth': 15}\n",
      "Training on cycles 1 to 4, Validating on cycle 5\n"
     ]
    },
    {
     "name": "stderr",
     "output_type": "stream",
     "text": [
      "Tuning RandomForest:  15%|█▍        | 8/54 [00:18<02:31,  3.29s/it]"
     ]
    },
    {
     "name": "stdout",
     "output_type": "stream",
     "text": [
      "Training on cycles 1 to 4, Validating on cycle 5\n",
      "Evaluating: Feature Subset: ['days_since_election', 'seats'], Params: {'n_estimators': 200, 'max_depth': 20}\n",
      "Training on cycles 1 to 4, Validating on cycle 5\n"
     ]
    },
    {
     "name": "stderr",
     "output_type": "stream",
     "text": [
      "Tuning RandomForest:  17%|█▋        | 9/54 [00:24<03:03,  4.09s/it]"
     ]
    },
    {
     "name": "stdout",
     "output_type": "stream",
     "text": [
      "Training on cycles 1 to 4, Validating on cycle 5\n",
      "Evaluating: Feature Subset: ['seats', 'government_status_coalition', 'government_status_opposition', 'government_status_support'], Params: {'n_estimators': 50, 'max_depth': 10}\n",
      "Training on cycles 1 to 4, Validating on cycle 5\n"
     ]
    },
    {
     "name": "stderr",
     "output_type": "stream",
     "text": [
      "Tuning RandomForest:  19%|█▊        | 10/54 [00:24<02:08,  2.91s/it]"
     ]
    },
    {
     "name": "stdout",
     "output_type": "stream",
     "text": [
      "Training on cycles 1 to 4, Validating on cycle 5\n",
      "Evaluating: Feature Subset: ['seats', 'government_status_coalition', 'government_status_opposition', 'government_status_support'], Params: {'n_estimators': 50, 'max_depth': 15}\n",
      "Training on cycles 1 to 4, Validating on cycle 5\n"
     ]
    },
    {
     "name": "stderr",
     "output_type": "stream",
     "text": [
      "Tuning RandomForest:  20%|██        | 11/54 [00:25<01:30,  2.10s/it]"
     ]
    },
    {
     "name": "stdout",
     "output_type": "stream",
     "text": [
      "Training on cycles 1 to 4, Validating on cycle 5\n",
      "Evaluating: Feature Subset: ['seats', 'government_status_coalition', 'government_status_opposition', 'government_status_support'], Params: {'n_estimators': 50, 'max_depth': 20}\n",
      "Training on cycles 1 to 4, Validating on cycle 5\n"
     ]
    },
    {
     "name": "stderr",
     "output_type": "stream",
     "text": [
      "Tuning RandomForest:  22%|██▏       | 12/54 [00:25<01:04,  1.55s/it]"
     ]
    },
    {
     "name": "stdout",
     "output_type": "stream",
     "text": [
      "Training on cycles 1 to 4, Validating on cycle 5\n",
      "Evaluating: Feature Subset: ['seats', 'government_status_coalition', 'government_status_opposition', 'government_status_support'], Params: {'n_estimators': 100, 'max_depth': 10}\n",
      "Training on cycles 1 to 4, Validating on cycle 5\n"
     ]
    },
    {
     "name": "stderr",
     "output_type": "stream",
     "text": [
      "Tuning RandomForest:  24%|██▍       | 13/54 [00:26<00:51,  1.25s/it]"
     ]
    },
    {
     "name": "stdout",
     "output_type": "stream",
     "text": [
      "Training on cycles 1 to 4, Validating on cycle 5\n",
      "Evaluating: Feature Subset: ['seats', 'government_status_coalition', 'government_status_opposition', 'government_status_support'], Params: {'n_estimators': 100, 'max_depth': 15}\n",
      "Training on cycles 1 to 4, Validating on cycle 5\n"
     ]
    },
    {
     "name": "stderr",
     "output_type": "stream",
     "text": [
      "Tuning RandomForest:  26%|██▌       | 14/54 [00:26<00:41,  1.03s/it]"
     ]
    },
    {
     "name": "stdout",
     "output_type": "stream",
     "text": [
      "Training on cycles 1 to 4, Validating on cycle 5\n",
      "Evaluating: Feature Subset: ['seats', 'government_status_coalition', 'government_status_opposition', 'government_status_support'], Params: {'n_estimators': 100, 'max_depth': 20}\n",
      "Training on cycles 1 to 4, Validating on cycle 5\n"
     ]
    },
    {
     "name": "stderr",
     "output_type": "stream",
     "text": [
      "Tuning RandomForest:  28%|██▊       | 15/54 [00:27<00:34,  1.14it/s]"
     ]
    },
    {
     "name": "stdout",
     "output_type": "stream",
     "text": [
      "Training on cycles 1 to 4, Validating on cycle 5\n",
      "Evaluating: Feature Subset: ['seats', 'government_status_coalition', 'government_status_opposition', 'government_status_support'], Params: {'n_estimators': 200, 'max_depth': 10}\n",
      "Training on cycles 1 to 4, Validating on cycle 5\n"
     ]
    },
    {
     "name": "stderr",
     "output_type": "stream",
     "text": [
      "Tuning RandomForest:  30%|██▉       | 16/54 [00:28<00:35,  1.07it/s]"
     ]
    },
    {
     "name": "stdout",
     "output_type": "stream",
     "text": [
      "Training on cycles 1 to 4, Validating on cycle 5\n",
      "Evaluating: Feature Subset: ['seats', 'government_status_coalition', 'government_status_opposition', 'government_status_support'], Params: {'n_estimators': 200, 'max_depth': 15}\n",
      "Training on cycles 1 to 4, Validating on cycle 5\n"
     ]
    },
    {
     "name": "stderr",
     "output_type": "stream",
     "text": [
      "Tuning RandomForest:  31%|███▏      | 17/54 [00:29<00:35,  1.03it/s]"
     ]
    },
    {
     "name": "stdout",
     "output_type": "stream",
     "text": [
      "Training on cycles 1 to 4, Validating on cycle 5\n",
      "Evaluating: Feature Subset: ['seats', 'government_status_coalition', 'government_status_opposition', 'government_status_support'], Params: {'n_estimators': 200, 'max_depth': 20}\n",
      "Training on cycles 1 to 4, Validating on cycle 5\n"
     ]
    },
    {
     "name": "stderr",
     "output_type": "stream",
     "text": [
      "Tuning RandomForest:  33%|███▎      | 18/54 [00:30<00:36,  1.03s/it]"
     ]
    },
    {
     "name": "stdout",
     "output_type": "stream",
     "text": [
      "Training on cycles 1 to 4, Validating on cycle 5\n",
      "Evaluating: Feature Subset: ['seats', 'government_status_coalition', 'government_status_opposition', 'government_status_support', 'block_left', 'block_right'], Params: {'n_estimators': 50, 'max_depth': 10}\n",
      "Training on cycles 1 to 4, Validating on cycle 5\n"
     ]
    },
    {
     "name": "stderr",
     "output_type": "stream",
     "text": [
      "Tuning RandomForest:  35%|███▌      | 19/54 [00:30<00:28,  1.23it/s]"
     ]
    },
    {
     "name": "stdout",
     "output_type": "stream",
     "text": [
      "Training on cycles 1 to 4, Validating on cycle 5\n",
      "Evaluating: Feature Subset: ['seats', 'government_status_coalition', 'government_status_opposition', 'government_status_support', 'block_left', 'block_right'], Params: {'n_estimators': 50, 'max_depth': 15}\n",
      "Training on cycles 1 to 4, Validating on cycle 5\n"
     ]
    },
    {
     "name": "stderr",
     "output_type": "stream",
     "text": [
      "Tuning RandomForest:  37%|███▋      | 20/54 [00:31<00:23,  1.47it/s]"
     ]
    },
    {
     "name": "stdout",
     "output_type": "stream",
     "text": [
      "Training on cycles 1 to 4, Validating on cycle 5\n",
      "Evaluating: Feature Subset: ['seats', 'government_status_coalition', 'government_status_opposition', 'government_status_support', 'block_left', 'block_right'], Params: {'n_estimators': 50, 'max_depth': 20}\n",
      "Training on cycles 1 to 4, Validating on cycle 5\n"
     ]
    },
    {
     "name": "stderr",
     "output_type": "stream",
     "text": [
      "Tuning RandomForest:  39%|███▉      | 21/54 [00:31<00:19,  1.71it/s]"
     ]
    },
    {
     "name": "stdout",
     "output_type": "stream",
     "text": [
      "Training on cycles 1 to 4, Validating on cycle 5\n",
      "Evaluating: Feature Subset: ['seats', 'government_status_coalition', 'government_status_opposition', 'government_status_support', 'block_left', 'block_right'], Params: {'n_estimators': 100, 'max_depth': 10}\n",
      "Training on cycles 1 to 4, Validating on cycle 5\n"
     ]
    },
    {
     "name": "stderr",
     "output_type": "stream",
     "text": [
      "Tuning RandomForest:  41%|████      | 22/54 [00:32<00:22,  1.45it/s]"
     ]
    },
    {
     "name": "stdout",
     "output_type": "stream",
     "text": [
      "Training on cycles 1 to 4, Validating on cycle 5\n",
      "Evaluating: Feature Subset: ['seats', 'government_status_coalition', 'government_status_opposition', 'government_status_support', 'block_left', 'block_right'], Params: {'n_estimators': 100, 'max_depth': 15}\n",
      "Training on cycles 1 to 4, Validating on cycle 5\n"
     ]
    },
    {
     "name": "stderr",
     "output_type": "stream",
     "text": [
      "Tuning RandomForest:  43%|████▎     | 23/54 [00:33<00:21,  1.44it/s]"
     ]
    },
    {
     "name": "stdout",
     "output_type": "stream",
     "text": [
      "Training on cycles 1 to 4, Validating on cycle 5\n",
      "Evaluating: Feature Subset: ['seats', 'government_status_coalition', 'government_status_opposition', 'government_status_support', 'block_left', 'block_right'], Params: {'n_estimators': 100, 'max_depth': 20}\n",
      "Training on cycles 1 to 4, Validating on cycle 5\n"
     ]
    },
    {
     "name": "stderr",
     "output_type": "stream",
     "text": [
      "Tuning RandomForest:  44%|████▍     | 24/54 [00:33<00:21,  1.42it/s]"
     ]
    },
    {
     "name": "stdout",
     "output_type": "stream",
     "text": [
      "Training on cycles 1 to 4, Validating on cycle 5\n",
      "Evaluating: Feature Subset: ['seats', 'government_status_coalition', 'government_status_opposition', 'government_status_support', 'block_left', 'block_right'], Params: {'n_estimators': 200, 'max_depth': 10}\n",
      "Training on cycles 1 to 4, Validating on cycle 5\n"
     ]
    },
    {
     "name": "stderr",
     "output_type": "stream",
     "text": [
      "Tuning RandomForest:  46%|████▋     | 25/54 [00:35<00:25,  1.13it/s]"
     ]
    },
    {
     "name": "stdout",
     "output_type": "stream",
     "text": [
      "Training on cycles 1 to 4, Validating on cycle 5\n",
      "Evaluating: Feature Subset: ['seats', 'government_status_coalition', 'government_status_opposition', 'government_status_support', 'block_left', 'block_right'], Params: {'n_estimators': 200, 'max_depth': 15}\n",
      "Training on cycles 1 to 4, Validating on cycle 5\n"
     ]
    },
    {
     "name": "stderr",
     "output_type": "stream",
     "text": [
      "Tuning RandomForest:  48%|████▊     | 26/54 [00:36<00:28,  1.01s/it]"
     ]
    },
    {
     "name": "stdout",
     "output_type": "stream",
     "text": [
      "Training on cycles 1 to 4, Validating on cycle 5\n",
      "Evaluating: Feature Subset: ['seats', 'government_status_coalition', 'government_status_opposition', 'government_status_support', 'block_left', 'block_right'], Params: {'n_estimators': 200, 'max_depth': 20}\n",
      "Training on cycles 1 to 4, Validating on cycle 5\n"
     ]
    },
    {
     "name": "stderr",
     "output_type": "stream",
     "text": [
      "Tuning RandomForest:  50%|█████     | 27/54 [00:37<00:29,  1.09s/it]"
     ]
    },
    {
     "name": "stdout",
     "output_type": "stream",
     "text": [
      "Training on cycles 1 to 4, Validating on cycle 5\n",
      "Evaluating: Feature Subset: ['days_since_election', 'seats', 'government_status_coalition', 'government_status_opposition', 'government_status_support', 'block_left', 'block_right'], Params: {'n_estimators': 50, 'max_depth': 10}\n",
      "Training on cycles 1 to 4, Validating on cycle 5\n"
     ]
    },
    {
     "name": "stderr",
     "output_type": "stream",
     "text": [
      "Tuning RandomForest:  52%|█████▏    | 28/54 [00:38<00:27,  1.06s/it]"
     ]
    },
    {
     "name": "stdout",
     "output_type": "stream",
     "text": [
      "Training on cycles 1 to 4, Validating on cycle 5\n",
      "Evaluating: Feature Subset: ['days_since_election', 'seats', 'government_status_coalition', 'government_status_opposition', 'government_status_support', 'block_left', 'block_right'], Params: {'n_estimators': 50, 'max_depth': 15}\n",
      "Training on cycles 1 to 4, Validating on cycle 5\n"
     ]
    },
    {
     "name": "stderr",
     "output_type": "stream",
     "text": [
      "Tuning RandomForest:  54%|█████▎    | 29/54 [00:40<00:35,  1.41s/it]"
     ]
    },
    {
     "name": "stdout",
     "output_type": "stream",
     "text": [
      "Training on cycles 1 to 4, Validating on cycle 5\n",
      "Evaluating: Feature Subset: ['days_since_election', 'seats', 'government_status_coalition', 'government_status_opposition', 'government_status_support', 'block_left', 'block_right'], Params: {'n_estimators': 50, 'max_depth': 20}\n",
      "Training on cycles 1 to 4, Validating on cycle 5\n"
     ]
    },
    {
     "name": "stderr",
     "output_type": "stream",
     "text": [
      "Tuning RandomForest:  56%|█████▌    | 30/54 [00:42<00:35,  1.48s/it]"
     ]
    },
    {
     "name": "stdout",
     "output_type": "stream",
     "text": [
      "Training on cycles 1 to 4, Validating on cycle 5\n",
      "Evaluating: Feature Subset: ['days_since_election', 'seats', 'government_status_coalition', 'government_status_opposition', 'government_status_support', 'block_left', 'block_right'], Params: {'n_estimators': 100, 'max_depth': 10}\n",
      "Training on cycles 1 to 4, Validating on cycle 5\n"
     ]
    },
    {
     "name": "stderr",
     "output_type": "stream",
     "text": [
      "Tuning RandomForest:  57%|█████▋    | 31/54 [00:44<00:38,  1.65s/it]"
     ]
    },
    {
     "name": "stdout",
     "output_type": "stream",
     "text": [
      "Training on cycles 1 to 4, Validating on cycle 5\n",
      "Evaluating: Feature Subset: ['days_since_election', 'seats', 'government_status_coalition', 'government_status_opposition', 'government_status_support', 'block_left', 'block_right'], Params: {'n_estimators': 100, 'max_depth': 15}\n",
      "Training on cycles 1 to 4, Validating on cycle 5\n"
     ]
    },
    {
     "name": "stderr",
     "output_type": "stream",
     "text": [
      "Tuning RandomForest:  59%|█████▉    | 32/54 [00:47<00:42,  1.93s/it]"
     ]
    },
    {
     "name": "stdout",
     "output_type": "stream",
     "text": [
      "Training on cycles 1 to 4, Validating on cycle 5\n",
      "Evaluating: Feature Subset: ['days_since_election', 'seats', 'government_status_coalition', 'government_status_opposition', 'government_status_support', 'block_left', 'block_right'], Params: {'n_estimators': 100, 'max_depth': 20}\n",
      "Training on cycles 1 to 4, Validating on cycle 5\n"
     ]
    },
    {
     "name": "stderr",
     "output_type": "stream",
     "text": [
      "Tuning RandomForest:  61%|██████    | 33/54 [00:50<00:47,  2.25s/it]"
     ]
    },
    {
     "name": "stdout",
     "output_type": "stream",
     "text": [
      "Training on cycles 1 to 4, Validating on cycle 5\n",
      "Evaluating: Feature Subset: ['days_since_election', 'seats', 'government_status_coalition', 'government_status_opposition', 'government_status_support', 'block_left', 'block_right'], Params: {'n_estimators': 200, 'max_depth': 10}\n",
      "Training on cycles 1 to 4, Validating on cycle 5\n"
     ]
    },
    {
     "name": "stderr",
     "output_type": "stream",
     "text": [
      "Tuning RandomForest:  63%|██████▎   | 34/54 [00:54<00:54,  2.75s/it]"
     ]
    },
    {
     "name": "stdout",
     "output_type": "stream",
     "text": [
      "Training on cycles 1 to 4, Validating on cycle 5\n",
      "Evaluating: Feature Subset: ['days_since_election', 'seats', 'government_status_coalition', 'government_status_opposition', 'government_status_support', 'block_left', 'block_right'], Params: {'n_estimators': 200, 'max_depth': 15}\n",
      "Training on cycles 1 to 4, Validating on cycle 5\n"
     ]
    },
    {
     "name": "stderr",
     "output_type": "stream",
     "text": [
      "Tuning RandomForest:  65%|██████▍   | 35/54 [00:59<01:07,  3.56s/it]"
     ]
    },
    {
     "name": "stdout",
     "output_type": "stream",
     "text": [
      "Training on cycles 1 to 4, Validating on cycle 5\n",
      "Evaluating: Feature Subset: ['days_since_election', 'seats', 'government_status_coalition', 'government_status_opposition', 'government_status_support', 'block_left', 'block_right'], Params: {'n_estimators': 200, 'max_depth': 20}\n",
      "Training on cycles 1 to 4, Validating on cycle 5\n"
     ]
    },
    {
     "name": "stderr",
     "output_type": "stream",
     "text": [
      "Tuning RandomForest:  67%|██████▋   | 36/54 [01:06<01:20,  4.46s/it]"
     ]
    },
    {
     "name": "stdout",
     "output_type": "stream",
     "text": [
      "Training on cycles 1 to 4, Validating on cycle 5\n",
      "Evaluating: Feature Subset: ['days_since_election', 'seats', 'government_status_coalition', 'government_status_opposition', 'government_status_support', 'block_left', 'block_right', 'eu_anti_pro'], Params: {'n_estimators': 50, 'max_depth': 10}\n",
      "Training on cycles 1 to 4, Validating on cycle 5\n"
     ]
    },
    {
     "name": "stderr",
     "output_type": "stream",
     "text": [
      "Tuning RandomForest:  69%|██████▊   | 37/54 [01:07<00:59,  3.50s/it]"
     ]
    },
    {
     "name": "stdout",
     "output_type": "stream",
     "text": [
      "Training on cycles 1 to 4, Validating on cycle 5\n",
      "Evaluating: Feature Subset: ['days_since_election', 'seats', 'government_status_coalition', 'government_status_opposition', 'government_status_support', 'block_left', 'block_right', 'eu_anti_pro'], Params: {'n_estimators': 50, 'max_depth': 15}\n",
      "Training on cycles 1 to 4, Validating on cycle 5\n"
     ]
    },
    {
     "name": "stderr",
     "output_type": "stream",
     "text": [
      "Tuning RandomForest:  70%|███████   | 38/54 [01:08<00:46,  2.92s/it]"
     ]
    },
    {
     "name": "stdout",
     "output_type": "stream",
     "text": [
      "Training on cycles 1 to 4, Validating on cycle 5\n",
      "Evaluating: Feature Subset: ['days_since_election', 'seats', 'government_status_coalition', 'government_status_opposition', 'government_status_support', 'block_left', 'block_right', 'eu_anti_pro'], Params: {'n_estimators': 50, 'max_depth': 20}\n",
      "Training on cycles 1 to 4, Validating on cycle 5\n"
     ]
    },
    {
     "name": "stderr",
     "output_type": "stream",
     "text": [
      "Tuning RandomForest:  72%|███████▏  | 39/54 [01:10<00:39,  2.62s/it]"
     ]
    },
    {
     "name": "stdout",
     "output_type": "stream",
     "text": [
      "Training on cycles 1 to 4, Validating on cycle 5\n",
      "Evaluating: Feature Subset: ['days_since_election', 'seats', 'government_status_coalition', 'government_status_opposition', 'government_status_support', 'block_left', 'block_right', 'eu_anti_pro'], Params: {'n_estimators': 100, 'max_depth': 10}\n",
      "Training on cycles 1 to 4, Validating on cycle 5\n"
     ]
    },
    {
     "name": "stderr",
     "output_type": "stream",
     "text": [
      "Tuning RandomForest:  74%|███████▍  | 40/54 [01:13<00:35,  2.52s/it]"
     ]
    },
    {
     "name": "stdout",
     "output_type": "stream",
     "text": [
      "Training on cycles 1 to 4, Validating on cycle 5\n",
      "Evaluating: Feature Subset: ['days_since_election', 'seats', 'government_status_coalition', 'government_status_opposition', 'government_status_support', 'block_left', 'block_right', 'eu_anti_pro'], Params: {'n_estimators': 100, 'max_depth': 15}\n",
      "Training on cycles 1 to 4, Validating on cycle 5\n"
     ]
    },
    {
     "name": "stderr",
     "output_type": "stream",
     "text": [
      "Tuning RandomForest:  76%|███████▌  | 41/54 [01:16<00:35,  2.70s/it]"
     ]
    },
    {
     "name": "stdout",
     "output_type": "stream",
     "text": [
      "Training on cycles 1 to 4, Validating on cycle 5\n",
      "Evaluating: Feature Subset: ['days_since_election', 'seats', 'government_status_coalition', 'government_status_opposition', 'government_status_support', 'block_left', 'block_right', 'eu_anti_pro'], Params: {'n_estimators': 100, 'max_depth': 20}\n",
      "Training on cycles 1 to 4, Validating on cycle 5\n"
     ]
    },
    {
     "name": "stderr",
     "output_type": "stream",
     "text": [
      "Tuning RandomForest:  78%|███████▊  | 42/54 [01:19<00:33,  2.83s/it]"
     ]
    },
    {
     "name": "stdout",
     "output_type": "stream",
     "text": [
      "Training on cycles 1 to 4, Validating on cycle 5\n",
      "Evaluating: Feature Subset: ['days_since_election', 'seats', 'government_status_coalition', 'government_status_opposition', 'government_status_support', 'block_left', 'block_right', 'eu_anti_pro'], Params: {'n_estimators': 200, 'max_depth': 10}\n",
      "Training on cycles 1 to 4, Validating on cycle 5\n"
     ]
    },
    {
     "name": "stderr",
     "output_type": "stream",
     "text": [
      "Tuning RandomForest:  80%|███████▉  | 43/54 [01:23<00:35,  3.19s/it]"
     ]
    },
    {
     "name": "stdout",
     "output_type": "stream",
     "text": [
      "Training on cycles 1 to 4, Validating on cycle 5\n",
      "Evaluating: Feature Subset: ['days_since_election', 'seats', 'government_status_coalition', 'government_status_opposition', 'government_status_support', 'block_left', 'block_right', 'eu_anti_pro'], Params: {'n_estimators': 200, 'max_depth': 15}\n",
      "Training on cycles 1 to 4, Validating on cycle 5\n"
     ]
    },
    {
     "name": "stderr",
     "output_type": "stream",
     "text": [
      "Tuning RandomForest:  81%|████████▏ | 44/54 [01:28<00:38,  3.83s/it]"
     ]
    },
    {
     "name": "stdout",
     "output_type": "stream",
     "text": [
      "Training on cycles 1 to 4, Validating on cycle 5\n",
      "Evaluating: Feature Subset: ['days_since_election', 'seats', 'government_status_coalition', 'government_status_opposition', 'government_status_support', 'block_left', 'block_right', 'eu_anti_pro'], Params: {'n_estimators': 200, 'max_depth': 20}\n",
      "Training on cycles 1 to 4, Validating on cycle 5\n"
     ]
    },
    {
     "name": "stderr",
     "output_type": "stream",
     "text": [
      "Tuning RandomForest:  83%|████████▎ | 45/54 [01:34<00:40,  4.50s/it]"
     ]
    },
    {
     "name": "stdout",
     "output_type": "stream",
     "text": [
      "Training on cycles 1 to 4, Validating on cycle 5\n",
      "Evaluating: Feature Subset: ['days_since_election_2', 'seats', 'government_status_coalition', 'government_status_opposition', 'government_status_support', 'block_left', 'block_right', 'eu_anti_pro'], Params: {'n_estimators': 50, 'max_depth': 10}\n",
      "Training on cycles 1 to 4, Validating on cycle 5\n"
     ]
    },
    {
     "name": "stderr",
     "output_type": "stream",
     "text": [
      "Tuning RandomForest:  85%|████████▌ | 46/54 [01:35<00:27,  3.45s/it]"
     ]
    },
    {
     "name": "stdout",
     "output_type": "stream",
     "text": [
      "Training on cycles 1 to 4, Validating on cycle 5\n",
      "Evaluating: Feature Subset: ['days_since_election_2', 'seats', 'government_status_coalition', 'government_status_opposition', 'government_status_support', 'block_left', 'block_right', 'eu_anti_pro'], Params: {'n_estimators': 50, 'max_depth': 15}\n",
      "Training on cycles 1 to 4, Validating on cycle 5\n"
     ]
    },
    {
     "name": "stderr",
     "output_type": "stream",
     "text": [
      "Tuning RandomForest:  87%|████████▋ | 47/54 [01:37<00:19,  2.85s/it]"
     ]
    },
    {
     "name": "stdout",
     "output_type": "stream",
     "text": [
      "Training on cycles 1 to 4, Validating on cycle 5\n",
      "Evaluating: Feature Subset: ['days_since_election_2', 'seats', 'government_status_coalition', 'government_status_opposition', 'government_status_support', 'block_left', 'block_right', 'eu_anti_pro'], Params: {'n_estimators': 50, 'max_depth': 20}\n",
      "Training on cycles 1 to 4, Validating on cycle 5\n"
     ]
    },
    {
     "name": "stderr",
     "output_type": "stream",
     "text": [
      "Tuning RandomForest:  89%|████████▉ | 48/54 [01:38<00:14,  2.46s/it]"
     ]
    },
    {
     "name": "stdout",
     "output_type": "stream",
     "text": [
      "Training on cycles 1 to 4, Validating on cycle 5\n",
      "Evaluating: Feature Subset: ['days_since_election_2', 'seats', 'government_status_coalition', 'government_status_opposition', 'government_status_support', 'block_left', 'block_right', 'eu_anti_pro'], Params: {'n_estimators': 100, 'max_depth': 10}\n",
      "Training on cycles 1 to 4, Validating on cycle 5\n"
     ]
    },
    {
     "name": "stderr",
     "output_type": "stream",
     "text": [
      "Tuning RandomForest:  91%|█████████ | 49/54 [01:40<00:11,  2.32s/it]"
     ]
    },
    {
     "name": "stdout",
     "output_type": "stream",
     "text": [
      "Training on cycles 1 to 4, Validating on cycle 5\n",
      "Evaluating: Feature Subset: ['days_since_election_2', 'seats', 'government_status_coalition', 'government_status_opposition', 'government_status_support', 'block_left', 'block_right', 'eu_anti_pro'], Params: {'n_estimators': 100, 'max_depth': 15}\n",
      "Training on cycles 1 to 4, Validating on cycle 5\n"
     ]
    },
    {
     "name": "stderr",
     "output_type": "stream",
     "text": [
      "Tuning RandomForest:  93%|█████████▎| 50/54 [01:43<00:09,  2.49s/it]"
     ]
    },
    {
     "name": "stdout",
     "output_type": "stream",
     "text": [
      "Training on cycles 1 to 4, Validating on cycle 5\n",
      "Evaluating: Feature Subset: ['days_since_election_2', 'seats', 'government_status_coalition', 'government_status_opposition', 'government_status_support', 'block_left', 'block_right', 'eu_anti_pro'], Params: {'n_estimators': 100, 'max_depth': 20}\n",
      "Training on cycles 1 to 4, Validating on cycle 5\n"
     ]
    },
    {
     "name": "stderr",
     "output_type": "stream",
     "text": [
      "Tuning RandomForest:  94%|█████████▍| 51/54 [01:47<00:08,  2.93s/it]"
     ]
    },
    {
     "name": "stdout",
     "output_type": "stream",
     "text": [
      "Training on cycles 1 to 4, Validating on cycle 5\n",
      "Evaluating: Feature Subset: ['days_since_election_2', 'seats', 'government_status_coalition', 'government_status_opposition', 'government_status_support', 'block_left', 'block_right', 'eu_anti_pro'], Params: {'n_estimators': 200, 'max_depth': 10}\n",
      "Training on cycles 1 to 4, Validating on cycle 5\n"
     ]
    },
    {
     "name": "stderr",
     "output_type": "stream",
     "text": [
      "Tuning RandomForest:  96%|█████████▋| 52/54 [01:52<00:06,  3.44s/it]"
     ]
    },
    {
     "name": "stdout",
     "output_type": "stream",
     "text": [
      "Training on cycles 1 to 4, Validating on cycle 5\n",
      "Evaluating: Feature Subset: ['days_since_election_2', 'seats', 'government_status_coalition', 'government_status_opposition', 'government_status_support', 'block_left', 'block_right', 'eu_anti_pro'], Params: {'n_estimators': 200, 'max_depth': 15}\n",
      "Training on cycles 1 to 4, Validating on cycle 5\n"
     ]
    },
    {
     "name": "stderr",
     "output_type": "stream",
     "text": [
      "Tuning RandomForest:  98%|█████████▊| 53/54 [01:57<00:03,  4.00s/it]"
     ]
    },
    {
     "name": "stdout",
     "output_type": "stream",
     "text": [
      "Training on cycles 1 to 4, Validating on cycle 5\n",
      "Evaluating: Feature Subset: ['days_since_election_2', 'seats', 'government_status_coalition', 'government_status_opposition', 'government_status_support', 'block_left', 'block_right', 'eu_anti_pro'], Params: {'n_estimators': 200, 'max_depth': 20}\n",
      "Training on cycles 1 to 4, Validating on cycle 5\n"
     ]
    },
    {
     "name": "stderr",
     "output_type": "stream",
     "text": [
      "Tuning RandomForest: 100%|██████████| 54/54 [02:03<00:00,  2.29s/it]\n"
     ]
    },
    {
     "name": "stdout",
     "output_type": "stream",
     "text": [
      "Training on cycles 1 to 4, Validating on cycle 5\n",
      "Tuning XGBoost model...\n"
     ]
    },
    {
     "name": "stderr",
     "output_type": "stream",
     "text": [
      "Tuning XGBoost:   0%|          | 0/72 [00:00<?, ?it/s]"
     ]
    },
    {
     "name": "stdout",
     "output_type": "stream",
     "text": [
      "Evaluating: Feature Subset: ['days_since_election', 'seats'], Params: {'n_estimators': 10, 'max_depth': 7}\n",
      "Training on cycles 1 to 4, Validating on cycle 5\n"
     ]
    },
    {
     "name": "stderr",
     "output_type": "stream",
     "text": [
      "Tuning XGBoost:   1%|▏         | 1/72 [00:00<00:08,  8.64it/s]"
     ]
    },
    {
     "name": "stdout",
     "output_type": "stream",
     "text": [
      "Training on cycles 1 to 4, Validating on cycle 5\n",
      "Evaluating: Feature Subset: ['days_since_election', 'seats'], Params: {'n_estimators': 10, 'max_depth': 10}\n",
      "Training on cycles 1 to 4, Validating on cycle 5\n"
     ]
    },
    {
     "name": "stderr",
     "output_type": "stream",
     "text": [
      "Tuning XGBoost:   3%|▎         | 2/72 [00:00<00:08,  8.17it/s]"
     ]
    },
    {
     "name": "stdout",
     "output_type": "stream",
     "text": [
      "Training on cycles 1 to 4, Validating on cycle 5\n",
      "Evaluating: Feature Subset: ['days_since_election', 'seats'], Params: {'n_estimators': 10, 'max_depth': 20}\n",
      "Training on cycles 1 to 4, Validating on cycle 5\n"
     ]
    },
    {
     "name": "stderr",
     "output_type": "stream",
     "text": [
      "Tuning XGBoost:   4%|▍         | 3/72 [00:00<00:15,  4.53it/s]"
     ]
    },
    {
     "name": "stdout",
     "output_type": "stream",
     "text": [
      "Training on cycles 1 to 4, Validating on cycle 5\n",
      "Evaluating: Feature Subset: ['days_since_election', 'seats'], Params: {'n_estimators': 10, 'max_depth': 30}\n",
      "Training on cycles 1 to 4, Validating on cycle 5\n"
     ]
    },
    {
     "name": "stderr",
     "output_type": "stream",
     "text": [
      "Tuning XGBoost:   6%|▌         | 4/72 [00:01<00:21,  3.22it/s]"
     ]
    },
    {
     "name": "stdout",
     "output_type": "stream",
     "text": [
      "Training on cycles 1 to 4, Validating on cycle 5\n",
      "Evaluating: Feature Subset: ['days_since_election', 'seats'], Params: {'n_estimators': 50, 'max_depth': 7}\n",
      "Training on cycles 1 to 4, Validating on cycle 5\n"
     ]
    },
    {
     "name": "stderr",
     "output_type": "stream",
     "text": [
      "Tuning XGBoost:   7%|▋         | 5/72 [00:01<00:20,  3.21it/s]"
     ]
    },
    {
     "name": "stdout",
     "output_type": "stream",
     "text": [
      "Training on cycles 1 to 4, Validating on cycle 5\n",
      "Evaluating: Feature Subset: ['days_since_election', 'seats'], Params: {'n_estimators': 50, 'max_depth': 10}\n",
      "Training on cycles 1 to 4, Validating on cycle 5\n"
     ]
    },
    {
     "name": "stderr",
     "output_type": "stream",
     "text": [
      "Tuning XGBoost:   8%|▊         | 6/72 [00:01<00:26,  2.46it/s]"
     ]
    },
    {
     "name": "stdout",
     "output_type": "stream",
     "text": [
      "Training on cycles 1 to 4, Validating on cycle 5\n",
      "Evaluating: Feature Subset: ['days_since_election', 'seats'], Params: {'n_estimators': 50, 'max_depth': 20}\n",
      "Training on cycles 1 to 4, Validating on cycle 5\n"
     ]
    },
    {
     "name": "stderr",
     "output_type": "stream",
     "text": [
      "Tuning XGBoost:  10%|▉         | 7/72 [00:03<00:47,  1.36it/s]"
     ]
    },
    {
     "name": "stdout",
     "output_type": "stream",
     "text": [
      "Training on cycles 1 to 4, Validating on cycle 5\n",
      "Evaluating: Feature Subset: ['days_since_election', 'seats'], Params: {'n_estimators': 50, 'max_depth': 30}\n",
      "Training on cycles 1 to 4, Validating on cycle 5\n"
     ]
    },
    {
     "name": "stderr",
     "output_type": "stream",
     "text": [
      "Tuning XGBoost:  11%|█         | 8/72 [00:04<01:02,  1.03it/s]"
     ]
    },
    {
     "name": "stdout",
     "output_type": "stream",
     "text": [
      "Training on cycles 1 to 4, Validating on cycle 5\n",
      "Evaluating: Feature Subset: ['days_since_election', 'seats'], Params: {'n_estimators': 100, 'max_depth': 7}\n",
      "Training on cycles 1 to 4, Validating on cycle 5\n"
     ]
    },
    {
     "name": "stderr",
     "output_type": "stream",
     "text": [
      "Tuning XGBoost:  12%|█▎        | 9/72 [00:05<00:50,  1.25it/s]"
     ]
    },
    {
     "name": "stdout",
     "output_type": "stream",
     "text": [
      "Training on cycles 1 to 4, Validating on cycle 5\n",
      "Evaluating: Feature Subset: ['days_since_election', 'seats'], Params: {'n_estimators': 100, 'max_depth': 10}\n",
      "Training on cycles 1 to 4, Validating on cycle 5\n"
     ]
    },
    {
     "name": "stderr",
     "output_type": "stream",
     "text": [
      "Tuning XGBoost:  14%|█▍        | 10/72 [00:05<00:47,  1.30it/s]"
     ]
    },
    {
     "name": "stdout",
     "output_type": "stream",
     "text": [
      "Training on cycles 1 to 4, Validating on cycle 5\n",
      "Evaluating: Feature Subset: ['days_since_election', 'seats'], Params: {'n_estimators': 100, 'max_depth': 20}\n",
      "Training on cycles 1 to 4, Validating on cycle 5\n"
     ]
    },
    {
     "name": "stderr",
     "output_type": "stream",
     "text": [
      "Tuning XGBoost:  15%|█▌        | 11/72 [00:07<01:08,  1.12s/it]"
     ]
    },
    {
     "name": "stdout",
     "output_type": "stream",
     "text": [
      "Training on cycles 1 to 4, Validating on cycle 5\n",
      "Evaluating: Feature Subset: ['days_since_election', 'seats'], Params: {'n_estimators': 100, 'max_depth': 30}\n",
      "Training on cycles 1 to 4, Validating on cycle 5\n"
     ]
    },
    {
     "name": "stderr",
     "output_type": "stream",
     "text": [
      "Tuning XGBoost:  17%|█▋        | 12/72 [00:11<01:48,  1.80s/it]"
     ]
    },
    {
     "name": "stdout",
     "output_type": "stream",
     "text": [
      "Training on cycles 1 to 4, Validating on cycle 5\n",
      "Evaluating: Feature Subset: ['seats', 'government_status_coalition', 'government_status_opposition', 'government_status_support'], Params: {'n_estimators': 10, 'max_depth': 7}\n",
      "Training on cycles 1 to 4, Validating on cycle 5\n"
     ]
    },
    {
     "name": "stderr",
     "output_type": "stream",
     "text": [
      "Tuning XGBoost:  18%|█▊        | 13/72 [00:11<01:19,  1.35s/it]"
     ]
    },
    {
     "name": "stdout",
     "output_type": "stream",
     "text": [
      "Training on cycles 1 to 4, Validating on cycle 5\n",
      "Evaluating: Feature Subset: ['seats', 'government_status_coalition', 'government_status_opposition', 'government_status_support'], Params: {'n_estimators': 10, 'max_depth': 10}\n",
      "Training on cycles 1 to 4, Validating on cycle 5\n"
     ]
    },
    {
     "name": "stderr",
     "output_type": "stream",
     "text": [
      "Tuning XGBoost:  21%|██        | 15/72 [00:11<00:42,  1.35it/s]"
     ]
    },
    {
     "name": "stdout",
     "output_type": "stream",
     "text": [
      "Training on cycles 1 to 4, Validating on cycle 5\n",
      "Evaluating: Feature Subset: ['seats', 'government_status_coalition', 'government_status_opposition', 'government_status_support'], Params: {'n_estimators': 10, 'max_depth': 20}\n",
      "Training on cycles 1 to 4, Validating on cycle 5\n",
      "Training on cycles 1 to 4, Validating on cycle 5\n",
      "Evaluating: Feature Subset: ['seats', 'government_status_coalition', 'government_status_opposition', 'government_status_support'], Params: {'n_estimators': 10, 'max_depth': 30}\n",
      "Training on cycles 1 to 4, Validating on cycle 5\n"
     ]
    },
    {
     "name": "stderr",
     "output_type": "stream",
     "text": [
      "Tuning XGBoost:  22%|██▏       | 16/72 [00:12<00:32,  1.75it/s]"
     ]
    },
    {
     "name": "stdout",
     "output_type": "stream",
     "text": [
      "Training on cycles 1 to 4, Validating on cycle 5\n",
      "Evaluating: Feature Subset: ['seats', 'government_status_coalition', 'government_status_opposition', 'government_status_support'], Params: {'n_estimators': 50, 'max_depth': 7}\n",
      "Training on cycles 1 to 4, Validating on cycle 5\n"
     ]
    },
    {
     "name": "stderr",
     "output_type": "stream",
     "text": [
      "Tuning XGBoost:  24%|██▎       | 17/72 [00:12<00:30,  1.80it/s]"
     ]
    },
    {
     "name": "stdout",
     "output_type": "stream",
     "text": [
      "Training on cycles 1 to 4, Validating on cycle 5\n",
      "Evaluating: Feature Subset: ['seats', 'government_status_coalition', 'government_status_opposition', 'government_status_support'], Params: {'n_estimators': 50, 'max_depth': 10}\n",
      "Training on cycles 1 to 4, Validating on cycle 5\n"
     ]
    },
    {
     "name": "stderr",
     "output_type": "stream",
     "text": [
      "Tuning XGBoost:  25%|██▌       | 18/72 [00:13<00:30,  1.77it/s]"
     ]
    },
    {
     "name": "stdout",
     "output_type": "stream",
     "text": [
      "Training on cycles 1 to 4, Validating on cycle 5\n",
      "Evaluating: Feature Subset: ['seats', 'government_status_coalition', 'government_status_opposition', 'government_status_support'], Params: {'n_estimators': 50, 'max_depth': 20}\n",
      "Training on cycles 1 to 4, Validating on cycle 5\n"
     ]
    },
    {
     "name": "stderr",
     "output_type": "stream",
     "text": [
      "Tuning XGBoost:  26%|██▋       | 19/72 [00:13<00:32,  1.61it/s]"
     ]
    },
    {
     "name": "stdout",
     "output_type": "stream",
     "text": [
      "Training on cycles 1 to 4, Validating on cycle 5\n",
      "Evaluating: Feature Subset: ['seats', 'government_status_coalition', 'government_status_opposition', 'government_status_support'], Params: {'n_estimators': 50, 'max_depth': 30}\n",
      "Training on cycles 1 to 4, Validating on cycle 5\n"
     ]
    },
    {
     "name": "stderr",
     "output_type": "stream",
     "text": [
      "Tuning XGBoost:  28%|██▊       | 20/72 [00:14<00:27,  1.90it/s]"
     ]
    },
    {
     "name": "stdout",
     "output_type": "stream",
     "text": [
      "Training on cycles 1 to 4, Validating on cycle 5\n",
      "Evaluating: Feature Subset: ['seats', 'government_status_coalition', 'government_status_opposition', 'government_status_support'], Params: {'n_estimators': 100, 'max_depth': 7}\n",
      "Training on cycles 1 to 4, Validating on cycle 5\n"
     ]
    },
    {
     "name": "stderr",
     "output_type": "stream",
     "text": [
      "Tuning XGBoost:  29%|██▉       | 21/72 [00:14<00:24,  2.12it/s]"
     ]
    },
    {
     "name": "stdout",
     "output_type": "stream",
     "text": [
      "Training on cycles 1 to 4, Validating on cycle 5\n",
      "Evaluating: Feature Subset: ['seats', 'government_status_coalition', 'government_status_opposition', 'government_status_support'], Params: {'n_estimators': 100, 'max_depth': 10}\n",
      "Training on cycles 1 to 4, Validating on cycle 5\n"
     ]
    },
    {
     "name": "stderr",
     "output_type": "stream",
     "text": [
      "Tuning XGBoost:  31%|███       | 22/72 [00:14<00:22,  2.25it/s]"
     ]
    },
    {
     "name": "stdout",
     "output_type": "stream",
     "text": [
      "Training on cycles 1 to 4, Validating on cycle 5\n",
      "Evaluating: Feature Subset: ['seats', 'government_status_coalition', 'government_status_opposition', 'government_status_support'], Params: {'n_estimators': 100, 'max_depth': 20}\n",
      "Training on cycles 1 to 4, Validating on cycle 5\n"
     ]
    },
    {
     "name": "stderr",
     "output_type": "stream",
     "text": [
      "Tuning XGBoost:  32%|███▏      | 23/72 [00:15<00:22,  2.18it/s]"
     ]
    },
    {
     "name": "stdout",
     "output_type": "stream",
     "text": [
      "Training on cycles 1 to 4, Validating on cycle 5\n",
      "Evaluating: Feature Subset: ['seats', 'government_status_coalition', 'government_status_opposition', 'government_status_support'], Params: {'n_estimators': 100, 'max_depth': 30}\n",
      "Training on cycles 1 to 4, Validating on cycle 5\n"
     ]
    },
    {
     "name": "stderr",
     "output_type": "stream",
     "text": [
      "Tuning XGBoost:  35%|███▍      | 25/72 [00:15<00:15,  2.96it/s]"
     ]
    },
    {
     "name": "stdout",
     "output_type": "stream",
     "text": [
      "Training on cycles 1 to 4, Validating on cycle 5\n",
      "Evaluating: Feature Subset: ['seats', 'government_status_coalition', 'government_status_opposition', 'government_status_support', 'block_left', 'block_right'], Params: {'n_estimators': 10, 'max_depth': 7}\n",
      "Training on cycles 1 to 4, Validating on cycle 5\n",
      "Training on cycles 1 to 4, Validating on cycle 5\n",
      "Evaluating: Feature Subset: ['seats', 'government_status_coalition', 'government_status_opposition', 'government_status_support', 'block_left', 'block_right'], Params: {'n_estimators': 10, 'max_depth': 10}\n",
      "Training on cycles 1 to 4, Validating on cycle 5\n"
     ]
    },
    {
     "name": "stderr",
     "output_type": "stream",
     "text": [
      "Tuning XGBoost:  38%|███▊      | 27/72 [00:16<00:10,  4.34it/s]"
     ]
    },
    {
     "name": "stdout",
     "output_type": "stream",
     "text": [
      "Training on cycles 1 to 4, Validating on cycle 5\n",
      "Evaluating: Feature Subset: ['seats', 'government_status_coalition', 'government_status_opposition', 'government_status_support', 'block_left', 'block_right'], Params: {'n_estimators': 10, 'max_depth': 20}\n",
      "Training on cycles 1 to 4, Validating on cycle 5\n",
      "Training on cycles 1 to 4, Validating on cycle 5\n",
      "Evaluating: Feature Subset: ['seats', 'government_status_coalition', 'government_status_opposition', 'government_status_support', 'block_left', 'block_right'], Params: {'n_estimators': 10, 'max_depth': 30}\n",
      "Training on cycles 1 to 4, Validating on cycle 5\n"
     ]
    },
    {
     "name": "stderr",
     "output_type": "stream",
     "text": [
      "Tuning XGBoost:  39%|███▉      | 28/72 [00:16<00:09,  4.56it/s]"
     ]
    },
    {
     "name": "stdout",
     "output_type": "stream",
     "text": [
      "Training on cycles 1 to 4, Validating on cycle 5\n",
      "Evaluating: Feature Subset: ['seats', 'government_status_coalition', 'government_status_opposition', 'government_status_support', 'block_left', 'block_right'], Params: {'n_estimators': 50, 'max_depth': 7}\n",
      "Training on cycles 1 to 4, Validating on cycle 5\n"
     ]
    },
    {
     "name": "stderr",
     "output_type": "stream",
     "text": [
      "Tuning XGBoost:  40%|████      | 29/72 [00:16<00:13,  3.28it/s]"
     ]
    },
    {
     "name": "stdout",
     "output_type": "stream",
     "text": [
      "Training on cycles 1 to 4, Validating on cycle 5\n",
      "Evaluating: Feature Subset: ['seats', 'government_status_coalition', 'government_status_opposition', 'government_status_support', 'block_left', 'block_right'], Params: {'n_estimators': 50, 'max_depth': 10}\n",
      "Training on cycles 1 to 4, Validating on cycle 5\n"
     ]
    },
    {
     "name": "stderr",
     "output_type": "stream",
     "text": [
      "Tuning XGBoost:  42%|████▏     | 30/72 [00:17<00:15,  2.68it/s]"
     ]
    },
    {
     "name": "stdout",
     "output_type": "stream",
     "text": [
      "Training on cycles 1 to 4, Validating on cycle 5\n",
      "Evaluating: Feature Subset: ['seats', 'government_status_coalition', 'government_status_opposition', 'government_status_support', 'block_left', 'block_right'], Params: {'n_estimators': 50, 'max_depth': 20}\n",
      "Training on cycles 1 to 4, Validating on cycle 5\n"
     ]
    },
    {
     "name": "stderr",
     "output_type": "stream",
     "text": [
      "Tuning XGBoost:  43%|████▎     | 31/72 [00:18<00:19,  2.14it/s]"
     ]
    },
    {
     "name": "stdout",
     "output_type": "stream",
     "text": [
      "Training on cycles 1 to 4, Validating on cycle 5\n",
      "Evaluating: Feature Subset: ['seats', 'government_status_coalition', 'government_status_opposition', 'government_status_support', 'block_left', 'block_right'], Params: {'n_estimators': 50, 'max_depth': 30}\n",
      "Training on cycles 1 to 4, Validating on cycle 5\n"
     ]
    },
    {
     "name": "stderr",
     "output_type": "stream",
     "text": [
      "Tuning XGBoost:  44%|████▍     | 32/72 [00:18<00:21,  1.85it/s]"
     ]
    },
    {
     "name": "stdout",
     "output_type": "stream",
     "text": [
      "Training on cycles 1 to 4, Validating on cycle 5\n",
      "Evaluating: Feature Subset: ['seats', 'government_status_coalition', 'government_status_opposition', 'government_status_support', 'block_left', 'block_right'], Params: {'n_estimators': 100, 'max_depth': 7}\n",
      "Training on cycles 1 to 4, Validating on cycle 5\n"
     ]
    },
    {
     "name": "stderr",
     "output_type": "stream",
     "text": [
      "Tuning XGBoost:  46%|████▌     | 33/72 [00:19<00:22,  1.76it/s]"
     ]
    },
    {
     "name": "stdout",
     "output_type": "stream",
     "text": [
      "Training on cycles 1 to 4, Validating on cycle 5\n",
      "Evaluating: Feature Subset: ['seats', 'government_status_coalition', 'government_status_opposition', 'government_status_support', 'block_left', 'block_right'], Params: {'n_estimators': 100, 'max_depth': 10}\n",
      "Training on cycles 1 to 4, Validating on cycle 5\n"
     ]
    },
    {
     "name": "stderr",
     "output_type": "stream",
     "text": [
      "Tuning XGBoost:  47%|████▋     | 34/72 [00:20<00:31,  1.19it/s]"
     ]
    },
    {
     "name": "stdout",
     "output_type": "stream",
     "text": [
      "Training on cycles 1 to 4, Validating on cycle 5\n",
      "Evaluating: Feature Subset: ['seats', 'government_status_coalition', 'government_status_opposition', 'government_status_support', 'block_left', 'block_right'], Params: {'n_estimators': 100, 'max_depth': 20}\n",
      "Training on cycles 1 to 4, Validating on cycle 5\n"
     ]
    },
    {
     "name": "stderr",
     "output_type": "stream",
     "text": [
      "Tuning XGBoost:  49%|████▊     | 35/72 [00:21<00:32,  1.13it/s]"
     ]
    },
    {
     "name": "stdout",
     "output_type": "stream",
     "text": [
      "Training on cycles 1 to 4, Validating on cycle 5\n",
      "Evaluating: Feature Subset: ['seats', 'government_status_coalition', 'government_status_opposition', 'government_status_support', 'block_left', 'block_right'], Params: {'n_estimators': 100, 'max_depth': 30}\n",
      "Training on cycles 1 to 4, Validating on cycle 5\n"
     ]
    },
    {
     "name": "stderr",
     "output_type": "stream",
     "text": [
      "Tuning XGBoost:  51%|█████▏    | 37/72 [00:22<00:20,  1.73it/s]"
     ]
    },
    {
     "name": "stdout",
     "output_type": "stream",
     "text": [
      "Training on cycles 1 to 4, Validating on cycle 5\n",
      "Evaluating: Feature Subset: ['days_since_election', 'seats', 'government_status_coalition', 'government_status_opposition', 'government_status_support', 'block_left', 'block_right'], Params: {'n_estimators': 10, 'max_depth': 7}\n",
      "Training on cycles 1 to 4, Validating on cycle 5\n",
      "Training on cycles 1 to 4, Validating on cycle 5\n",
      "Evaluating: Feature Subset: ['days_since_election', 'seats', 'government_status_coalition', 'government_status_opposition', 'government_status_support', 'block_left', 'block_right'], Params: {'n_estimators': 10, 'max_depth': 10}\n",
      "Training on cycles 1 to 4, Validating on cycle 5\n"
     ]
    },
    {
     "name": "stderr",
     "output_type": "stream",
     "text": [
      "Tuning XGBoost:  53%|█████▎    | 38/72 [00:22<00:15,  2.20it/s]"
     ]
    },
    {
     "name": "stdout",
     "output_type": "stream",
     "text": [
      "Training on cycles 1 to 4, Validating on cycle 5\n",
      "Evaluating: Feature Subset: ['days_since_election', 'seats', 'government_status_coalition', 'government_status_opposition', 'government_status_support', 'block_left', 'block_right'], Params: {'n_estimators': 10, 'max_depth': 20}\n",
      "Training on cycles 1 to 4, Validating on cycle 5\n"
     ]
    },
    {
     "name": "stderr",
     "output_type": "stream",
     "text": [
      "Tuning XGBoost:  54%|█████▍    | 39/72 [00:23<00:16,  1.95it/s]"
     ]
    },
    {
     "name": "stdout",
     "output_type": "stream",
     "text": [
      "Training on cycles 1 to 4, Validating on cycle 5\n",
      "Evaluating: Feature Subset: ['days_since_election', 'seats', 'government_status_coalition', 'government_status_opposition', 'government_status_support', 'block_left', 'block_right'], Params: {'n_estimators': 10, 'max_depth': 30}\n",
      "Training on cycles 1 to 4, Validating on cycle 5\n"
     ]
    },
    {
     "name": "stderr",
     "output_type": "stream",
     "text": [
      "Tuning XGBoost:  56%|█████▌    | 40/72 [00:23<00:17,  1.83it/s]"
     ]
    },
    {
     "name": "stdout",
     "output_type": "stream",
     "text": [
      "Training on cycles 1 to 4, Validating on cycle 5\n",
      "Evaluating: Feature Subset: ['days_since_election', 'seats', 'government_status_coalition', 'government_status_opposition', 'government_status_support', 'block_left', 'block_right'], Params: {'n_estimators': 50, 'max_depth': 7}\n",
      "Training on cycles 1 to 4, Validating on cycle 5\n"
     ]
    },
    {
     "name": "stderr",
     "output_type": "stream",
     "text": [
      "Tuning XGBoost:  57%|█████▋    | 41/72 [00:24<00:14,  2.15it/s]"
     ]
    },
    {
     "name": "stdout",
     "output_type": "stream",
     "text": [
      "Training on cycles 1 to 4, Validating on cycle 5\n",
      "Evaluating: Feature Subset: ['days_since_election', 'seats', 'government_status_coalition', 'government_status_opposition', 'government_status_support', 'block_left', 'block_right'], Params: {'n_estimators': 50, 'max_depth': 10}\n",
      "Training on cycles 1 to 4, Validating on cycle 5\n"
     ]
    },
    {
     "name": "stderr",
     "output_type": "stream",
     "text": [
      "Tuning XGBoost:  58%|█████▊    | 42/72 [00:25<00:17,  1.71it/s]"
     ]
    },
    {
     "name": "stdout",
     "output_type": "stream",
     "text": [
      "Training on cycles 1 to 4, Validating on cycle 5\n",
      "Evaluating: Feature Subset: ['days_since_election', 'seats', 'government_status_coalition', 'government_status_opposition', 'government_status_support', 'block_left', 'block_right'], Params: {'n_estimators': 50, 'max_depth': 20}\n",
      "Training on cycles 1 to 4, Validating on cycle 5\n"
     ]
    },
    {
     "name": "stderr",
     "output_type": "stream",
     "text": [
      "Tuning XGBoost:  60%|█████▉    | 43/72 [00:26<00:23,  1.22it/s]"
     ]
    },
    {
     "name": "stdout",
     "output_type": "stream",
     "text": [
      "Training on cycles 1 to 4, Validating on cycle 5\n",
      "Evaluating: Feature Subset: ['days_since_election', 'seats', 'government_status_coalition', 'government_status_opposition', 'government_status_support', 'block_left', 'block_right'], Params: {'n_estimators': 50, 'max_depth': 30}\n",
      "Training on cycles 1 to 4, Validating on cycle 5\n"
     ]
    },
    {
     "name": "stderr",
     "output_type": "stream",
     "text": [
      "Tuning XGBoost:  61%|██████    | 44/72 [00:28<00:31,  1.13s/it]"
     ]
    },
    {
     "name": "stdout",
     "output_type": "stream",
     "text": [
      "Training on cycles 1 to 4, Validating on cycle 5\n",
      "Evaluating: Feature Subset: ['days_since_election', 'seats', 'government_status_coalition', 'government_status_opposition', 'government_status_support', 'block_left', 'block_right'], Params: {'n_estimators': 100, 'max_depth': 7}\n",
      "Training on cycles 1 to 4, Validating on cycle 5\n"
     ]
    },
    {
     "name": "stderr",
     "output_type": "stream",
     "text": [
      "Tuning XGBoost:  62%|██████▎   | 45/72 [00:28<00:25,  1.06it/s]"
     ]
    },
    {
     "name": "stdout",
     "output_type": "stream",
     "text": [
      "Training on cycles 1 to 4, Validating on cycle 5\n",
      "Evaluating: Feature Subset: ['days_since_election', 'seats', 'government_status_coalition', 'government_status_opposition', 'government_status_support', 'block_left', 'block_right'], Params: {'n_estimators': 100, 'max_depth': 10}\n",
      "Training on cycles 1 to 4, Validating on cycle 5\n"
     ]
    },
    {
     "name": "stderr",
     "output_type": "stream",
     "text": [
      "Tuning XGBoost:  64%|██████▍   | 46/72 [00:29<00:22,  1.14it/s]"
     ]
    },
    {
     "name": "stdout",
     "output_type": "stream",
     "text": [
      "Training on cycles 1 to 4, Validating on cycle 5\n",
      "Evaluating: Feature Subset: ['days_since_election', 'seats', 'government_status_coalition', 'government_status_opposition', 'government_status_support', 'block_left', 'block_right'], Params: {'n_estimators': 100, 'max_depth': 20}\n",
      "Training on cycles 1 to 4, Validating on cycle 5\n"
     ]
    },
    {
     "name": "stderr",
     "output_type": "stream",
     "text": [
      "Tuning XGBoost:  65%|██████▌   | 47/72 [00:31<00:28,  1.12s/it]"
     ]
    },
    {
     "name": "stdout",
     "output_type": "stream",
     "text": [
      "Training on cycles 1 to 4, Validating on cycle 5\n",
      "Evaluating: Feature Subset: ['days_since_election', 'seats', 'government_status_coalition', 'government_status_opposition', 'government_status_support', 'block_left', 'block_right'], Params: {'n_estimators': 100, 'max_depth': 30}\n",
      "Training on cycles 1 to 4, Validating on cycle 5\n"
     ]
    },
    {
     "name": "stderr",
     "output_type": "stream",
     "text": [
      "Tuning XGBoost:  67%|██████▋   | 48/72 [00:33<00:32,  1.34s/it]"
     ]
    },
    {
     "name": "stdout",
     "output_type": "stream",
     "text": [
      "Training on cycles 1 to 4, Validating on cycle 5\n",
      "Evaluating: Feature Subset: ['days_since_election', 'seats', 'government_status_coalition', 'government_status_opposition', 'government_status_support', 'block_left', 'block_right', 'eu_anti_pro'], Params: {'n_estimators': 10, 'max_depth': 7}\n",
      "Training on cycles 1 to 4, Validating on cycle 5\n",
      "Training on cycles 1 to 4, Validating on cycle 5\n",
      "Evaluating: Feature Subset: ['days_since_election', 'seats', 'government_status_coalition', 'government_status_opposition', 'government_status_support', 'block_left', 'block_right', 'eu_anti_pro'], Params: {'n_estimators': 10, 'max_depth': 10}\n",
      "Training on cycles 1 to 4, Validating on cycle 5\n"
     ]
    },
    {
     "name": "stderr",
     "output_type": "stream",
     "text": [
      "Tuning XGBoost:  69%|██████▉   | 50/72 [00:33<00:16,  1.30it/s]"
     ]
    },
    {
     "name": "stdout",
     "output_type": "stream",
     "text": [
      "Training on cycles 1 to 4, Validating on cycle 5\n",
      "Evaluating: Feature Subset: ['days_since_election', 'seats', 'government_status_coalition', 'government_status_opposition', 'government_status_support', 'block_left', 'block_right', 'eu_anti_pro'], Params: {'n_estimators': 10, 'max_depth': 20}\n",
      "Training on cycles 1 to 4, Validating on cycle 5\n"
     ]
    },
    {
     "name": "stderr",
     "output_type": "stream",
     "text": [
      "Tuning XGBoost:  71%|███████   | 51/72 [00:33<00:14,  1.47it/s]"
     ]
    },
    {
     "name": "stdout",
     "output_type": "stream",
     "text": [
      "Training on cycles 1 to 4, Validating on cycle 5\n",
      "Evaluating: Feature Subset: ['days_since_election', 'seats', 'government_status_coalition', 'government_status_opposition', 'government_status_support', 'block_left', 'block_right', 'eu_anti_pro'], Params: {'n_estimators': 10, 'max_depth': 30}\n",
      "Training on cycles 1 to 4, Validating on cycle 5\n"
     ]
    },
    {
     "name": "stderr",
     "output_type": "stream",
     "text": [
      "Tuning XGBoost:  72%|███████▏  | 52/72 [00:34<00:12,  1.58it/s]"
     ]
    },
    {
     "name": "stdout",
     "output_type": "stream",
     "text": [
      "Training on cycles 1 to 4, Validating on cycle 5\n",
      "Evaluating: Feature Subset: ['days_since_election', 'seats', 'government_status_coalition', 'government_status_opposition', 'government_status_support', 'block_left', 'block_right', 'eu_anti_pro'], Params: {'n_estimators': 50, 'max_depth': 7}\n",
      "Training on cycles 1 to 4, Validating on cycle 5\n"
     ]
    },
    {
     "name": "stderr",
     "output_type": "stream",
     "text": [
      "Tuning XGBoost:  74%|███████▎  | 53/72 [00:34<00:10,  1.88it/s]"
     ]
    },
    {
     "name": "stdout",
     "output_type": "stream",
     "text": [
      "Training on cycles 1 to 4, Validating on cycle 5\n",
      "Evaluating: Feature Subset: ['days_since_election', 'seats', 'government_status_coalition', 'government_status_opposition', 'government_status_support', 'block_left', 'block_right', 'eu_anti_pro'], Params: {'n_estimators': 50, 'max_depth': 10}\n",
      "Training on cycles 1 to 4, Validating on cycle 5\n"
     ]
    },
    {
     "name": "stderr",
     "output_type": "stream",
     "text": [
      "Tuning XGBoost:  75%|███████▌  | 54/72 [00:34<00:08,  2.01it/s]"
     ]
    },
    {
     "name": "stdout",
     "output_type": "stream",
     "text": [
      "Training on cycles 1 to 4, Validating on cycle 5\n",
      "Evaluating: Feature Subset: ['days_since_election', 'seats', 'government_status_coalition', 'government_status_opposition', 'government_status_support', 'block_left', 'block_right', 'eu_anti_pro'], Params: {'n_estimators': 50, 'max_depth': 20}\n",
      "Training on cycles 1 to 4, Validating on cycle 5\n"
     ]
    },
    {
     "name": "stderr",
     "output_type": "stream",
     "text": [
      "Tuning XGBoost:  76%|███████▋  | 55/72 [00:36<00:12,  1.37it/s]"
     ]
    },
    {
     "name": "stdout",
     "output_type": "stream",
     "text": [
      "Training on cycles 1 to 4, Validating on cycle 5\n",
      "Evaluating: Feature Subset: ['days_since_election', 'seats', 'government_status_coalition', 'government_status_opposition', 'government_status_support', 'block_left', 'block_right', 'eu_anti_pro'], Params: {'n_estimators': 50, 'max_depth': 30}\n",
      "Training on cycles 1 to 4, Validating on cycle 5\n"
     ]
    },
    {
     "name": "stderr",
     "output_type": "stream",
     "text": [
      "Tuning XGBoost:  78%|███████▊  | 56/72 [00:38<00:17,  1.06s/it]"
     ]
    },
    {
     "name": "stdout",
     "output_type": "stream",
     "text": [
      "Training on cycles 1 to 4, Validating on cycle 5\n",
      "Evaluating: Feature Subset: ['days_since_election', 'seats', 'government_status_coalition', 'government_status_opposition', 'government_status_support', 'block_left', 'block_right', 'eu_anti_pro'], Params: {'n_estimators': 100, 'max_depth': 7}\n",
      "Training on cycles 1 to 4, Validating on cycle 5\n"
     ]
    },
    {
     "name": "stderr",
     "output_type": "stream",
     "text": [
      "Tuning XGBoost:  79%|███████▉  | 57/72 [00:38<00:13,  1.12it/s]"
     ]
    },
    {
     "name": "stdout",
     "output_type": "stream",
     "text": [
      "Training on cycles 1 to 4, Validating on cycle 5\n",
      "Evaluating: Feature Subset: ['days_since_election', 'seats', 'government_status_coalition', 'government_status_opposition', 'government_status_support', 'block_left', 'block_right', 'eu_anti_pro'], Params: {'n_estimators': 100, 'max_depth': 10}\n",
      "Training on cycles 1 to 4, Validating on cycle 5\n"
     ]
    },
    {
     "name": "stderr",
     "output_type": "stream",
     "text": [
      "Tuning XGBoost:  81%|████████  | 58/72 [00:39<00:11,  1.18it/s]"
     ]
    },
    {
     "name": "stdout",
     "output_type": "stream",
     "text": [
      "Training on cycles 1 to 4, Validating on cycle 5\n",
      "Evaluating: Feature Subset: ['days_since_election', 'seats', 'government_status_coalition', 'government_status_opposition', 'government_status_support', 'block_left', 'block_right', 'eu_anti_pro'], Params: {'n_estimators': 100, 'max_depth': 20}\n",
      "Training on cycles 1 to 4, Validating on cycle 5\n"
     ]
    },
    {
     "name": "stderr",
     "output_type": "stream",
     "text": [
      "Tuning XGBoost:  82%|████████▏ | 59/72 [00:41<00:16,  1.29s/it]"
     ]
    },
    {
     "name": "stdout",
     "output_type": "stream",
     "text": [
      "Training on cycles 1 to 4, Validating on cycle 5\n",
      "Evaluating: Feature Subset: ['days_since_election', 'seats', 'government_status_coalition', 'government_status_opposition', 'government_status_support', 'block_left', 'block_right', 'eu_anti_pro'], Params: {'n_estimators': 100, 'max_depth': 30}\n",
      "Training on cycles 1 to 4, Validating on cycle 5\n"
     ]
    },
    {
     "name": "stderr",
     "output_type": "stream",
     "text": [
      "Tuning XGBoost:  83%|████████▎ | 60/72 [00:43<00:18,  1.54s/it]"
     ]
    },
    {
     "name": "stdout",
     "output_type": "stream",
     "text": [
      "Training on cycles 1 to 4, Validating on cycle 5\n",
      "Evaluating: Feature Subset: ['days_since_election_2', 'seats', 'government_status_coalition', 'government_status_opposition', 'government_status_support', 'block_left', 'block_right', 'eu_anti_pro'], Params: {'n_estimators': 10, 'max_depth': 7}\n",
      "Training on cycles 1 to 4, Validating on cycle 5\n",
      "Training on cycles 1 to 4, Validating on cycle 5\n",
      "Evaluating: Feature Subset: ['days_since_election_2', 'seats', 'government_status_coalition', 'government_status_opposition', 'government_status_support', 'block_left', 'block_right', 'eu_anti_pro'], Params: {'n_estimators': 10, 'max_depth': 10}\n",
      "Training on cycles 1 to 4, Validating on cycle 5\n"
     ]
    },
    {
     "name": "stderr",
     "output_type": "stream",
     "text": [
      "Tuning XGBoost:  86%|████████▌ | 62/72 [00:43<00:08,  1.14it/s]"
     ]
    },
    {
     "name": "stdout",
     "output_type": "stream",
     "text": [
      "Training on cycles 1 to 4, Validating on cycle 5\n",
      "Evaluating: Feature Subset: ['days_since_election_2', 'seats', 'government_status_coalition', 'government_status_opposition', 'government_status_support', 'block_left', 'block_right', 'eu_anti_pro'], Params: {'n_estimators': 10, 'max_depth': 20}\n",
      "Training on cycles 1 to 4, Validating on cycle 5\n"
     ]
    },
    {
     "name": "stderr",
     "output_type": "stream",
     "text": [
      "Tuning XGBoost:  88%|████████▊ | 63/72 [00:44<00:06,  1.30it/s]"
     ]
    },
    {
     "name": "stdout",
     "output_type": "stream",
     "text": [
      "Training on cycles 1 to 4, Validating on cycle 5\n",
      "Evaluating: Feature Subset: ['days_since_election_2', 'seats', 'government_status_coalition', 'government_status_opposition', 'government_status_support', 'block_left', 'block_right', 'eu_anti_pro'], Params: {'n_estimators': 10, 'max_depth': 30}\n",
      "Training on cycles 1 to 4, Validating on cycle 5\n"
     ]
    },
    {
     "name": "stderr",
     "output_type": "stream",
     "text": [
      "Tuning XGBoost:  89%|████████▉ | 64/72 [00:44<00:05,  1.41it/s]"
     ]
    },
    {
     "name": "stdout",
     "output_type": "stream",
     "text": [
      "Training on cycles 1 to 4, Validating on cycle 5\n",
      "Evaluating: Feature Subset: ['days_since_election_2', 'seats', 'government_status_coalition', 'government_status_opposition', 'government_status_support', 'block_left', 'block_right', 'eu_anti_pro'], Params: {'n_estimators': 50, 'max_depth': 7}\n",
      "Training on cycles 1 to 4, Validating on cycle 5\n"
     ]
    },
    {
     "name": "stderr",
     "output_type": "stream",
     "text": [
      "Tuning XGBoost:  90%|█████████ | 65/72 [00:45<00:04,  1.68it/s]"
     ]
    },
    {
     "name": "stdout",
     "output_type": "stream",
     "text": [
      "Training on cycles 1 to 4, Validating on cycle 5\n",
      "Evaluating: Feature Subset: ['days_since_election_2', 'seats', 'government_status_coalition', 'government_status_opposition', 'government_status_support', 'block_left', 'block_right', 'eu_anti_pro'], Params: {'n_estimators': 50, 'max_depth': 10}\n",
      "Training on cycles 1 to 4, Validating on cycle 5\n"
     ]
    },
    {
     "name": "stderr",
     "output_type": "stream",
     "text": [
      "Tuning XGBoost:  92%|█████████▏| 66/72 [00:45<00:03,  1.85it/s]"
     ]
    },
    {
     "name": "stdout",
     "output_type": "stream",
     "text": [
      "Training on cycles 1 to 4, Validating on cycle 5\n",
      "Evaluating: Feature Subset: ['days_since_election_2', 'seats', 'government_status_coalition', 'government_status_opposition', 'government_status_support', 'block_left', 'block_right', 'eu_anti_pro'], Params: {'n_estimators': 50, 'max_depth': 20}\n",
      "Training on cycles 1 to 4, Validating on cycle 5\n"
     ]
    },
    {
     "name": "stderr",
     "output_type": "stream",
     "text": [
      "Tuning XGBoost:  93%|█████████▎| 67/72 [00:46<00:03,  1.30it/s]"
     ]
    },
    {
     "name": "stdout",
     "output_type": "stream",
     "text": [
      "Training on cycles 1 to 4, Validating on cycle 5\n",
      "Evaluating: Feature Subset: ['days_since_election_2', 'seats', 'government_status_coalition', 'government_status_opposition', 'government_status_support', 'block_left', 'block_right', 'eu_anti_pro'], Params: {'n_estimators': 50, 'max_depth': 30}\n",
      "Training on cycles 1 to 4, Validating on cycle 5\n"
     ]
    },
    {
     "name": "stderr",
     "output_type": "stream",
     "text": [
      "Tuning XGBoost:  94%|█████████▍| 68/72 [00:49<00:05,  1.30s/it]"
     ]
    },
    {
     "name": "stdout",
     "output_type": "stream",
     "text": [
      "Training on cycles 1 to 4, Validating on cycle 5\n",
      "Evaluating: Feature Subset: ['days_since_election_2', 'seats', 'government_status_coalition', 'government_status_opposition', 'government_status_support', 'block_left', 'block_right', 'eu_anti_pro'], Params: {'n_estimators': 100, 'max_depth': 7}\n",
      "Training on cycles 1 to 4, Validating on cycle 5\n"
     ]
    },
    {
     "name": "stderr",
     "output_type": "stream",
     "text": [
      "Tuning XGBoost:  96%|█████████▌| 69/72 [00:50<00:03,  1.07s/it]"
     ]
    },
    {
     "name": "stdout",
     "output_type": "stream",
     "text": [
      "Training on cycles 1 to 4, Validating on cycle 5\n",
      "Evaluating: Feature Subset: ['days_since_election_2', 'seats', 'government_status_coalition', 'government_status_opposition', 'government_status_support', 'block_left', 'block_right', 'eu_anti_pro'], Params: {'n_estimators': 100, 'max_depth': 10}\n",
      "Training on cycles 1 to 4, Validating on cycle 5\n"
     ]
    },
    {
     "name": "stderr",
     "output_type": "stream",
     "text": [
      "Tuning XGBoost:  97%|█████████▋| 70/72 [00:50<00:01,  1.03it/s]"
     ]
    },
    {
     "name": "stdout",
     "output_type": "stream",
     "text": [
      "Training on cycles 1 to 4, Validating on cycle 5\n",
      "Evaluating: Feature Subset: ['days_since_election_2', 'seats', 'government_status_coalition', 'government_status_opposition', 'government_status_support', 'block_left', 'block_right', 'eu_anti_pro'], Params: {'n_estimators': 100, 'max_depth': 20}\n",
      "Training on cycles 1 to 4, Validating on cycle 5\n"
     ]
    },
    {
     "name": "stderr",
     "output_type": "stream",
     "text": [
      "Tuning XGBoost:  99%|█████████▊| 71/72 [00:52<00:01,  1.18s/it]"
     ]
    },
    {
     "name": "stdout",
     "output_type": "stream",
     "text": [
      "Training on cycles 1 to 4, Validating on cycle 5\n",
      "Evaluating: Feature Subset: ['days_since_election_2', 'seats', 'government_status_coalition', 'government_status_opposition', 'government_status_support', 'block_left', 'block_right', 'eu_anti_pro'], Params: {'n_estimators': 100, 'max_depth': 30}\n",
      "Training on cycles 1 to 4, Validating on cycle 5\n"
     ]
    },
    {
     "name": "stderr",
     "output_type": "stream",
     "text": [
      "Tuning XGBoost: 100%|██████████| 72/72 [00:54<00:00,  1.32it/s]\n"
     ]
    },
    {
     "name": "stdout",
     "output_type": "stream",
     "text": [
      "Training on cycles 1 to 4, Validating on cycle 5\n",
      "Tuning LinearRegression model...\n"
     ]
    },
    {
     "name": "stderr",
     "output_type": "stream",
     "text": [
      "Tuning LinearRegression:   0%|          | 0/12 [00:00<?, ?it/s]"
     ]
    },
    {
     "name": "stdout",
     "output_type": "stream",
     "text": [
      "Evaluating: Feature Subset: ['days_since_election', 'seats'], Params: {'fit_intercept': True}\n",
      "Training on cycles 1 to 4, Validating on cycle 5\n",
      "Training on cycles 1 to 4, Validating on cycle 5\n",
      "Evaluating: Feature Subset: ['days_since_election', 'seats'], Params: {'fit_intercept': False}\n",
      "Training on cycles 1 to 4, Validating on cycle 5\n",
      "Training on cycles 1 to 4, Validating on cycle 5\n",
      "Evaluating: Feature Subset: ['seats', 'government_status_coalition', 'government_status_opposition', 'government_status_support'], Params: {'fit_intercept': True}\n",
      "Training on cycles 1 to 4, Validating on cycle 5\n"
     ]
    },
    {
     "name": "stderr",
     "output_type": "stream",
     "text": [
      "Tuning LinearRegression:  42%|████▏     | 5/12 [00:00<00:00, 12.18it/s]"
     ]
    },
    {
     "name": "stdout",
     "output_type": "stream",
     "text": [
      "Training on cycles 1 to 4, Validating on cycle 5\n",
      "Evaluating: Feature Subset: ['seats', 'government_status_coalition', 'government_status_opposition', 'government_status_support'], Params: {'fit_intercept': False}\n",
      "Training on cycles 1 to 4, Validating on cycle 5\n",
      "Training on cycles 1 to 4, Validating on cycle 5\n",
      "Evaluating: Feature Subset: ['seats', 'government_status_coalition', 'government_status_opposition', 'government_status_support', 'block_left', 'block_right'], Params: {'fit_intercept': True}\n",
      "Training on cycles 1 to 4, Validating on cycle 5\n",
      "Training on cycles 1 to 4, Validating on cycle 5\n",
      "Evaluating: Feature Subset: ['seats', 'government_status_coalition', 'government_status_opposition', 'government_status_support', 'block_left', 'block_right'], Params: {'fit_intercept': False}\n",
      "Training on cycles 1 to 4, Validating on cycle 5\n",
      "Training on cycles 1 to 4, Validating on cycle 5\n",
      "Evaluating: Feature Subset: ['days_since_election', 'seats', 'government_status_coalition', 'government_status_opposition', 'government_status_support', 'block_left', 'block_right'], Params: {'fit_intercept': True}\n",
      "Training on cycles 1 to 4, Validating on cycle 5\n"
     ]
    },
    {
     "name": "stderr",
     "output_type": "stream",
     "text": [
      "Tuning LinearRegression:  58%|█████▊    | 7/12 [00:01<00:00,  5.09it/s]"
     ]
    },
    {
     "name": "stdout",
     "output_type": "stream",
     "text": [
      "Training on cycles 1 to 4, Validating on cycle 5\n",
      "Evaluating: Feature Subset: ['days_since_election', 'seats', 'government_status_coalition', 'government_status_opposition', 'government_status_support', 'block_left', 'block_right'], Params: {'fit_intercept': False}\n",
      "Training on cycles 1 to 4, Validating on cycle 5\n",
      "Training on cycles 1 to 4, Validating on cycle 5\n"
     ]
    },
    {
     "name": "stderr",
     "output_type": "stream",
     "text": [
      "Tuning LinearRegression:  75%|███████▌  | 9/12 [00:01<00:00,  5.06it/s]"
     ]
    },
    {
     "name": "stdout",
     "output_type": "stream",
     "text": [
      "Evaluating: Feature Subset: ['days_since_election', 'seats', 'government_status_coalition', 'government_status_opposition', 'government_status_support', 'block_left', 'block_right', 'eu_anti_pro'], Params: {'fit_intercept': True}\n",
      "Training on cycles 1 to 4, Validating on cycle 5\n",
      "Training on cycles 1 to 4, Validating on cycle 5\n",
      "Evaluating: Feature Subset: ['days_since_election', 'seats', 'government_status_coalition', 'government_status_opposition', 'government_status_support', 'block_left', 'block_right', 'eu_anti_pro'], Params: {'fit_intercept': False}\n",
      "Training on cycles 1 to 4, Validating on cycle 5\n"
     ]
    },
    {
     "name": "stderr",
     "output_type": "stream",
     "text": [
      "Tuning LinearRegression:  83%|████████▎ | 10/12 [00:01<00:00,  5.18it/s]"
     ]
    },
    {
     "name": "stdout",
     "output_type": "stream",
     "text": [
      "Training on cycles 1 to 4, Validating on cycle 5\n",
      "Evaluating: Feature Subset: ['days_since_election_2', 'seats', 'government_status_coalition', 'government_status_opposition', 'government_status_support', 'block_left', 'block_right', 'eu_anti_pro'], Params: {'fit_intercept': True}\n",
      "Training on cycles 1 to 4, Validating on cycle 5\n",
      "Training on cycles 1 to 4, Validating on cycle 5\n"
     ]
    },
    {
     "name": "stderr",
     "output_type": "stream",
     "text": [
      "Tuning LinearRegression: 100%|██████████| 12/12 [00:02<00:00,  5.81it/s]\n"
     ]
    },
    {
     "name": "stdout",
     "output_type": "stream",
     "text": [
      "Evaluating: Feature Subset: ['days_since_election_2', 'seats', 'government_status_coalition', 'government_status_opposition', 'government_status_support', 'block_left', 'block_right', 'eu_anti_pro'], Params: {'fit_intercept': False}\n",
      "Training on cycles 1 to 4, Validating on cycle 5\n",
      "Training on cycles 1 to 4, Validating on cycle 5\n",
      "Tuning LSTM model...\n"
     ]
    },
    {
     "name": "stderr",
     "output_type": "stream",
     "text": [
      "Tuning LSTM:   0%|          | 0/72 [00:00<?, ?it/s]/Users/pbrams/Desktop/AARHUS_UNIVERSITY/kandidat/data_sci/data_sci_project/DS_EXAM_BACKUP/politicians_not_people_env/lib/python3.12/site-packages/keras/src/layers/rnn/rnn.py:204: UserWarning: Do not pass an `input_shape`/`input_dim` argument to a layer. When using Sequential models, prefer using an `Input(shape)` object as the first layer in the model instead.\n",
      "  super().__init__(**kwargs)\n"
     ]
    },
    {
     "name": "stdout",
     "output_type": "stream",
     "text": [
      "Evaluating LSTM: Feature Subset: ['days_since_election', 'seats'], Units: 2, Epochs: 10, Batch Size: 32\n",
      "Training on cycles 1 to 4, Validating on cycle 5\n",
      "\u001b[1m93/93\u001b[0m \u001b[32m━━━━━━━━━━━━━━━━━━━━\u001b[0m\u001b[37m\u001b[0m \u001b[1m0s\u001b[0m 1ms/step\n"
     ]
    },
    {
     "name": "stderr",
     "output_type": "stream",
     "text": [
      "Tuning LSTM:   1%|▏         | 1/72 [00:03<03:56,  3.33s/it]"
     ]
    },
    {
     "name": "stdout",
     "output_type": "stream",
     "text": [
      "Evaluating LSTM: Feature Subset: ['days_since_election', 'seats'], Units: 2, Epochs: 10, Batch Size: 64\n",
      "Training on cycles 1 to 4, Validating on cycle 5\n"
     ]
    },
    {
     "name": "stderr",
     "output_type": "stream",
     "text": [
      "/Users/pbrams/Desktop/AARHUS_UNIVERSITY/kandidat/data_sci/data_sci_project/DS_EXAM_BACKUP/politicians_not_people_env/lib/python3.12/site-packages/keras/src/layers/rnn/rnn.py:204: UserWarning: Do not pass an `input_shape`/`input_dim` argument to a layer. When using Sequential models, prefer using an `Input(shape)` object as the first layer in the model instead.\n",
      "  super().__init__(**kwargs)\n"
     ]
    },
    {
     "name": "stdout",
     "output_type": "stream",
     "text": [
      "\u001b[1m93/93\u001b[0m \u001b[32m━━━━━━━━━━━━━━━━━━━━\u001b[0m\u001b[37m\u001b[0m \u001b[1m0s\u001b[0m 2ms/step\n"
     ]
    },
    {
     "name": "stderr",
     "output_type": "stream",
     "text": [
      "Tuning LSTM:   3%|▎         | 2/72 [00:05<03:23,  2.90s/it]"
     ]
    },
    {
     "name": "stdout",
     "output_type": "stream",
     "text": [
      "Evaluating LSTM: Feature Subset: ['days_since_election', 'seats'], Units: 2, Epochs: 30, Batch Size: 32\n",
      "Training on cycles 1 to 4, Validating on cycle 5\n"
     ]
    },
    {
     "name": "stderr",
     "output_type": "stream",
     "text": [
      "/Users/pbrams/Desktop/AARHUS_UNIVERSITY/kandidat/data_sci/data_sci_project/DS_EXAM_BACKUP/politicians_not_people_env/lib/python3.12/site-packages/keras/src/layers/rnn/rnn.py:204: UserWarning: Do not pass an `input_shape`/`input_dim` argument to a layer. When using Sequential models, prefer using an `Input(shape)` object as the first layer in the model instead.\n",
      "  super().__init__(**kwargs)\n"
     ]
    },
    {
     "name": "stdout",
     "output_type": "stream",
     "text": [
      "\u001b[1m93/93\u001b[0m \u001b[32m━━━━━━━━━━━━━━━━━━━━\u001b[0m\u001b[37m\u001b[0m \u001b[1m0s\u001b[0m 2ms/step\n"
     ]
    },
    {
     "name": "stderr",
     "output_type": "stream",
     "text": [
      "Tuning LSTM:   4%|▍         | 3/72 [00:17<07:52,  6.85s/it]"
     ]
    },
    {
     "name": "stdout",
     "output_type": "stream",
     "text": [
      "Evaluating LSTM: Feature Subset: ['days_since_election', 'seats'], Units: 2, Epochs: 30, Batch Size: 64\n",
      "Training on cycles 1 to 4, Validating on cycle 5\n"
     ]
    },
    {
     "name": "stderr",
     "output_type": "stream",
     "text": [
      "/Users/pbrams/Desktop/AARHUS_UNIVERSITY/kandidat/data_sci/data_sci_project/DS_EXAM_BACKUP/politicians_not_people_env/lib/python3.12/site-packages/keras/src/layers/rnn/rnn.py:204: UserWarning: Do not pass an `input_shape`/`input_dim` argument to a layer. When using Sequential models, prefer using an `Input(shape)` object as the first layer in the model instead.\n",
      "  super().__init__(**kwargs)\n"
     ]
    },
    {
     "name": "stdout",
     "output_type": "stream",
     "text": [
      "\u001b[1m93/93\u001b[0m \u001b[32m━━━━━━━━━━━━━━━━━━━━\u001b[0m\u001b[37m\u001b[0m \u001b[1m0s\u001b[0m 2ms/step\n"
     ]
    },
    {
     "name": "stderr",
     "output_type": "stream",
     "text": [
      "Tuning LSTM:   6%|▌         | 4/72 [00:24<07:55,  6.99s/it]"
     ]
    },
    {
     "name": "stdout",
     "output_type": "stream",
     "text": [
      "Evaluating LSTM: Feature Subset: ['days_since_election', 'seats'], Units: 5, Epochs: 10, Batch Size: 32\n",
      "Training on cycles 1 to 4, Validating on cycle 5\n"
     ]
    },
    {
     "name": "stderr",
     "output_type": "stream",
     "text": [
      "/Users/pbrams/Desktop/AARHUS_UNIVERSITY/kandidat/data_sci/data_sci_project/DS_EXAM_BACKUP/politicians_not_people_env/lib/python3.12/site-packages/keras/src/layers/rnn/rnn.py:204: UserWarning: Do not pass an `input_shape`/`input_dim` argument to a layer. When using Sequential models, prefer using an `Input(shape)` object as the first layer in the model instead.\n",
      "  super().__init__(**kwargs)\n"
     ]
    },
    {
     "name": "stdout",
     "output_type": "stream",
     "text": [
      "\u001b[1m93/93\u001b[0m \u001b[32m━━━━━━━━━━━━━━━━━━━━\u001b[0m\u001b[37m\u001b[0m \u001b[1m0s\u001b[0m 1ms/step\n"
     ]
    },
    {
     "name": "stderr",
     "output_type": "stream",
     "text": [
      "Tuning LSTM:   7%|▋         | 5/72 [00:28<06:20,  5.68s/it]"
     ]
    },
    {
     "name": "stdout",
     "output_type": "stream",
     "text": [
      "Evaluating LSTM: Feature Subset: ['days_since_election', 'seats'], Units: 5, Epochs: 10, Batch Size: 64\n",
      "Training on cycles 1 to 4, Validating on cycle 5\n"
     ]
    },
    {
     "name": "stderr",
     "output_type": "stream",
     "text": [
      "/Users/pbrams/Desktop/AARHUS_UNIVERSITY/kandidat/data_sci/data_sci_project/DS_EXAM_BACKUP/politicians_not_people_env/lib/python3.12/site-packages/keras/src/layers/rnn/rnn.py:204: UserWarning: Do not pass an `input_shape`/`input_dim` argument to a layer. When using Sequential models, prefer using an `Input(shape)` object as the first layer in the model instead.\n",
      "  super().__init__(**kwargs)\n"
     ]
    },
    {
     "name": "stdout",
     "output_type": "stream",
     "text": [
      "\u001b[1m93/93\u001b[0m \u001b[32m━━━━━━━━━━━━━━━━━━━━\u001b[0m\u001b[37m\u001b[0m \u001b[1m0s\u001b[0m 1ms/step\n"
     ]
    },
    {
     "name": "stderr",
     "output_type": "stream",
     "text": [
      "Tuning LSTM:   8%|▊         | 6/72 [00:30<05:00,  4.55s/it]"
     ]
    },
    {
     "name": "stdout",
     "output_type": "stream",
     "text": [
      "Evaluating LSTM: Feature Subset: ['days_since_election', 'seats'], Units: 5, Epochs: 30, Batch Size: 32\n",
      "Training on cycles 1 to 4, Validating on cycle 5\n"
     ]
    },
    {
     "name": "stderr",
     "output_type": "stream",
     "text": [
      "/Users/pbrams/Desktop/AARHUS_UNIVERSITY/kandidat/data_sci/data_sci_project/DS_EXAM_BACKUP/politicians_not_people_env/lib/python3.12/site-packages/keras/src/layers/rnn/rnn.py:204: UserWarning: Do not pass an `input_shape`/`input_dim` argument to a layer. When using Sequential models, prefer using an `Input(shape)` object as the first layer in the model instead.\n",
      "  super().__init__(**kwargs)\n"
     ]
    },
    {
     "name": "stdout",
     "output_type": "stream",
     "text": [
      "\u001b[1m93/93\u001b[0m \u001b[32m━━━━━━━━━━━━━━━━━━━━\u001b[0m\u001b[37m\u001b[0m \u001b[1m0s\u001b[0m 1ms/step\n"
     ]
    },
    {
     "name": "stderr",
     "output_type": "stream",
     "text": [
      "Tuning LSTM:  10%|▉         | 7/72 [00:35<05:03,  4.67s/it]"
     ]
    },
    {
     "name": "stdout",
     "output_type": "stream",
     "text": [
      "Evaluating LSTM: Feature Subset: ['days_since_election', 'seats'], Units: 5, Epochs: 30, Batch Size: 64\n",
      "Training on cycles 1 to 4, Validating on cycle 5\n"
     ]
    },
    {
     "name": "stderr",
     "output_type": "stream",
     "text": [
      "/Users/pbrams/Desktop/AARHUS_UNIVERSITY/kandidat/data_sci/data_sci_project/DS_EXAM_BACKUP/politicians_not_people_env/lib/python3.12/site-packages/keras/src/layers/rnn/rnn.py:204: UserWarning: Do not pass an `input_shape`/`input_dim` argument to a layer. When using Sequential models, prefer using an `Input(shape)` object as the first layer in the model instead.\n",
      "  super().__init__(**kwargs)\n"
     ]
    },
    {
     "name": "stdout",
     "output_type": "stream",
     "text": [
      "\u001b[1m93/93\u001b[0m \u001b[32m━━━━━━━━━━━━━━━━━━━━\u001b[0m\u001b[37m\u001b[0m \u001b[1m0s\u001b[0m 1ms/step\n"
     ]
    },
    {
     "name": "stderr",
     "output_type": "stream",
     "text": [
      "Tuning LSTM:  11%|█         | 8/72 [00:39<04:42,  4.42s/it]"
     ]
    },
    {
     "name": "stdout",
     "output_type": "stream",
     "text": [
      "Evaluating LSTM: Feature Subset: ['days_since_election', 'seats'], Units: 10, Epochs: 10, Batch Size: 32\n",
      "Training on cycles 1 to 4, Validating on cycle 5\n"
     ]
    },
    {
     "name": "stderr",
     "output_type": "stream",
     "text": [
      "/Users/pbrams/Desktop/AARHUS_UNIVERSITY/kandidat/data_sci/data_sci_project/DS_EXAM_BACKUP/politicians_not_people_env/lib/python3.12/site-packages/keras/src/layers/rnn/rnn.py:204: UserWarning: Do not pass an `input_shape`/`input_dim` argument to a layer. When using Sequential models, prefer using an `Input(shape)` object as the first layer in the model instead.\n",
      "  super().__init__(**kwargs)\n"
     ]
    },
    {
     "name": "stdout",
     "output_type": "stream",
     "text": [
      "\u001b[1m93/93\u001b[0m \u001b[32m━━━━━━━━━━━━━━━━━━━━\u001b[0m\u001b[37m\u001b[0m \u001b[1m0s\u001b[0m 1ms/step\n"
     ]
    },
    {
     "name": "stderr",
     "output_type": "stream",
     "text": [
      "Tuning LSTM:  12%|█▎        | 9/72 [00:42<04:21,  4.15s/it]"
     ]
    },
    {
     "name": "stdout",
     "output_type": "stream",
     "text": [
      "Evaluating LSTM: Feature Subset: ['days_since_election', 'seats'], Units: 10, Epochs: 10, Batch Size: 64\n",
      "Training on cycles 1 to 4, Validating on cycle 5\n"
     ]
    },
    {
     "name": "stderr",
     "output_type": "stream",
     "text": [
      "/Users/pbrams/Desktop/AARHUS_UNIVERSITY/kandidat/data_sci/data_sci_project/DS_EXAM_BACKUP/politicians_not_people_env/lib/python3.12/site-packages/keras/src/layers/rnn/rnn.py:204: UserWarning: Do not pass an `input_shape`/`input_dim` argument to a layer. When using Sequential models, prefer using an `Input(shape)` object as the first layer in the model instead.\n",
      "  super().__init__(**kwargs)\n"
     ]
    },
    {
     "name": "stdout",
     "output_type": "stream",
     "text": [
      "\u001b[1m93/93\u001b[0m \u001b[32m━━━━━━━━━━━━━━━━━━━━\u001b[0m\u001b[37m\u001b[0m \u001b[1m0s\u001b[0m 2ms/step\n"
     ]
    },
    {
     "name": "stderr",
     "output_type": "stream",
     "text": [
      "Tuning LSTM:  14%|█▍        | 10/72 [00:45<03:46,  3.65s/it]"
     ]
    },
    {
     "name": "stdout",
     "output_type": "stream",
     "text": [
      "Evaluating LSTM: Feature Subset: ['days_since_election', 'seats'], Units: 10, Epochs: 30, Batch Size: 32\n",
      "Training on cycles 1 to 4, Validating on cycle 5\n"
     ]
    },
    {
     "name": "stderr",
     "output_type": "stream",
     "text": [
      "/Users/pbrams/Desktop/AARHUS_UNIVERSITY/kandidat/data_sci/data_sci_project/DS_EXAM_BACKUP/politicians_not_people_env/lib/python3.12/site-packages/keras/src/layers/rnn/rnn.py:204: UserWarning: Do not pass an `input_shape`/`input_dim` argument to a layer. When using Sequential models, prefer using an `Input(shape)` object as the first layer in the model instead.\n",
      "  super().__init__(**kwargs)\n"
     ]
    },
    {
     "name": "stdout",
     "output_type": "stream",
     "text": [
      "\u001b[1m93/93\u001b[0m \u001b[32m━━━━━━━━━━━━━━━━━━━━\u001b[0m\u001b[37m\u001b[0m \u001b[1m0s\u001b[0m 1ms/step\n"
     ]
    },
    {
     "name": "stderr",
     "output_type": "stream",
     "text": [
      "Tuning LSTM:  15%|█▌        | 11/72 [00:49<03:53,  3.83s/it]"
     ]
    },
    {
     "name": "stdout",
     "output_type": "stream",
     "text": [
      "Evaluating LSTM: Feature Subset: ['days_since_election', 'seats'], Units: 10, Epochs: 30, Batch Size: 64\n",
      "Training on cycles 1 to 4, Validating on cycle 5\n"
     ]
    },
    {
     "name": "stderr",
     "output_type": "stream",
     "text": [
      "/Users/pbrams/Desktop/AARHUS_UNIVERSITY/kandidat/data_sci/data_sci_project/DS_EXAM_BACKUP/politicians_not_people_env/lib/python3.12/site-packages/keras/src/layers/rnn/rnn.py:204: UserWarning: Do not pass an `input_shape`/`input_dim` argument to a layer. When using Sequential models, prefer using an `Input(shape)` object as the first layer in the model instead.\n",
      "  super().__init__(**kwargs)\n"
     ]
    },
    {
     "name": "stdout",
     "output_type": "stream",
     "text": [
      "\u001b[1m93/93\u001b[0m \u001b[32m━━━━━━━━━━━━━━━━━━━━\u001b[0m\u001b[37m\u001b[0m \u001b[1m0s\u001b[0m 1ms/step\n"
     ]
    },
    {
     "name": "stderr",
     "output_type": "stream",
     "text": [
      "Tuning LSTM:  17%|█▋        | 12/72 [00:53<03:50,  3.85s/it]"
     ]
    },
    {
     "name": "stdout",
     "output_type": "stream",
     "text": [
      "Evaluating LSTM: Feature Subset: ['seats', 'government_status_coalition', 'government_status_opposition', 'government_status_support'], Units: 2, Epochs: 10, Batch Size: 32\n",
      "Training on cycles 1 to 4, Validating on cycle 5\n"
     ]
    },
    {
     "name": "stderr",
     "output_type": "stream",
     "text": [
      "/Users/pbrams/Desktop/AARHUS_UNIVERSITY/kandidat/data_sci/data_sci_project/DS_EXAM_BACKUP/politicians_not_people_env/lib/python3.12/site-packages/keras/src/layers/rnn/rnn.py:204: UserWarning: Do not pass an `input_shape`/`input_dim` argument to a layer. When using Sequential models, prefer using an `Input(shape)` object as the first layer in the model instead.\n",
      "  super().__init__(**kwargs)\n"
     ]
    },
    {
     "name": "stdout",
     "output_type": "stream",
     "text": [
      "\u001b[1m93/93\u001b[0m \u001b[32m━━━━━━━━━━━━━━━━━━━━\u001b[0m\u001b[37m\u001b[0m \u001b[1m0s\u001b[0m 1ms/step\n"
     ]
    },
    {
     "name": "stderr",
     "output_type": "stream",
     "text": [
      "Tuning LSTM:  18%|█▊        | 13/72 [00:57<03:44,  3.81s/it]"
     ]
    },
    {
     "name": "stdout",
     "output_type": "stream",
     "text": [
      "Evaluating LSTM: Feature Subset: ['seats', 'government_status_coalition', 'government_status_opposition', 'government_status_support'], Units: 2, Epochs: 10, Batch Size: 64\n",
      "Training on cycles 1 to 4, Validating on cycle 5\n"
     ]
    },
    {
     "name": "stderr",
     "output_type": "stream",
     "text": [
      "/Users/pbrams/Desktop/AARHUS_UNIVERSITY/kandidat/data_sci/data_sci_project/DS_EXAM_BACKUP/politicians_not_people_env/lib/python3.12/site-packages/keras/src/layers/rnn/rnn.py:204: UserWarning: Do not pass an `input_shape`/`input_dim` argument to a layer. When using Sequential models, prefer using an `Input(shape)` object as the first layer in the model instead.\n",
      "  super().__init__(**kwargs)\n"
     ]
    },
    {
     "name": "stdout",
     "output_type": "stream",
     "text": [
      "\u001b[1m93/93\u001b[0m \u001b[32m━━━━━━━━━━━━━━━━━━━━\u001b[0m\u001b[37m\u001b[0m \u001b[1m0s\u001b[0m 1ms/step\n"
     ]
    },
    {
     "name": "stderr",
     "output_type": "stream",
     "text": [
      "Tuning LSTM:  19%|█▉        | 14/72 [00:59<03:14,  3.36s/it]"
     ]
    },
    {
     "name": "stdout",
     "output_type": "stream",
     "text": [
      "Evaluating LSTM: Feature Subset: ['seats', 'government_status_coalition', 'government_status_opposition', 'government_status_support'], Units: 2, Epochs: 30, Batch Size: 32\n",
      "Training on cycles 1 to 4, Validating on cycle 5\n"
     ]
    },
    {
     "name": "stderr",
     "output_type": "stream",
     "text": [
      "/Users/pbrams/Desktop/AARHUS_UNIVERSITY/kandidat/data_sci/data_sci_project/DS_EXAM_BACKUP/politicians_not_people_env/lib/python3.12/site-packages/keras/src/layers/rnn/rnn.py:204: UserWarning: Do not pass an `input_shape`/`input_dim` argument to a layer. When using Sequential models, prefer using an `Input(shape)` object as the first layer in the model instead.\n",
      "  super().__init__(**kwargs)\n"
     ]
    },
    {
     "name": "stdout",
     "output_type": "stream",
     "text": [
      "\u001b[1m93/93\u001b[0m \u001b[32m━━━━━━━━━━━━━━━━━━━━\u001b[0m\u001b[37m\u001b[0m \u001b[1m0s\u001b[0m 1ms/step\n"
     ]
    },
    {
     "name": "stderr",
     "output_type": "stream",
     "text": [
      "Tuning LSTM:  21%|██        | 15/72 [01:06<04:22,  4.60s/it]"
     ]
    },
    {
     "name": "stdout",
     "output_type": "stream",
     "text": [
      "Evaluating LSTM: Feature Subset: ['seats', 'government_status_coalition', 'government_status_opposition', 'government_status_support'], Units: 2, Epochs: 30, Batch Size: 64\n",
      "Training on cycles 1 to 4, Validating on cycle 5\n"
     ]
    },
    {
     "name": "stderr",
     "output_type": "stream",
     "text": [
      "/Users/pbrams/Desktop/AARHUS_UNIVERSITY/kandidat/data_sci/data_sci_project/DS_EXAM_BACKUP/politicians_not_people_env/lib/python3.12/site-packages/keras/src/layers/rnn/rnn.py:204: UserWarning: Do not pass an `input_shape`/`input_dim` argument to a layer. When using Sequential models, prefer using an `Input(shape)` object as the first layer in the model instead.\n",
      "  super().__init__(**kwargs)\n"
     ]
    },
    {
     "name": "stdout",
     "output_type": "stream",
     "text": [
      "\u001b[1m93/93\u001b[0m \u001b[32m━━━━━━━━━━━━━━━━━━━━\u001b[0m\u001b[37m\u001b[0m \u001b[1m0s\u001b[0m 1ms/step\n"
     ]
    },
    {
     "name": "stderr",
     "output_type": "stream",
     "text": [
      "Tuning LSTM:  22%|██▏       | 16/72 [01:11<04:19,  4.63s/it]"
     ]
    },
    {
     "name": "stdout",
     "output_type": "stream",
     "text": [
      "Evaluating LSTM: Feature Subset: ['seats', 'government_status_coalition', 'government_status_opposition', 'government_status_support'], Units: 5, Epochs: 10, Batch Size: 32\n",
      "Training on cycles 1 to 4, Validating on cycle 5\n"
     ]
    },
    {
     "name": "stderr",
     "output_type": "stream",
     "text": [
      "/Users/pbrams/Desktop/AARHUS_UNIVERSITY/kandidat/data_sci/data_sci_project/DS_EXAM_BACKUP/politicians_not_people_env/lib/python3.12/site-packages/keras/src/layers/rnn/rnn.py:204: UserWarning: Do not pass an `input_shape`/`input_dim` argument to a layer. When using Sequential models, prefer using an `Input(shape)` object as the first layer in the model instead.\n",
      "  super().__init__(**kwargs)\n"
     ]
    },
    {
     "name": "stdout",
     "output_type": "stream",
     "text": [
      "\u001b[1m93/93\u001b[0m \u001b[32m━━━━━━━━━━━━━━━━━━━━\u001b[0m\u001b[37m\u001b[0m \u001b[1m0s\u001b[0m 1ms/step\n"
     ]
    },
    {
     "name": "stderr",
     "output_type": "stream",
     "text": [
      "Tuning LSTM:  24%|██▎       | 17/72 [01:14<03:53,  4.24s/it]"
     ]
    },
    {
     "name": "stdout",
     "output_type": "stream",
     "text": [
      "Evaluating LSTM: Feature Subset: ['seats', 'government_status_coalition', 'government_status_opposition', 'government_status_support'], Units: 5, Epochs: 10, Batch Size: 64\n",
      "Training on cycles 1 to 4, Validating on cycle 5\n"
     ]
    },
    {
     "name": "stderr",
     "output_type": "stream",
     "text": [
      "/Users/pbrams/Desktop/AARHUS_UNIVERSITY/kandidat/data_sci/data_sci_project/DS_EXAM_BACKUP/politicians_not_people_env/lib/python3.12/site-packages/keras/src/layers/rnn/rnn.py:204: UserWarning: Do not pass an `input_shape`/`input_dim` argument to a layer. When using Sequential models, prefer using an `Input(shape)` object as the first layer in the model instead.\n",
      "  super().__init__(**kwargs)\n"
     ]
    },
    {
     "name": "stdout",
     "output_type": "stream",
     "text": [
      "\u001b[1m93/93\u001b[0m \u001b[32m━━━━━━━━━━━━━━━━━━━━\u001b[0m\u001b[37m\u001b[0m \u001b[1m0s\u001b[0m 1ms/step\n"
     ]
    },
    {
     "name": "stderr",
     "output_type": "stream",
     "text": [
      "Tuning LSTM:  25%|██▌       | 18/72 [01:17<03:16,  3.64s/it]"
     ]
    },
    {
     "name": "stdout",
     "output_type": "stream",
     "text": [
      "Evaluating LSTM: Feature Subset: ['seats', 'government_status_coalition', 'government_status_opposition', 'government_status_support'], Units: 5, Epochs: 30, Batch Size: 32\n",
      "Training on cycles 1 to 4, Validating on cycle 5\n"
     ]
    },
    {
     "name": "stderr",
     "output_type": "stream",
     "text": [
      "/Users/pbrams/Desktop/AARHUS_UNIVERSITY/kandidat/data_sci/data_sci_project/DS_EXAM_BACKUP/politicians_not_people_env/lib/python3.12/site-packages/keras/src/layers/rnn/rnn.py:204: UserWarning: Do not pass an `input_shape`/`input_dim` argument to a layer. When using Sequential models, prefer using an `Input(shape)` object as the first layer in the model instead.\n",
      "  super().__init__(**kwargs)\n"
     ]
    },
    {
     "name": "stdout",
     "output_type": "stream",
     "text": [
      "\u001b[1m93/93\u001b[0m \u001b[32m━━━━━━━━━━━━━━━━━━━━\u001b[0m\u001b[37m\u001b[0m \u001b[1m0s\u001b[0m 1ms/step\n"
     ]
    },
    {
     "name": "stderr",
     "output_type": "stream",
     "text": [
      "Tuning LSTM:  26%|██▋       | 19/72 [01:21<03:26,  3.90s/it]"
     ]
    },
    {
     "name": "stdout",
     "output_type": "stream",
     "text": [
      "Evaluating LSTM: Feature Subset: ['seats', 'government_status_coalition', 'government_status_opposition', 'government_status_support'], Units: 5, Epochs: 30, Batch Size: 64\n",
      "Training on cycles 1 to 4, Validating on cycle 5\n"
     ]
    },
    {
     "name": "stderr",
     "output_type": "stream",
     "text": [
      "/Users/pbrams/Desktop/AARHUS_UNIVERSITY/kandidat/data_sci/data_sci_project/DS_EXAM_BACKUP/politicians_not_people_env/lib/python3.12/site-packages/keras/src/layers/rnn/rnn.py:204: UserWarning: Do not pass an `input_shape`/`input_dim` argument to a layer. When using Sequential models, prefer using an `Input(shape)` object as the first layer in the model instead.\n",
      "  super().__init__(**kwargs)\n"
     ]
    },
    {
     "name": "stdout",
     "output_type": "stream",
     "text": [
      "\u001b[1m93/93\u001b[0m \u001b[32m━━━━━━━━━━━━━━━━━━━━\u001b[0m\u001b[37m\u001b[0m \u001b[1m0s\u001b[0m 1ms/step \n"
     ]
    },
    {
     "name": "stderr",
     "output_type": "stream",
     "text": [
      "Tuning LSTM:  28%|██▊       | 20/72 [01:24<03:05,  3.56s/it]"
     ]
    },
    {
     "name": "stdout",
     "output_type": "stream",
     "text": [
      "Evaluating LSTM: Feature Subset: ['seats', 'government_status_coalition', 'government_status_opposition', 'government_status_support'], Units: 10, Epochs: 10, Batch Size: 32\n",
      "Training on cycles 1 to 4, Validating on cycle 5\n"
     ]
    },
    {
     "name": "stderr",
     "output_type": "stream",
     "text": [
      "/Users/pbrams/Desktop/AARHUS_UNIVERSITY/kandidat/data_sci/data_sci_project/DS_EXAM_BACKUP/politicians_not_people_env/lib/python3.12/site-packages/keras/src/layers/rnn/rnn.py:204: UserWarning: Do not pass an `input_shape`/`input_dim` argument to a layer. When using Sequential models, prefer using an `Input(shape)` object as the first layer in the model instead.\n",
      "  super().__init__(**kwargs)\n"
     ]
    },
    {
     "name": "stdout",
     "output_type": "stream",
     "text": [
      "\u001b[1m93/93\u001b[0m \u001b[32m━━━━━━━━━━━━━━━━━━━━\u001b[0m\u001b[37m\u001b[0m \u001b[1m0s\u001b[0m 1ms/step\n"
     ]
    },
    {
     "name": "stderr",
     "output_type": "stream",
     "text": [
      "Tuning LSTM:  29%|██▉       | 21/72 [01:27<02:48,  3.31s/it]"
     ]
    },
    {
     "name": "stdout",
     "output_type": "stream",
     "text": [
      "Evaluating LSTM: Feature Subset: ['seats', 'government_status_coalition', 'government_status_opposition', 'government_status_support'], Units: 10, Epochs: 10, Batch Size: 64\n",
      "Training on cycles 1 to 4, Validating on cycle 5\n"
     ]
    },
    {
     "name": "stderr",
     "output_type": "stream",
     "text": [
      "/Users/pbrams/Desktop/AARHUS_UNIVERSITY/kandidat/data_sci/data_sci_project/DS_EXAM_BACKUP/politicians_not_people_env/lib/python3.12/site-packages/keras/src/layers/rnn/rnn.py:204: UserWarning: Do not pass an `input_shape`/`input_dim` argument to a layer. When using Sequential models, prefer using an `Input(shape)` object as the first layer in the model instead.\n",
      "  super().__init__(**kwargs)\n"
     ]
    },
    {
     "name": "stdout",
     "output_type": "stream",
     "text": [
      "\u001b[1m93/93\u001b[0m \u001b[32m━━━━━━━━━━━━━━━━━━━━\u001b[0m\u001b[37m\u001b[0m \u001b[1m0s\u001b[0m 1ms/step\n"
     ]
    },
    {
     "name": "stderr",
     "output_type": "stream",
     "text": [
      "Tuning LSTM:  31%|███       | 22/72 [01:29<02:29,  3.00s/it]"
     ]
    },
    {
     "name": "stdout",
     "output_type": "stream",
     "text": [
      "Evaluating LSTM: Feature Subset: ['seats', 'government_status_coalition', 'government_status_opposition', 'government_status_support'], Units: 10, Epochs: 30, Batch Size: 32\n",
      "Training on cycles 1 to 4, Validating on cycle 5\n"
     ]
    },
    {
     "name": "stderr",
     "output_type": "stream",
     "text": [
      "/Users/pbrams/Desktop/AARHUS_UNIVERSITY/kandidat/data_sci/data_sci_project/DS_EXAM_BACKUP/politicians_not_people_env/lib/python3.12/site-packages/keras/src/layers/rnn/rnn.py:204: UserWarning: Do not pass an `input_shape`/`input_dim` argument to a layer. When using Sequential models, prefer using an `Input(shape)` object as the first layer in the model instead.\n",
      "  super().__init__(**kwargs)\n"
     ]
    },
    {
     "name": "stdout",
     "output_type": "stream",
     "text": [
      "\u001b[1m93/93\u001b[0m \u001b[32m━━━━━━━━━━━━━━━━━━━━\u001b[0m\u001b[37m\u001b[0m \u001b[1m0s\u001b[0m 1ms/step\n"
     ]
    },
    {
     "name": "stderr",
     "output_type": "stream",
     "text": [
      "Tuning LSTM:  32%|███▏      | 23/72 [01:32<02:28,  3.03s/it]"
     ]
    },
    {
     "name": "stdout",
     "output_type": "stream",
     "text": [
      "Evaluating LSTM: Feature Subset: ['seats', 'government_status_coalition', 'government_status_opposition', 'government_status_support'], Units: 10, Epochs: 30, Batch Size: 64\n",
      "Training on cycles 1 to 4, Validating on cycle 5\n"
     ]
    },
    {
     "name": "stderr",
     "output_type": "stream",
     "text": [
      "/Users/pbrams/Desktop/AARHUS_UNIVERSITY/kandidat/data_sci/data_sci_project/DS_EXAM_BACKUP/politicians_not_people_env/lib/python3.12/site-packages/keras/src/layers/rnn/rnn.py:204: UserWarning: Do not pass an `input_shape`/`input_dim` argument to a layer. When using Sequential models, prefer using an `Input(shape)` object as the first layer in the model instead.\n",
      "  super().__init__(**kwargs)\n"
     ]
    },
    {
     "name": "stdout",
     "output_type": "stream",
     "text": [
      "\u001b[1m93/93\u001b[0m \u001b[32m━━━━━━━━━━━━━━━━━━━━\u001b[0m\u001b[37m\u001b[0m \u001b[1m0s\u001b[0m 1ms/step\n"
     ]
    },
    {
     "name": "stderr",
     "output_type": "stream",
     "text": [
      "Tuning LSTM:  33%|███▎      | 24/72 [01:35<02:27,  3.07s/it]"
     ]
    },
    {
     "name": "stdout",
     "output_type": "stream",
     "text": [
      "Evaluating LSTM: Feature Subset: ['seats', 'government_status_coalition', 'government_status_opposition', 'government_status_support', 'block_left', 'block_right'], Units: 2, Epochs: 10, Batch Size: 32\n",
      "Training on cycles 1 to 4, Validating on cycle 5\n"
     ]
    },
    {
     "name": "stderr",
     "output_type": "stream",
     "text": [
      "/Users/pbrams/Desktop/AARHUS_UNIVERSITY/kandidat/data_sci/data_sci_project/DS_EXAM_BACKUP/politicians_not_people_env/lib/python3.12/site-packages/keras/src/layers/rnn/rnn.py:204: UserWarning: Do not pass an `input_shape`/`input_dim` argument to a layer. When using Sequential models, prefer using an `Input(shape)` object as the first layer in the model instead.\n",
      "  super().__init__(**kwargs)\n"
     ]
    },
    {
     "name": "stdout",
     "output_type": "stream",
     "text": [
      "\u001b[1m93/93\u001b[0m \u001b[32m━━━━━━━━━━━━━━━━━━━━\u001b[0m\u001b[37m\u001b[0m \u001b[1m0s\u001b[0m 2ms/step\n"
     ]
    },
    {
     "name": "stderr",
     "output_type": "stream",
     "text": [
      "Tuning LSTM:  35%|███▍      | 25/72 [01:39<02:38,  3.36s/it]"
     ]
    },
    {
     "name": "stdout",
     "output_type": "stream",
     "text": [
      "Evaluating LSTM: Feature Subset: ['seats', 'government_status_coalition', 'government_status_opposition', 'government_status_support', 'block_left', 'block_right'], Units: 2, Epochs: 10, Batch Size: 64\n",
      "Training on cycles 1 to 4, Validating on cycle 5\n"
     ]
    },
    {
     "name": "stderr",
     "output_type": "stream",
     "text": [
      "/Users/pbrams/Desktop/AARHUS_UNIVERSITY/kandidat/data_sci/data_sci_project/DS_EXAM_BACKUP/politicians_not_people_env/lib/python3.12/site-packages/keras/src/layers/rnn/rnn.py:204: UserWarning: Do not pass an `input_shape`/`input_dim` argument to a layer. When using Sequential models, prefer using an `Input(shape)` object as the first layer in the model instead.\n",
      "  super().__init__(**kwargs)\n"
     ]
    },
    {
     "name": "stdout",
     "output_type": "stream",
     "text": [
      "\u001b[1m93/93\u001b[0m \u001b[32m━━━━━━━━━━━━━━━━━━━━\u001b[0m\u001b[37m\u001b[0m \u001b[1m0s\u001b[0m 1ms/step\n"
     ]
    },
    {
     "name": "stderr",
     "output_type": "stream",
     "text": [
      "Tuning LSTM:  36%|███▌      | 26/72 [01:42<02:20,  3.05s/it]"
     ]
    },
    {
     "name": "stdout",
     "output_type": "stream",
     "text": [
      "Evaluating LSTM: Feature Subset: ['seats', 'government_status_coalition', 'government_status_opposition', 'government_status_support', 'block_left', 'block_right'], Units: 2, Epochs: 30, Batch Size: 32\n",
      "Training on cycles 1 to 4, Validating on cycle 5\n"
     ]
    },
    {
     "name": "stderr",
     "output_type": "stream",
     "text": [
      "/Users/pbrams/Desktop/AARHUS_UNIVERSITY/kandidat/data_sci/data_sci_project/DS_EXAM_BACKUP/politicians_not_people_env/lib/python3.12/site-packages/keras/src/layers/rnn/rnn.py:204: UserWarning: Do not pass an `input_shape`/`input_dim` argument to a layer. When using Sequential models, prefer using an `Input(shape)` object as the first layer in the model instead.\n",
      "  super().__init__(**kwargs)\n"
     ]
    },
    {
     "name": "stdout",
     "output_type": "stream",
     "text": [
      "\u001b[1m93/93\u001b[0m \u001b[32m━━━━━━━━━━━━━━━━━━━━\u001b[0m\u001b[37m\u001b[0m \u001b[1m0s\u001b[0m 1ms/step\n"
     ]
    },
    {
     "name": "stderr",
     "output_type": "stream",
     "text": [
      "Tuning LSTM:  38%|███▊      | 27/72 [01:49<03:12,  4.28s/it]"
     ]
    },
    {
     "name": "stdout",
     "output_type": "stream",
     "text": [
      "Evaluating LSTM: Feature Subset: ['seats', 'government_status_coalition', 'government_status_opposition', 'government_status_support', 'block_left', 'block_right'], Units: 2, Epochs: 30, Batch Size: 64\n",
      "Training on cycles 1 to 4, Validating on cycle 5\n"
     ]
    },
    {
     "name": "stderr",
     "output_type": "stream",
     "text": [
      "/Users/pbrams/Desktop/AARHUS_UNIVERSITY/kandidat/data_sci/data_sci_project/DS_EXAM_BACKUP/politicians_not_people_env/lib/python3.12/site-packages/keras/src/layers/rnn/rnn.py:204: UserWarning: Do not pass an `input_shape`/`input_dim` argument to a layer. When using Sequential models, prefer using an `Input(shape)` object as the first layer in the model instead.\n",
      "  super().__init__(**kwargs)\n"
     ]
    },
    {
     "name": "stdout",
     "output_type": "stream",
     "text": [
      "\u001b[1m93/93\u001b[0m \u001b[32m━━━━━━━━━━━━━━━━━━━━\u001b[0m\u001b[37m\u001b[0m \u001b[1m0s\u001b[0m 1ms/step\n"
     ]
    },
    {
     "name": "stderr",
     "output_type": "stream",
     "text": [
      "Tuning LSTM:  39%|███▉      | 28/72 [01:53<03:12,  4.37s/it]"
     ]
    },
    {
     "name": "stdout",
     "output_type": "stream",
     "text": [
      "Evaluating LSTM: Feature Subset: ['seats', 'government_status_coalition', 'government_status_opposition', 'government_status_support', 'block_left', 'block_right'], Units: 5, Epochs: 10, Batch Size: 32\n",
      "Training on cycles 1 to 4, Validating on cycle 5\n"
     ]
    },
    {
     "name": "stderr",
     "output_type": "stream",
     "text": [
      "/Users/pbrams/Desktop/AARHUS_UNIVERSITY/kandidat/data_sci/data_sci_project/DS_EXAM_BACKUP/politicians_not_people_env/lib/python3.12/site-packages/keras/src/layers/rnn/rnn.py:204: UserWarning: Do not pass an `input_shape`/`input_dim` argument to a layer. When using Sequential models, prefer using an `Input(shape)` object as the first layer in the model instead.\n",
      "  super().__init__(**kwargs)\n"
     ]
    },
    {
     "name": "stdout",
     "output_type": "stream",
     "text": [
      "\u001b[1m93/93\u001b[0m \u001b[32m━━━━━━━━━━━━━━━━━━━━\u001b[0m\u001b[37m\u001b[0m \u001b[1m0s\u001b[0m 1ms/step\n"
     ]
    },
    {
     "name": "stderr",
     "output_type": "stream",
     "text": [
      "Tuning LSTM:  40%|████      | 29/72 [01:56<02:51,  4.00s/it]"
     ]
    },
    {
     "name": "stdout",
     "output_type": "stream",
     "text": [
      "Evaluating LSTM: Feature Subset: ['seats', 'government_status_coalition', 'government_status_opposition', 'government_status_support', 'block_left', 'block_right'], Units: 5, Epochs: 10, Batch Size: 64\n",
      "Training on cycles 1 to 4, Validating on cycle 5\n"
     ]
    },
    {
     "name": "stderr",
     "output_type": "stream",
     "text": [
      "/Users/pbrams/Desktop/AARHUS_UNIVERSITY/kandidat/data_sci/data_sci_project/DS_EXAM_BACKUP/politicians_not_people_env/lib/python3.12/site-packages/keras/src/layers/rnn/rnn.py:204: UserWarning: Do not pass an `input_shape`/`input_dim` argument to a layer. When using Sequential models, prefer using an `Input(shape)` object as the first layer in the model instead.\n",
      "  super().__init__(**kwargs)\n"
     ]
    },
    {
     "name": "stdout",
     "output_type": "stream",
     "text": [
      "\u001b[1m93/93\u001b[0m \u001b[32m━━━━━━━━━━━━━━━━━━━━\u001b[0m\u001b[37m\u001b[0m \u001b[1m0s\u001b[0m 2ms/step\n"
     ]
    },
    {
     "name": "stderr",
     "output_type": "stream",
     "text": [
      "Tuning LSTM:  42%|████▏     | 30/72 [01:59<02:27,  3.50s/it]"
     ]
    },
    {
     "name": "stdout",
     "output_type": "stream",
     "text": [
      "Evaluating LSTM: Feature Subset: ['seats', 'government_status_coalition', 'government_status_opposition', 'government_status_support', 'block_left', 'block_right'], Units: 5, Epochs: 30, Batch Size: 32\n",
      "Training on cycles 1 to 4, Validating on cycle 5\n"
     ]
    },
    {
     "name": "stderr",
     "output_type": "stream",
     "text": [
      "/Users/pbrams/Desktop/AARHUS_UNIVERSITY/kandidat/data_sci/data_sci_project/DS_EXAM_BACKUP/politicians_not_people_env/lib/python3.12/site-packages/keras/src/layers/rnn/rnn.py:204: UserWarning: Do not pass an `input_shape`/`input_dim` argument to a layer. When using Sequential models, prefer using an `Input(shape)` object as the first layer in the model instead.\n",
      "  super().__init__(**kwargs)\n"
     ]
    },
    {
     "name": "stdout",
     "output_type": "stream",
     "text": [
      "\u001b[1m93/93\u001b[0m \u001b[32m━━━━━━━━━━━━━━━━━━━━\u001b[0m\u001b[37m\u001b[0m \u001b[1m0s\u001b[0m 2ms/step\n"
     ]
    },
    {
     "name": "stderr",
     "output_type": "stream",
     "text": [
      "Tuning LSTM:  43%|████▎     | 31/72 [02:07<03:20,  4.90s/it]"
     ]
    },
    {
     "name": "stdout",
     "output_type": "stream",
     "text": [
      "Evaluating LSTM: Feature Subset: ['seats', 'government_status_coalition', 'government_status_opposition', 'government_status_support', 'block_left', 'block_right'], Units: 5, Epochs: 30, Batch Size: 64\n",
      "Training on cycles 1 to 4, Validating on cycle 5\n"
     ]
    },
    {
     "name": "stderr",
     "output_type": "stream",
     "text": [
      "/Users/pbrams/Desktop/AARHUS_UNIVERSITY/kandidat/data_sci/data_sci_project/DS_EXAM_BACKUP/politicians_not_people_env/lib/python3.12/site-packages/keras/src/layers/rnn/rnn.py:204: UserWarning: Do not pass an `input_shape`/`input_dim` argument to a layer. When using Sequential models, prefer using an `Input(shape)` object as the first layer in the model instead.\n",
      "  super().__init__(**kwargs)\n"
     ]
    },
    {
     "name": "stdout",
     "output_type": "stream",
     "text": [
      "\u001b[1m93/93\u001b[0m \u001b[32m━━━━━━━━━━━━━━━━━━━━\u001b[0m\u001b[37m\u001b[0m \u001b[1m0s\u001b[0m 1ms/step\n"
     ]
    },
    {
     "name": "stderr",
     "output_type": "stream",
     "text": [
      "Tuning LSTM:  44%|████▍     | 32/72 [02:11<03:07,  4.68s/it]"
     ]
    },
    {
     "name": "stdout",
     "output_type": "stream",
     "text": [
      "Evaluating LSTM: Feature Subset: ['seats', 'government_status_coalition', 'government_status_opposition', 'government_status_support', 'block_left', 'block_right'], Units: 10, Epochs: 10, Batch Size: 32\n",
      "Training on cycles 1 to 4, Validating on cycle 5\n"
     ]
    },
    {
     "name": "stderr",
     "output_type": "stream",
     "text": [
      "/Users/pbrams/Desktop/AARHUS_UNIVERSITY/kandidat/data_sci/data_sci_project/DS_EXAM_BACKUP/politicians_not_people_env/lib/python3.12/site-packages/keras/src/layers/rnn/rnn.py:204: UserWarning: Do not pass an `input_shape`/`input_dim` argument to a layer. When using Sequential models, prefer using an `Input(shape)` object as the first layer in the model instead.\n",
      "  super().__init__(**kwargs)\n"
     ]
    },
    {
     "name": "stdout",
     "output_type": "stream",
     "text": [
      "\u001b[1m93/93\u001b[0m \u001b[32m━━━━━━━━━━━━━━━━━━━━\u001b[0m\u001b[37m\u001b[0m \u001b[1m0s\u001b[0m 1ms/step\n"
     ]
    },
    {
     "name": "stderr",
     "output_type": "stream",
     "text": [
      "Tuning LSTM:  46%|████▌     | 33/72 [02:14<02:44,  4.22s/it]"
     ]
    },
    {
     "name": "stdout",
     "output_type": "stream",
     "text": [
      "Evaluating LSTM: Feature Subset: ['seats', 'government_status_coalition', 'government_status_opposition', 'government_status_support', 'block_left', 'block_right'], Units: 10, Epochs: 10, Batch Size: 64\n",
      "Training on cycles 1 to 4, Validating on cycle 5\n"
     ]
    },
    {
     "name": "stderr",
     "output_type": "stream",
     "text": [
      "/Users/pbrams/Desktop/AARHUS_UNIVERSITY/kandidat/data_sci/data_sci_project/DS_EXAM_BACKUP/politicians_not_people_env/lib/python3.12/site-packages/keras/src/layers/rnn/rnn.py:204: UserWarning: Do not pass an `input_shape`/`input_dim` argument to a layer. When using Sequential models, prefer using an `Input(shape)` object as the first layer in the model instead.\n",
      "  super().__init__(**kwargs)\n"
     ]
    },
    {
     "name": "stdout",
     "output_type": "stream",
     "text": [
      "\u001b[1m93/93\u001b[0m \u001b[32m━━━━━━━━━━━━━━━━━━━━\u001b[0m\u001b[37m\u001b[0m \u001b[1m0s\u001b[0m 1ms/step\n"
     ]
    },
    {
     "name": "stderr",
     "output_type": "stream",
     "text": [
      "Tuning LSTM:  47%|████▋     | 34/72 [02:17<02:18,  3.64s/it]"
     ]
    },
    {
     "name": "stdout",
     "output_type": "stream",
     "text": [
      "Evaluating LSTM: Feature Subset: ['seats', 'government_status_coalition', 'government_status_opposition', 'government_status_support', 'block_left', 'block_right'], Units: 10, Epochs: 30, Batch Size: 32\n",
      "Training on cycles 1 to 4, Validating on cycle 5\n"
     ]
    },
    {
     "name": "stderr",
     "output_type": "stream",
     "text": [
      "/Users/pbrams/Desktop/AARHUS_UNIVERSITY/kandidat/data_sci/data_sci_project/DS_EXAM_BACKUP/politicians_not_people_env/lib/python3.12/site-packages/keras/src/layers/rnn/rnn.py:204: UserWarning: Do not pass an `input_shape`/`input_dim` argument to a layer. When using Sequential models, prefer using an `Input(shape)` object as the first layer in the model instead.\n",
      "  super().__init__(**kwargs)\n"
     ]
    },
    {
     "name": "stdout",
     "output_type": "stream",
     "text": [
      "\u001b[1m93/93\u001b[0m \u001b[32m━━━━━━━━━━━━━━━━━━━━\u001b[0m\u001b[37m\u001b[0m \u001b[1m0s\u001b[0m 1ms/step\n"
     ]
    },
    {
     "name": "stderr",
     "output_type": "stream",
     "text": [
      "Tuning LSTM:  49%|████▊     | 35/72 [02:24<02:52,  4.65s/it]"
     ]
    },
    {
     "name": "stdout",
     "output_type": "stream",
     "text": [
      "Evaluating LSTM: Feature Subset: ['seats', 'government_status_coalition', 'government_status_opposition', 'government_status_support', 'block_left', 'block_right'], Units: 10, Epochs: 30, Batch Size: 64\n",
      "Training on cycles 1 to 4, Validating on cycle 5\n"
     ]
    },
    {
     "name": "stderr",
     "output_type": "stream",
     "text": [
      "/Users/pbrams/Desktop/AARHUS_UNIVERSITY/kandidat/data_sci/data_sci_project/DS_EXAM_BACKUP/politicians_not_people_env/lib/python3.12/site-packages/keras/src/layers/rnn/rnn.py:204: UserWarning: Do not pass an `input_shape`/`input_dim` argument to a layer. When using Sequential models, prefer using an `Input(shape)` object as the first layer in the model instead.\n",
      "  super().__init__(**kwargs)\n"
     ]
    },
    {
     "name": "stdout",
     "output_type": "stream",
     "text": [
      "\u001b[1m93/93\u001b[0m \u001b[32m━━━━━━━━━━━━━━━━━━━━\u001b[0m\u001b[37m\u001b[0m \u001b[1m0s\u001b[0m 1ms/step\n"
     ]
    },
    {
     "name": "stderr",
     "output_type": "stream",
     "text": [
      "Tuning LSTM:  50%|█████     | 36/72 [02:27<02:38,  4.41s/it]"
     ]
    },
    {
     "name": "stdout",
     "output_type": "stream",
     "text": [
      "Evaluating LSTM: Feature Subset: ['days_since_election', 'seats', 'government_status_coalition', 'government_status_opposition', 'government_status_support', 'block_left', 'block_right'], Units: 2, Epochs: 10, Batch Size: 32\n",
      "Training on cycles 1 to 4, Validating on cycle 5\n"
     ]
    },
    {
     "name": "stderr",
     "output_type": "stream",
     "text": [
      "/Users/pbrams/Desktop/AARHUS_UNIVERSITY/kandidat/data_sci/data_sci_project/DS_EXAM_BACKUP/politicians_not_people_env/lib/python3.12/site-packages/keras/src/layers/rnn/rnn.py:204: UserWarning: Do not pass an `input_shape`/`input_dim` argument to a layer. When using Sequential models, prefer using an `Input(shape)` object as the first layer in the model instead.\n",
      "  super().__init__(**kwargs)\n"
     ]
    },
    {
     "name": "stdout",
     "output_type": "stream",
     "text": [
      "\u001b[1m93/93\u001b[0m \u001b[32m━━━━━━━━━━━━━━━━━━━━\u001b[0m\u001b[37m\u001b[0m \u001b[1m0s\u001b[0m 2ms/step\n"
     ]
    },
    {
     "name": "stderr",
     "output_type": "stream",
     "text": [
      "Tuning LSTM:  51%|█████▏    | 37/72 [02:31<02:29,  4.26s/it]"
     ]
    },
    {
     "name": "stdout",
     "output_type": "stream",
     "text": [
      "Evaluating LSTM: Feature Subset: ['days_since_election', 'seats', 'government_status_coalition', 'government_status_opposition', 'government_status_support', 'block_left', 'block_right'], Units: 2, Epochs: 10, Batch Size: 64\n",
      "Training on cycles 1 to 4, Validating on cycle 5\n"
     ]
    },
    {
     "name": "stderr",
     "output_type": "stream",
     "text": [
      "/Users/pbrams/Desktop/AARHUS_UNIVERSITY/kandidat/data_sci/data_sci_project/DS_EXAM_BACKUP/politicians_not_people_env/lib/python3.12/site-packages/keras/src/layers/rnn/rnn.py:204: UserWarning: Do not pass an `input_shape`/`input_dim` argument to a layer. When using Sequential models, prefer using an `Input(shape)` object as the first layer in the model instead.\n",
      "  super().__init__(**kwargs)\n"
     ]
    },
    {
     "name": "stdout",
     "output_type": "stream",
     "text": [
      "\u001b[1m93/93\u001b[0m \u001b[32m━━━━━━━━━━━━━━━━━━━━\u001b[0m\u001b[37m\u001b[0m \u001b[1m0s\u001b[0m 1ms/step\n"
     ]
    },
    {
     "name": "stderr",
     "output_type": "stream",
     "text": [
      "Tuning LSTM:  53%|█████▎    | 38/72 [02:34<02:04,  3.67s/it]"
     ]
    },
    {
     "name": "stdout",
     "output_type": "stream",
     "text": [
      "Evaluating LSTM: Feature Subset: ['days_since_election', 'seats', 'government_status_coalition', 'government_status_opposition', 'government_status_support', 'block_left', 'block_right'], Units: 2, Epochs: 30, Batch Size: 32\n",
      "Training on cycles 1 to 4, Validating on cycle 5\n"
     ]
    },
    {
     "name": "stderr",
     "output_type": "stream",
     "text": [
      "/Users/pbrams/Desktop/AARHUS_UNIVERSITY/kandidat/data_sci/data_sci_project/DS_EXAM_BACKUP/politicians_not_people_env/lib/python3.12/site-packages/keras/src/layers/rnn/rnn.py:204: UserWarning: Do not pass an `input_shape`/`input_dim` argument to a layer. When using Sequential models, prefer using an `Input(shape)` object as the first layer in the model instead.\n",
      "  super().__init__(**kwargs)\n"
     ]
    },
    {
     "name": "stdout",
     "output_type": "stream",
     "text": [
      "\u001b[1m93/93\u001b[0m \u001b[32m━━━━━━━━━━━━━━━━━━━━\u001b[0m\u001b[37m\u001b[0m \u001b[1m0s\u001b[0m 1ms/step\n"
     ]
    },
    {
     "name": "stderr",
     "output_type": "stream",
     "text": [
      "Tuning LSTM:  54%|█████▍    | 39/72 [02:41<02:33,  4.64s/it]"
     ]
    },
    {
     "name": "stdout",
     "output_type": "stream",
     "text": [
      "Evaluating LSTM: Feature Subset: ['days_since_election', 'seats', 'government_status_coalition', 'government_status_opposition', 'government_status_support', 'block_left', 'block_right'], Units: 2, Epochs: 30, Batch Size: 64\n",
      "Training on cycles 1 to 4, Validating on cycle 5\n"
     ]
    },
    {
     "name": "stderr",
     "output_type": "stream",
     "text": [
      "/Users/pbrams/Desktop/AARHUS_UNIVERSITY/kandidat/data_sci/data_sci_project/DS_EXAM_BACKUP/politicians_not_people_env/lib/python3.12/site-packages/keras/src/layers/rnn/rnn.py:204: UserWarning: Do not pass an `input_shape`/`input_dim` argument to a layer. When using Sequential models, prefer using an `Input(shape)` object as the first layer in the model instead.\n",
      "  super().__init__(**kwargs)\n"
     ]
    },
    {
     "name": "stdout",
     "output_type": "stream",
     "text": [
      "\u001b[1m93/93\u001b[0m \u001b[32m━━━━━━━━━━━━━━━━━━━━\u001b[0m\u001b[37m\u001b[0m \u001b[1m0s\u001b[0m 1ms/step\n"
     ]
    },
    {
     "name": "stderr",
     "output_type": "stream",
     "text": [
      "Tuning LSTM:  56%|█████▌    | 40/72 [02:45<02:25,  4.55s/it]"
     ]
    },
    {
     "name": "stdout",
     "output_type": "stream",
     "text": [
      "Evaluating LSTM: Feature Subset: ['days_since_election', 'seats', 'government_status_coalition', 'government_status_opposition', 'government_status_support', 'block_left', 'block_right'], Units: 5, Epochs: 10, Batch Size: 32\n",
      "Training on cycles 1 to 4, Validating on cycle 5\n"
     ]
    },
    {
     "name": "stderr",
     "output_type": "stream",
     "text": [
      "/Users/pbrams/Desktop/AARHUS_UNIVERSITY/kandidat/data_sci/data_sci_project/DS_EXAM_BACKUP/politicians_not_people_env/lib/python3.12/site-packages/keras/src/layers/rnn/rnn.py:204: UserWarning: Do not pass an `input_shape`/`input_dim` argument to a layer. When using Sequential models, prefer using an `Input(shape)` object as the first layer in the model instead.\n",
      "  super().__init__(**kwargs)\n"
     ]
    },
    {
     "name": "stdout",
     "output_type": "stream",
     "text": [
      "\u001b[1m93/93\u001b[0m \u001b[32m━━━━━━━━━━━━━━━━━━━━\u001b[0m\u001b[37m\u001b[0m \u001b[1m0s\u001b[0m 1ms/step\n"
     ]
    },
    {
     "name": "stderr",
     "output_type": "stream",
     "text": [
      "Tuning LSTM:  57%|█████▋    | 41/72 [02:48<02:12,  4.26s/it]"
     ]
    },
    {
     "name": "stdout",
     "output_type": "stream",
     "text": [
      "Evaluating LSTM: Feature Subset: ['days_since_election', 'seats', 'government_status_coalition', 'government_status_opposition', 'government_status_support', 'block_left', 'block_right'], Units: 5, Epochs: 10, Batch Size: 64\n",
      "Training on cycles 1 to 4, Validating on cycle 5\n"
     ]
    },
    {
     "name": "stderr",
     "output_type": "stream",
     "text": [
      "/Users/pbrams/Desktop/AARHUS_UNIVERSITY/kandidat/data_sci/data_sci_project/DS_EXAM_BACKUP/politicians_not_people_env/lib/python3.12/site-packages/keras/src/layers/rnn/rnn.py:204: UserWarning: Do not pass an `input_shape`/`input_dim` argument to a layer. When using Sequential models, prefer using an `Input(shape)` object as the first layer in the model instead.\n",
      "  super().__init__(**kwargs)\n"
     ]
    },
    {
     "name": "stdout",
     "output_type": "stream",
     "text": [
      "\u001b[1m93/93\u001b[0m \u001b[32m━━━━━━━━━━━━━━━━━━━━\u001b[0m\u001b[37m\u001b[0m \u001b[1m0s\u001b[0m 2ms/step\n"
     ]
    },
    {
     "name": "stderr",
     "output_type": "stream",
     "text": [
      "Tuning LSTM:  58%|█████▊    | 42/72 [02:51<01:50,  3.68s/it]"
     ]
    },
    {
     "name": "stdout",
     "output_type": "stream",
     "text": [
      "Evaluating LSTM: Feature Subset: ['days_since_election', 'seats', 'government_status_coalition', 'government_status_opposition', 'government_status_support', 'block_left', 'block_right'], Units: 5, Epochs: 30, Batch Size: 32\n",
      "Training on cycles 1 to 4, Validating on cycle 5\n"
     ]
    },
    {
     "name": "stderr",
     "output_type": "stream",
     "text": [
      "/Users/pbrams/Desktop/AARHUS_UNIVERSITY/kandidat/data_sci/data_sci_project/DS_EXAM_BACKUP/politicians_not_people_env/lib/python3.12/site-packages/keras/src/layers/rnn/rnn.py:204: UserWarning: Do not pass an `input_shape`/`input_dim` argument to a layer. When using Sequential models, prefer using an `Input(shape)` object as the first layer in the model instead.\n",
      "  super().__init__(**kwargs)\n"
     ]
    },
    {
     "name": "stdout",
     "output_type": "stream",
     "text": [
      "\u001b[1m93/93\u001b[0m \u001b[32m━━━━━━━━━━━━━━━━━━━━\u001b[0m\u001b[37m\u001b[0m \u001b[1m0s\u001b[0m 2ms/step\n"
     ]
    },
    {
     "name": "stderr",
     "output_type": "stream",
     "text": [
      "Tuning LSTM:  60%|█████▉    | 43/72 [02:57<02:04,  4.29s/it]"
     ]
    },
    {
     "name": "stdout",
     "output_type": "stream",
     "text": [
      "Evaluating LSTM: Feature Subset: ['days_since_election', 'seats', 'government_status_coalition', 'government_status_opposition', 'government_status_support', 'block_left', 'block_right'], Units: 5, Epochs: 30, Batch Size: 64\n",
      "Training on cycles 1 to 4, Validating on cycle 5\n"
     ]
    },
    {
     "name": "stderr",
     "output_type": "stream",
     "text": [
      "/Users/pbrams/Desktop/AARHUS_UNIVERSITY/kandidat/data_sci/data_sci_project/DS_EXAM_BACKUP/politicians_not_people_env/lib/python3.12/site-packages/keras/src/layers/rnn/rnn.py:204: UserWarning: Do not pass an `input_shape`/`input_dim` argument to a layer. When using Sequential models, prefer using an `Input(shape)` object as the first layer in the model instead.\n",
      "  super().__init__(**kwargs)\n"
     ]
    },
    {
     "name": "stdout",
     "output_type": "stream",
     "text": [
      "\u001b[1m93/93\u001b[0m \u001b[32m━━━━━━━━━━━━━━━━━━━━\u001b[0m\u001b[37m\u001b[0m \u001b[1m0s\u001b[0m 1ms/step\n"
     ]
    },
    {
     "name": "stderr",
     "output_type": "stream",
     "text": [
      "Tuning LSTM:  61%|██████    | 44/72 [03:01<02:02,  4.37s/it]"
     ]
    },
    {
     "name": "stdout",
     "output_type": "stream",
     "text": [
      "Evaluating LSTM: Feature Subset: ['days_since_election', 'seats', 'government_status_coalition', 'government_status_opposition', 'government_status_support', 'block_left', 'block_right'], Units: 10, Epochs: 10, Batch Size: 32\n",
      "Training on cycles 1 to 4, Validating on cycle 5\n"
     ]
    },
    {
     "name": "stderr",
     "output_type": "stream",
     "text": [
      "/Users/pbrams/Desktop/AARHUS_UNIVERSITY/kandidat/data_sci/data_sci_project/DS_EXAM_BACKUP/politicians_not_people_env/lib/python3.12/site-packages/keras/src/layers/rnn/rnn.py:204: UserWarning: Do not pass an `input_shape`/`input_dim` argument to a layer. When using Sequential models, prefer using an `Input(shape)` object as the first layer in the model instead.\n",
      "  super().__init__(**kwargs)\n"
     ]
    },
    {
     "name": "stdout",
     "output_type": "stream",
     "text": [
      "\u001b[1m93/93\u001b[0m \u001b[32m━━━━━━━━━━━━━━━━━━━━\u001b[0m\u001b[37m\u001b[0m \u001b[1m0s\u001b[0m 1ms/step\n"
     ]
    },
    {
     "name": "stderr",
     "output_type": "stream",
     "text": [
      "Tuning LSTM:  62%|██████▎   | 45/72 [03:04<01:48,  4.03s/it]"
     ]
    },
    {
     "name": "stdout",
     "output_type": "stream",
     "text": [
      "Evaluating LSTM: Feature Subset: ['days_since_election', 'seats', 'government_status_coalition', 'government_status_opposition', 'government_status_support', 'block_left', 'block_right'], Units: 10, Epochs: 10, Batch Size: 64\n",
      "Training on cycles 1 to 4, Validating on cycle 5\n"
     ]
    },
    {
     "name": "stderr",
     "output_type": "stream",
     "text": [
      "/Users/pbrams/Desktop/AARHUS_UNIVERSITY/kandidat/data_sci/data_sci_project/DS_EXAM_BACKUP/politicians_not_people_env/lib/python3.12/site-packages/keras/src/layers/rnn/rnn.py:204: UserWarning: Do not pass an `input_shape`/`input_dim` argument to a layer. When using Sequential models, prefer using an `Input(shape)` object as the first layer in the model instead.\n",
      "  super().__init__(**kwargs)\n"
     ]
    },
    {
     "name": "stdout",
     "output_type": "stream",
     "text": [
      "\u001b[1m93/93\u001b[0m \u001b[32m━━━━━━━━━━━━━━━━━━━━\u001b[0m\u001b[37m\u001b[0m \u001b[1m0s\u001b[0m 1ms/step\n"
     ]
    },
    {
     "name": "stderr",
     "output_type": "stream",
     "text": [
      "Tuning LSTM:  64%|██████▍   | 46/72 [03:07<01:30,  3.49s/it]"
     ]
    },
    {
     "name": "stdout",
     "output_type": "stream",
     "text": [
      "Evaluating LSTM: Feature Subset: ['days_since_election', 'seats', 'government_status_coalition', 'government_status_opposition', 'government_status_support', 'block_left', 'block_right'], Units: 10, Epochs: 30, Batch Size: 32\n",
      "Training on cycles 1 to 4, Validating on cycle 5\n"
     ]
    },
    {
     "name": "stderr",
     "output_type": "stream",
     "text": [
      "/Users/pbrams/Desktop/AARHUS_UNIVERSITY/kandidat/data_sci/data_sci_project/DS_EXAM_BACKUP/politicians_not_people_env/lib/python3.12/site-packages/keras/src/layers/rnn/rnn.py:204: UserWarning: Do not pass an `input_shape`/`input_dim` argument to a layer. When using Sequential models, prefer using an `Input(shape)` object as the first layer in the model instead.\n",
      "  super().__init__(**kwargs)\n"
     ]
    },
    {
     "name": "stdout",
     "output_type": "stream",
     "text": [
      "\u001b[1m93/93\u001b[0m \u001b[32m━━━━━━━━━━━━━━━━━━━━\u001b[0m\u001b[37m\u001b[0m \u001b[1m0s\u001b[0m 1ms/step\n"
     ]
    },
    {
     "name": "stderr",
     "output_type": "stream",
     "text": [
      "Tuning LSTM:  65%|██████▌   | 47/72 [03:11<01:32,  3.71s/it]"
     ]
    },
    {
     "name": "stdout",
     "output_type": "stream",
     "text": [
      "Evaluating LSTM: Feature Subset: ['days_since_election', 'seats', 'government_status_coalition', 'government_status_opposition', 'government_status_support', 'block_left', 'block_right'], Units: 10, Epochs: 30, Batch Size: 64\n",
      "Training on cycles 1 to 4, Validating on cycle 5\n"
     ]
    },
    {
     "name": "stderr",
     "output_type": "stream",
     "text": [
      "/Users/pbrams/Desktop/AARHUS_UNIVERSITY/kandidat/data_sci/data_sci_project/DS_EXAM_BACKUP/politicians_not_people_env/lib/python3.12/site-packages/keras/src/layers/rnn/rnn.py:204: UserWarning: Do not pass an `input_shape`/`input_dim` argument to a layer. When using Sequential models, prefer using an `Input(shape)` object as the first layer in the model instead.\n",
      "  super().__init__(**kwargs)\n"
     ]
    },
    {
     "name": "stdout",
     "output_type": "stream",
     "text": [
      "\u001b[1m93/93\u001b[0m \u001b[32m━━━━━━━━━━━━━━━━━━━━\u001b[0m\u001b[37m\u001b[0m \u001b[1m0s\u001b[0m 1ms/step\n"
     ]
    },
    {
     "name": "stderr",
     "output_type": "stream",
     "text": [
      "Tuning LSTM:  67%|██████▋   | 48/72 [03:16<01:37,  4.07s/it]"
     ]
    },
    {
     "name": "stdout",
     "output_type": "stream",
     "text": [
      "Evaluating LSTM: Feature Subset: ['days_since_election', 'seats', 'government_status_coalition', 'government_status_opposition', 'government_status_support', 'block_left', 'block_right', 'eu_anti_pro'], Units: 2, Epochs: 10, Batch Size: 32\n",
      "Training on cycles 1 to 4, Validating on cycle 5\n"
     ]
    },
    {
     "name": "stderr",
     "output_type": "stream",
     "text": [
      "/Users/pbrams/Desktop/AARHUS_UNIVERSITY/kandidat/data_sci/data_sci_project/DS_EXAM_BACKUP/politicians_not_people_env/lib/python3.12/site-packages/keras/src/layers/rnn/rnn.py:204: UserWarning: Do not pass an `input_shape`/`input_dim` argument to a layer. When using Sequential models, prefer using an `Input(shape)` object as the first layer in the model instead.\n",
      "  super().__init__(**kwargs)\n"
     ]
    },
    {
     "name": "stdout",
     "output_type": "stream",
     "text": [
      "\u001b[1m93/93\u001b[0m \u001b[32m━━━━━━━━━━━━━━━━━━━━\u001b[0m\u001b[37m\u001b[0m \u001b[1m0s\u001b[0m 2ms/step\n"
     ]
    },
    {
     "name": "stderr",
     "output_type": "stream",
     "text": [
      "Tuning LSTM:  68%|██████▊   | 49/72 [03:20<01:36,  4.20s/it]"
     ]
    },
    {
     "name": "stdout",
     "output_type": "stream",
     "text": [
      "Evaluating LSTM: Feature Subset: ['days_since_election', 'seats', 'government_status_coalition', 'government_status_opposition', 'government_status_support', 'block_left', 'block_right', 'eu_anti_pro'], Units: 2, Epochs: 10, Batch Size: 64\n",
      "Training on cycles 1 to 4, Validating on cycle 5\n"
     ]
    },
    {
     "name": "stderr",
     "output_type": "stream",
     "text": [
      "/Users/pbrams/Desktop/AARHUS_UNIVERSITY/kandidat/data_sci/data_sci_project/DS_EXAM_BACKUP/politicians_not_people_env/lib/python3.12/site-packages/keras/src/layers/rnn/rnn.py:204: UserWarning: Do not pass an `input_shape`/`input_dim` argument to a layer. When using Sequential models, prefer using an `Input(shape)` object as the first layer in the model instead.\n",
      "  super().__init__(**kwargs)\n"
     ]
    },
    {
     "name": "stdout",
     "output_type": "stream",
     "text": [
      "\u001b[1m93/93\u001b[0m \u001b[32m━━━━━━━━━━━━━━━━━━━━\u001b[0m\u001b[37m\u001b[0m \u001b[1m0s\u001b[0m 2ms/step\n"
     ]
    },
    {
     "name": "stderr",
     "output_type": "stream",
     "text": [
      "Tuning LSTM:  69%|██████▉   | 50/72 [03:23<01:22,  3.73s/it]"
     ]
    },
    {
     "name": "stdout",
     "output_type": "stream",
     "text": [
      "Evaluating LSTM: Feature Subset: ['days_since_election', 'seats', 'government_status_coalition', 'government_status_opposition', 'government_status_support', 'block_left', 'block_right', 'eu_anti_pro'], Units: 2, Epochs: 30, Batch Size: 32\n",
      "Training on cycles 1 to 4, Validating on cycle 5\n"
     ]
    },
    {
     "name": "stderr",
     "output_type": "stream",
     "text": [
      "/Users/pbrams/Desktop/AARHUS_UNIVERSITY/kandidat/data_sci/data_sci_project/DS_EXAM_BACKUP/politicians_not_people_env/lib/python3.12/site-packages/keras/src/layers/rnn/rnn.py:204: UserWarning: Do not pass an `input_shape`/`input_dim` argument to a layer. When using Sequential models, prefer using an `Input(shape)` object as the first layer in the model instead.\n",
      "  super().__init__(**kwargs)\n"
     ]
    },
    {
     "name": "stdout",
     "output_type": "stream",
     "text": [
      "\u001b[1m93/93\u001b[0m \u001b[32m━━━━━━━━━━━━━━━━━━━━\u001b[0m\u001b[37m\u001b[0m \u001b[1m0s\u001b[0m 2ms/step\n"
     ]
    },
    {
     "name": "stderr",
     "output_type": "stream",
     "text": [
      "Tuning LSTM:  71%|███████   | 51/72 [03:30<01:43,  4.92s/it]"
     ]
    },
    {
     "name": "stdout",
     "output_type": "stream",
     "text": [
      "Evaluating LSTM: Feature Subset: ['days_since_election', 'seats', 'government_status_coalition', 'government_status_opposition', 'government_status_support', 'block_left', 'block_right', 'eu_anti_pro'], Units: 2, Epochs: 30, Batch Size: 64\n",
      "Training on cycles 1 to 4, Validating on cycle 5\n"
     ]
    },
    {
     "name": "stderr",
     "output_type": "stream",
     "text": [
      "/Users/pbrams/Desktop/AARHUS_UNIVERSITY/kandidat/data_sci/data_sci_project/DS_EXAM_BACKUP/politicians_not_people_env/lib/python3.12/site-packages/keras/src/layers/rnn/rnn.py:204: UserWarning: Do not pass an `input_shape`/`input_dim` argument to a layer. When using Sequential models, prefer using an `Input(shape)` object as the first layer in the model instead.\n",
      "  super().__init__(**kwargs)\n"
     ]
    },
    {
     "name": "stdout",
     "output_type": "stream",
     "text": [
      "\u001b[1m93/93\u001b[0m \u001b[32m━━━━━━━━━━━━━━━━━━━━\u001b[0m\u001b[37m\u001b[0m \u001b[1m0s\u001b[0m 2ms/step\n"
     ]
    },
    {
     "name": "stderr",
     "output_type": "stream",
     "text": [
      "Tuning LSTM:  72%|███████▏  | 52/72 [03:35<01:37,  4.87s/it]"
     ]
    },
    {
     "name": "stdout",
     "output_type": "stream",
     "text": [
      "Evaluating LSTM: Feature Subset: ['days_since_election', 'seats', 'government_status_coalition', 'government_status_opposition', 'government_status_support', 'block_left', 'block_right', 'eu_anti_pro'], Units: 5, Epochs: 10, Batch Size: 32\n",
      "Training on cycles 1 to 4, Validating on cycle 5\n"
     ]
    },
    {
     "name": "stderr",
     "output_type": "stream",
     "text": [
      "/Users/pbrams/Desktop/AARHUS_UNIVERSITY/kandidat/data_sci/data_sci_project/DS_EXAM_BACKUP/politicians_not_people_env/lib/python3.12/site-packages/keras/src/layers/rnn/rnn.py:204: UserWarning: Do not pass an `input_shape`/`input_dim` argument to a layer. When using Sequential models, prefer using an `Input(shape)` object as the first layer in the model instead.\n",
      "  super().__init__(**kwargs)\n"
     ]
    },
    {
     "name": "stdout",
     "output_type": "stream",
     "text": [
      "\u001b[1m93/93\u001b[0m \u001b[32m━━━━━━━━━━━━━━━━━━━━\u001b[0m\u001b[37m\u001b[0m \u001b[1m0s\u001b[0m 1ms/step\n"
     ]
    },
    {
     "name": "stderr",
     "output_type": "stream",
     "text": [
      "Tuning LSTM:  74%|███████▎  | 53/72 [03:39<01:27,  4.60s/it]"
     ]
    },
    {
     "name": "stdout",
     "output_type": "stream",
     "text": [
      "Evaluating LSTM: Feature Subset: ['days_since_election', 'seats', 'government_status_coalition', 'government_status_opposition', 'government_status_support', 'block_left', 'block_right', 'eu_anti_pro'], Units: 5, Epochs: 10, Batch Size: 64\n",
      "Training on cycles 1 to 4, Validating on cycle 5\n"
     ]
    },
    {
     "name": "stderr",
     "output_type": "stream",
     "text": [
      "/Users/pbrams/Desktop/AARHUS_UNIVERSITY/kandidat/data_sci/data_sci_project/DS_EXAM_BACKUP/politicians_not_people_env/lib/python3.12/site-packages/keras/src/layers/rnn/rnn.py:204: UserWarning: Do not pass an `input_shape`/`input_dim` argument to a layer. When using Sequential models, prefer using an `Input(shape)` object as the first layer in the model instead.\n",
      "  super().__init__(**kwargs)\n"
     ]
    },
    {
     "name": "stdout",
     "output_type": "stream",
     "text": [
      "\u001b[1m93/93\u001b[0m \u001b[32m━━━━━━━━━━━━━━━━━━━━\u001b[0m\u001b[37m\u001b[0m \u001b[1m0s\u001b[0m 2ms/step\n"
     ]
    },
    {
     "name": "stderr",
     "output_type": "stream",
     "text": [
      "Tuning LSTM:  75%|███████▌  | 54/72 [03:42<01:11,  3.96s/it]"
     ]
    },
    {
     "name": "stdout",
     "output_type": "stream",
     "text": [
      "Evaluating LSTM: Feature Subset: ['days_since_election', 'seats', 'government_status_coalition', 'government_status_opposition', 'government_status_support', 'block_left', 'block_right', 'eu_anti_pro'], Units: 5, Epochs: 30, Batch Size: 32\n",
      "Training on cycles 1 to 4, Validating on cycle 5\n"
     ]
    },
    {
     "name": "stderr",
     "output_type": "stream",
     "text": [
      "/Users/pbrams/Desktop/AARHUS_UNIVERSITY/kandidat/data_sci/data_sci_project/DS_EXAM_BACKUP/politicians_not_people_env/lib/python3.12/site-packages/keras/src/layers/rnn/rnn.py:204: UserWarning: Do not pass an `input_shape`/`input_dim` argument to a layer. When using Sequential models, prefer using an `Input(shape)` object as the first layer in the model instead.\n",
      "  super().__init__(**kwargs)\n"
     ]
    },
    {
     "name": "stdout",
     "output_type": "stream",
     "text": [
      "\u001b[1m93/93\u001b[0m \u001b[32m━━━━━━━━━━━━━━━━━━━━\u001b[0m\u001b[37m\u001b[0m \u001b[1m0s\u001b[0m 3ms/step\n"
     ]
    },
    {
     "name": "stderr",
     "output_type": "stream",
     "text": [
      "Tuning LSTM:  76%|███████▋  | 55/72 [03:53<01:43,  6.11s/it]"
     ]
    },
    {
     "name": "stdout",
     "output_type": "stream",
     "text": [
      "Evaluating LSTM: Feature Subset: ['days_since_election', 'seats', 'government_status_coalition', 'government_status_opposition', 'government_status_support', 'block_left', 'block_right', 'eu_anti_pro'], Units: 5, Epochs: 30, Batch Size: 64\n",
      "Training on cycles 1 to 4, Validating on cycle 5\n"
     ]
    },
    {
     "name": "stderr",
     "output_type": "stream",
     "text": [
      "/Users/pbrams/Desktop/AARHUS_UNIVERSITY/kandidat/data_sci/data_sci_project/DS_EXAM_BACKUP/politicians_not_people_env/lib/python3.12/site-packages/keras/src/layers/rnn/rnn.py:204: UserWarning: Do not pass an `input_shape`/`input_dim` argument to a layer. When using Sequential models, prefer using an `Input(shape)` object as the first layer in the model instead.\n",
      "  super().__init__(**kwargs)\n"
     ]
    },
    {
     "name": "stdout",
     "output_type": "stream",
     "text": [
      "\u001b[1m93/93\u001b[0m \u001b[32m━━━━━━━━━━━━━━━━━━━━\u001b[0m\u001b[37m\u001b[0m \u001b[1m0s\u001b[0m 2ms/step\n"
     ]
    },
    {
     "name": "stderr",
     "output_type": "stream",
     "text": [
      "Tuning LSTM:  78%|███████▊  | 56/72 [03:58<01:34,  5.92s/it]"
     ]
    },
    {
     "name": "stdout",
     "output_type": "stream",
     "text": [
      "Evaluating LSTM: Feature Subset: ['days_since_election', 'seats', 'government_status_coalition', 'government_status_opposition', 'government_status_support', 'block_left', 'block_right', 'eu_anti_pro'], Units: 10, Epochs: 10, Batch Size: 32\n",
      "Training on cycles 1 to 4, Validating on cycle 5\n"
     ]
    },
    {
     "name": "stderr",
     "output_type": "stream",
     "text": [
      "/Users/pbrams/Desktop/AARHUS_UNIVERSITY/kandidat/data_sci/data_sci_project/DS_EXAM_BACKUP/politicians_not_people_env/lib/python3.12/site-packages/keras/src/layers/rnn/rnn.py:204: UserWarning: Do not pass an `input_shape`/`input_dim` argument to a layer. When using Sequential models, prefer using an `Input(shape)` object as the first layer in the model instead.\n",
      "  super().__init__(**kwargs)\n"
     ]
    },
    {
     "name": "stdout",
     "output_type": "stream",
     "text": [
      "\u001b[1m93/93\u001b[0m \u001b[32m━━━━━━━━━━━━━━━━━━━━\u001b[0m\u001b[37m\u001b[0m \u001b[1m0s\u001b[0m 2ms/step\n"
     ]
    },
    {
     "name": "stderr",
     "output_type": "stream",
     "text": [
      "Tuning LSTM:  79%|███████▉  | 57/72 [04:02<01:18,  5.25s/it]"
     ]
    },
    {
     "name": "stdout",
     "output_type": "stream",
     "text": [
      "Evaluating LSTM: Feature Subset: ['days_since_election', 'seats', 'government_status_coalition', 'government_status_opposition', 'government_status_support', 'block_left', 'block_right', 'eu_anti_pro'], Units: 10, Epochs: 10, Batch Size: 64\n",
      "Training on cycles 1 to 4, Validating on cycle 5\n"
     ]
    },
    {
     "name": "stderr",
     "output_type": "stream",
     "text": [
      "/Users/pbrams/Desktop/AARHUS_UNIVERSITY/kandidat/data_sci/data_sci_project/DS_EXAM_BACKUP/politicians_not_people_env/lib/python3.12/site-packages/keras/src/layers/rnn/rnn.py:204: UserWarning: Do not pass an `input_shape`/`input_dim` argument to a layer. When using Sequential models, prefer using an `Input(shape)` object as the first layer in the model instead.\n",
      "  super().__init__(**kwargs)\n"
     ]
    },
    {
     "name": "stdout",
     "output_type": "stream",
     "text": [
      "\u001b[1m93/93\u001b[0m \u001b[32m━━━━━━━━━━━━━━━━━━━━\u001b[0m\u001b[37m\u001b[0m \u001b[1m0s\u001b[0m 2ms/step\n"
     ]
    },
    {
     "name": "stderr",
     "output_type": "stream",
     "text": [
      "Tuning LSTM:  81%|████████  | 58/72 [04:05<01:02,  4.47s/it]"
     ]
    },
    {
     "name": "stdout",
     "output_type": "stream",
     "text": [
      "Evaluating LSTM: Feature Subset: ['days_since_election', 'seats', 'government_status_coalition', 'government_status_opposition', 'government_status_support', 'block_left', 'block_right', 'eu_anti_pro'], Units: 10, Epochs: 30, Batch Size: 32\n",
      "Training on cycles 1 to 4, Validating on cycle 5\n"
     ]
    },
    {
     "name": "stderr",
     "output_type": "stream",
     "text": [
      "/Users/pbrams/Desktop/AARHUS_UNIVERSITY/kandidat/data_sci/data_sci_project/DS_EXAM_BACKUP/politicians_not_people_env/lib/python3.12/site-packages/keras/src/layers/rnn/rnn.py:204: UserWarning: Do not pass an `input_shape`/`input_dim` argument to a layer. When using Sequential models, prefer using an `Input(shape)` object as the first layer in the model instead.\n",
      "  super().__init__(**kwargs)\n"
     ]
    },
    {
     "name": "stdout",
     "output_type": "stream",
     "text": [
      "\u001b[1m93/93\u001b[0m \u001b[32m━━━━━━━━━━━━━━━━━━━━\u001b[0m\u001b[37m\u001b[0m \u001b[1m0s\u001b[0m 2ms/step\n"
     ]
    },
    {
     "name": "stderr",
     "output_type": "stream",
     "text": [
      "Tuning LSTM:  82%|████████▏ | 59/72 [04:12<01:10,  5.42s/it]"
     ]
    },
    {
     "name": "stdout",
     "output_type": "stream",
     "text": [
      "Evaluating LSTM: Feature Subset: ['days_since_election', 'seats', 'government_status_coalition', 'government_status_opposition', 'government_status_support', 'block_left', 'block_right', 'eu_anti_pro'], Units: 10, Epochs: 30, Batch Size: 64\n",
      "Training on cycles 1 to 4, Validating on cycle 5\n"
     ]
    },
    {
     "name": "stderr",
     "output_type": "stream",
     "text": [
      "/Users/pbrams/Desktop/AARHUS_UNIVERSITY/kandidat/data_sci/data_sci_project/DS_EXAM_BACKUP/politicians_not_people_env/lib/python3.12/site-packages/keras/src/layers/rnn/rnn.py:204: UserWarning: Do not pass an `input_shape`/`input_dim` argument to a layer. When using Sequential models, prefer using an `Input(shape)` object as the first layer in the model instead.\n",
      "  super().__init__(**kwargs)\n"
     ]
    },
    {
     "name": "stdout",
     "output_type": "stream",
     "text": [
      "\u001b[1m93/93\u001b[0m \u001b[32m━━━━━━━━━━━━━━━━━━━━\u001b[0m\u001b[37m\u001b[0m \u001b[1m0s\u001b[0m 1ms/step\n"
     ]
    },
    {
     "name": "stderr",
     "output_type": "stream",
     "text": [
      "Tuning LSTM:  83%|████████▎ | 60/72 [04:17<01:03,  5.26s/it]"
     ]
    },
    {
     "name": "stdout",
     "output_type": "stream",
     "text": [
      "Evaluating LSTM: Feature Subset: ['days_since_election_2', 'seats', 'government_status_coalition', 'government_status_opposition', 'government_status_support', 'block_left', 'block_right', 'eu_anti_pro'], Units: 2, Epochs: 10, Batch Size: 32\n",
      "Training on cycles 1 to 4, Validating on cycle 5\n"
     ]
    },
    {
     "name": "stderr",
     "output_type": "stream",
     "text": [
      "/Users/pbrams/Desktop/AARHUS_UNIVERSITY/kandidat/data_sci/data_sci_project/DS_EXAM_BACKUP/politicians_not_people_env/lib/python3.12/site-packages/keras/src/layers/rnn/rnn.py:204: UserWarning: Do not pass an `input_shape`/`input_dim` argument to a layer. When using Sequential models, prefer using an `Input(shape)` object as the first layer in the model instead.\n",
      "  super().__init__(**kwargs)\n"
     ]
    },
    {
     "name": "stdout",
     "output_type": "stream",
     "text": [
      "\u001b[1m93/93\u001b[0m \u001b[32m━━━━━━━━━━━━━━━━━━━━\u001b[0m\u001b[37m\u001b[0m \u001b[1m0s\u001b[0m 2ms/step\n"
     ]
    },
    {
     "name": "stderr",
     "output_type": "stream",
     "text": [
      "Tuning LSTM:  85%|████████▍ | 61/72 [04:21<00:53,  4.90s/it]"
     ]
    },
    {
     "name": "stdout",
     "output_type": "stream",
     "text": [
      "Evaluating LSTM: Feature Subset: ['days_since_election_2', 'seats', 'government_status_coalition', 'government_status_opposition', 'government_status_support', 'block_left', 'block_right', 'eu_anti_pro'], Units: 2, Epochs: 10, Batch Size: 64\n",
      "Training on cycles 1 to 4, Validating on cycle 5\n"
     ]
    },
    {
     "name": "stderr",
     "output_type": "stream",
     "text": [
      "/Users/pbrams/Desktop/AARHUS_UNIVERSITY/kandidat/data_sci/data_sci_project/DS_EXAM_BACKUP/politicians_not_people_env/lib/python3.12/site-packages/keras/src/layers/rnn/rnn.py:204: UserWarning: Do not pass an `input_shape`/`input_dim` argument to a layer. When using Sequential models, prefer using an `Input(shape)` object as the first layer in the model instead.\n",
      "  super().__init__(**kwargs)\n"
     ]
    },
    {
     "name": "stdout",
     "output_type": "stream",
     "text": [
      "\u001b[1m93/93\u001b[0m \u001b[32m━━━━━━━━━━━━━━━━━━━━\u001b[0m\u001b[37m\u001b[0m \u001b[1m0s\u001b[0m 1ms/step\n"
     ]
    },
    {
     "name": "stderr",
     "output_type": "stream",
     "text": [
      "Tuning LSTM:  86%|████████▌ | 62/72 [04:24<00:41,  4.19s/it]"
     ]
    },
    {
     "name": "stdout",
     "output_type": "stream",
     "text": [
      "Evaluating LSTM: Feature Subset: ['days_since_election_2', 'seats', 'government_status_coalition', 'government_status_opposition', 'government_status_support', 'block_left', 'block_right', 'eu_anti_pro'], Units: 2, Epochs: 30, Batch Size: 32\n",
      "Training on cycles 1 to 4, Validating on cycle 5\n"
     ]
    },
    {
     "name": "stderr",
     "output_type": "stream",
     "text": [
      "/Users/pbrams/Desktop/AARHUS_UNIVERSITY/kandidat/data_sci/data_sci_project/DS_EXAM_BACKUP/politicians_not_people_env/lib/python3.12/site-packages/keras/src/layers/rnn/rnn.py:204: UserWarning: Do not pass an `input_shape`/`input_dim` argument to a layer. When using Sequential models, prefer using an `Input(shape)` object as the first layer in the model instead.\n",
      "  super().__init__(**kwargs)\n"
     ]
    },
    {
     "name": "stdout",
     "output_type": "stream",
     "text": [
      "\u001b[1m93/93\u001b[0m \u001b[32m━━━━━━━━━━━━━━━━━━━━\u001b[0m\u001b[37m\u001b[0m \u001b[1m0s\u001b[0m 1ms/step\n"
     ]
    },
    {
     "name": "stderr",
     "output_type": "stream",
     "text": [
      "Tuning LSTM:  88%|████████▊ | 63/72 [04:31<00:46,  5.18s/it]"
     ]
    },
    {
     "name": "stdout",
     "output_type": "stream",
     "text": [
      "Evaluating LSTM: Feature Subset: ['days_since_election_2', 'seats', 'government_status_coalition', 'government_status_opposition', 'government_status_support', 'block_left', 'block_right', 'eu_anti_pro'], Units: 2, Epochs: 30, Batch Size: 64\n",
      "Training on cycles 1 to 4, Validating on cycle 5\n"
     ]
    },
    {
     "name": "stderr",
     "output_type": "stream",
     "text": [
      "/Users/pbrams/Desktop/AARHUS_UNIVERSITY/kandidat/data_sci/data_sci_project/DS_EXAM_BACKUP/politicians_not_people_env/lib/python3.12/site-packages/keras/src/layers/rnn/rnn.py:204: UserWarning: Do not pass an `input_shape`/`input_dim` argument to a layer. When using Sequential models, prefer using an `Input(shape)` object as the first layer in the model instead.\n",
      "  super().__init__(**kwargs)\n"
     ]
    },
    {
     "name": "stdout",
     "output_type": "stream",
     "text": [
      "\u001b[1m93/93\u001b[0m \u001b[32m━━━━━━━━━━━━━━━━━━━━\u001b[0m\u001b[37m\u001b[0m \u001b[1m0s\u001b[0m 1ms/step\n"
     ]
    },
    {
     "name": "stderr",
     "output_type": "stream",
     "text": [
      "Tuning LSTM:  89%|████████▉ | 64/72 [04:36<00:40,  5.05s/it]"
     ]
    },
    {
     "name": "stdout",
     "output_type": "stream",
     "text": [
      "Evaluating LSTM: Feature Subset: ['days_since_election_2', 'seats', 'government_status_coalition', 'government_status_opposition', 'government_status_support', 'block_left', 'block_right', 'eu_anti_pro'], Units: 5, Epochs: 10, Batch Size: 32\n",
      "Training on cycles 1 to 4, Validating on cycle 5\n"
     ]
    },
    {
     "name": "stderr",
     "output_type": "stream",
     "text": [
      "/Users/pbrams/Desktop/AARHUS_UNIVERSITY/kandidat/data_sci/data_sci_project/DS_EXAM_BACKUP/politicians_not_people_env/lib/python3.12/site-packages/keras/src/layers/rnn/rnn.py:204: UserWarning: Do not pass an `input_shape`/`input_dim` argument to a layer. When using Sequential models, prefer using an `Input(shape)` object as the first layer in the model instead.\n",
      "  super().__init__(**kwargs)\n"
     ]
    },
    {
     "name": "stdout",
     "output_type": "stream",
     "text": [
      "\u001b[1m93/93\u001b[0m \u001b[32m━━━━━━━━━━━━━━━━━━━━\u001b[0m\u001b[37m\u001b[0m \u001b[1m0s\u001b[0m 1ms/step\n"
     ]
    },
    {
     "name": "stderr",
     "output_type": "stream",
     "text": [
      "Tuning LSTM:  90%|█████████ | 65/72 [04:39<00:31,  4.50s/it]"
     ]
    },
    {
     "name": "stdout",
     "output_type": "stream",
     "text": [
      "Evaluating LSTM: Feature Subset: ['days_since_election_2', 'seats', 'government_status_coalition', 'government_status_opposition', 'government_status_support', 'block_left', 'block_right', 'eu_anti_pro'], Units: 5, Epochs: 10, Batch Size: 64\n",
      "Training on cycles 1 to 4, Validating on cycle 5\n"
     ]
    },
    {
     "name": "stderr",
     "output_type": "stream",
     "text": [
      "/Users/pbrams/Desktop/AARHUS_UNIVERSITY/kandidat/data_sci/data_sci_project/DS_EXAM_BACKUP/politicians_not_people_env/lib/python3.12/site-packages/keras/src/layers/rnn/rnn.py:204: UserWarning: Do not pass an `input_shape`/`input_dim` argument to a layer. When using Sequential models, prefer using an `Input(shape)` object as the first layer in the model instead.\n",
      "  super().__init__(**kwargs)\n"
     ]
    },
    {
     "name": "stdout",
     "output_type": "stream",
     "text": [
      "\u001b[1m93/93\u001b[0m \u001b[32m━━━━━━━━━━━━━━━━━━━━\u001b[0m\u001b[37m\u001b[0m \u001b[1m0s\u001b[0m 1ms/step\n"
     ]
    },
    {
     "name": "stderr",
     "output_type": "stream",
     "text": [
      "Tuning LSTM:  92%|█████████▏| 66/72 [04:42<00:24,  4.05s/it]"
     ]
    },
    {
     "name": "stdout",
     "output_type": "stream",
     "text": [
      "Evaluating LSTM: Feature Subset: ['days_since_election_2', 'seats', 'government_status_coalition', 'government_status_opposition', 'government_status_support', 'block_left', 'block_right', 'eu_anti_pro'], Units: 5, Epochs: 30, Batch Size: 32\n",
      "Training on cycles 1 to 4, Validating on cycle 5\n"
     ]
    },
    {
     "name": "stderr",
     "output_type": "stream",
     "text": [
      "/Users/pbrams/Desktop/AARHUS_UNIVERSITY/kandidat/data_sci/data_sci_project/DS_EXAM_BACKUP/politicians_not_people_env/lib/python3.12/site-packages/keras/src/layers/rnn/rnn.py:204: UserWarning: Do not pass an `input_shape`/`input_dim` argument to a layer. When using Sequential models, prefer using an `Input(shape)` object as the first layer in the model instead.\n",
      "  super().__init__(**kwargs)\n"
     ]
    },
    {
     "name": "stdout",
     "output_type": "stream",
     "text": [
      "\u001b[1m93/93\u001b[0m \u001b[32m━━━━━━━━━━━━━━━━━━━━\u001b[0m\u001b[37m\u001b[0m \u001b[1m0s\u001b[0m 1ms/step\n"
     ]
    },
    {
     "name": "stderr",
     "output_type": "stream",
     "text": [
      "Tuning LSTM:  93%|█████████▎| 67/72 [04:50<00:25,  5.13s/it]"
     ]
    },
    {
     "name": "stdout",
     "output_type": "stream",
     "text": [
      "Evaluating LSTM: Feature Subset: ['days_since_election_2', 'seats', 'government_status_coalition', 'government_status_opposition', 'government_status_support', 'block_left', 'block_right', 'eu_anti_pro'], Units: 5, Epochs: 30, Batch Size: 64\n",
      "Training on cycles 1 to 4, Validating on cycle 5\n"
     ]
    },
    {
     "name": "stderr",
     "output_type": "stream",
     "text": [
      "/Users/pbrams/Desktop/AARHUS_UNIVERSITY/kandidat/data_sci/data_sci_project/DS_EXAM_BACKUP/politicians_not_people_env/lib/python3.12/site-packages/keras/src/layers/rnn/rnn.py:204: UserWarning: Do not pass an `input_shape`/`input_dim` argument to a layer. When using Sequential models, prefer using an `Input(shape)` object as the first layer in the model instead.\n",
      "  super().__init__(**kwargs)\n"
     ]
    },
    {
     "name": "stdout",
     "output_type": "stream",
     "text": [
      "\u001b[1m93/93\u001b[0m \u001b[32m━━━━━━━━━━━━━━━━━━━━\u001b[0m\u001b[37m\u001b[0m \u001b[1m0s\u001b[0m 1ms/step\n"
     ]
    },
    {
     "name": "stderr",
     "output_type": "stream",
     "text": [
      "Tuning LSTM:  94%|█████████▍| 68/72 [04:55<00:20,  5.22s/it]"
     ]
    },
    {
     "name": "stdout",
     "output_type": "stream",
     "text": [
      "Evaluating LSTM: Feature Subset: ['days_since_election_2', 'seats', 'government_status_coalition', 'government_status_opposition', 'government_status_support', 'block_left', 'block_right', 'eu_anti_pro'], Units: 10, Epochs: 10, Batch Size: 32\n",
      "Training on cycles 1 to 4, Validating on cycle 5\n"
     ]
    },
    {
     "name": "stderr",
     "output_type": "stream",
     "text": [
      "/Users/pbrams/Desktop/AARHUS_UNIVERSITY/kandidat/data_sci/data_sci_project/DS_EXAM_BACKUP/politicians_not_people_env/lib/python3.12/site-packages/keras/src/layers/rnn/rnn.py:204: UserWarning: Do not pass an `input_shape`/`input_dim` argument to a layer. When using Sequential models, prefer using an `Input(shape)` object as the first layer in the model instead.\n",
      "  super().__init__(**kwargs)\n"
     ]
    },
    {
     "name": "stdout",
     "output_type": "stream",
     "text": [
      "\u001b[1m93/93\u001b[0m \u001b[32m━━━━━━━━━━━━━━━━━━━━\u001b[0m\u001b[37m\u001b[0m \u001b[1m0s\u001b[0m 1ms/step\n"
     ]
    },
    {
     "name": "stderr",
     "output_type": "stream",
     "text": [
      "Tuning LSTM:  96%|█████████▌| 69/72 [04:59<00:13,  4.64s/it]"
     ]
    },
    {
     "name": "stdout",
     "output_type": "stream",
     "text": [
      "Evaluating LSTM: Feature Subset: ['days_since_election_2', 'seats', 'government_status_coalition', 'government_status_opposition', 'government_status_support', 'block_left', 'block_right', 'eu_anti_pro'], Units: 10, Epochs: 10, Batch Size: 64\n",
      "Training on cycles 1 to 4, Validating on cycle 5\n"
     ]
    },
    {
     "name": "stderr",
     "output_type": "stream",
     "text": [
      "/Users/pbrams/Desktop/AARHUS_UNIVERSITY/kandidat/data_sci/data_sci_project/DS_EXAM_BACKUP/politicians_not_people_env/lib/python3.12/site-packages/keras/src/layers/rnn/rnn.py:204: UserWarning: Do not pass an `input_shape`/`input_dim` argument to a layer. When using Sequential models, prefer using an `Input(shape)` object as the first layer in the model instead.\n",
      "  super().__init__(**kwargs)\n"
     ]
    },
    {
     "name": "stdout",
     "output_type": "stream",
     "text": [
      "\u001b[1m93/93\u001b[0m \u001b[32m━━━━━━━━━━━━━━━━━━━━\u001b[0m\u001b[37m\u001b[0m \u001b[1m0s\u001b[0m 1ms/step\n"
     ]
    },
    {
     "name": "stderr",
     "output_type": "stream",
     "text": [
      "Tuning LSTM:  97%|█████████▋| 70/72 [05:01<00:07,  3.94s/it]"
     ]
    },
    {
     "name": "stdout",
     "output_type": "stream",
     "text": [
      "Evaluating LSTM: Feature Subset: ['days_since_election_2', 'seats', 'government_status_coalition', 'government_status_opposition', 'government_status_support', 'block_left', 'block_right', 'eu_anti_pro'], Units: 10, Epochs: 30, Batch Size: 32\n",
      "Training on cycles 1 to 4, Validating on cycle 5\n"
     ]
    },
    {
     "name": "stderr",
     "output_type": "stream",
     "text": [
      "/Users/pbrams/Desktop/AARHUS_UNIVERSITY/kandidat/data_sci/data_sci_project/DS_EXAM_BACKUP/politicians_not_people_env/lib/python3.12/site-packages/keras/src/layers/rnn/rnn.py:204: UserWarning: Do not pass an `input_shape`/`input_dim` argument to a layer. When using Sequential models, prefer using an `Input(shape)` object as the first layer in the model instead.\n",
      "  super().__init__(**kwargs)\n"
     ]
    },
    {
     "name": "stdout",
     "output_type": "stream",
     "text": [
      "\u001b[1m93/93\u001b[0m \u001b[32m━━━━━━━━━━━━━━━━━━━━\u001b[0m\u001b[37m\u001b[0m \u001b[1m0s\u001b[0m 1ms/step\n"
     ]
    },
    {
     "name": "stderr",
     "output_type": "stream",
     "text": [
      "Tuning LSTM:  99%|█████████▊| 71/72 [05:05<00:04,  4.01s/it]"
     ]
    },
    {
     "name": "stdout",
     "output_type": "stream",
     "text": [
      "Evaluating LSTM: Feature Subset: ['days_since_election_2', 'seats', 'government_status_coalition', 'government_status_opposition', 'government_status_support', 'block_left', 'block_right', 'eu_anti_pro'], Units: 10, Epochs: 30, Batch Size: 64\n",
      "Training on cycles 1 to 4, Validating on cycle 5\n"
     ]
    },
    {
     "name": "stderr",
     "output_type": "stream",
     "text": [
      "/Users/pbrams/Desktop/AARHUS_UNIVERSITY/kandidat/data_sci/data_sci_project/DS_EXAM_BACKUP/politicians_not_people_env/lib/python3.12/site-packages/keras/src/layers/rnn/rnn.py:204: UserWarning: Do not pass an `input_shape`/`input_dim` argument to a layer. When using Sequential models, prefer using an `Input(shape)` object as the first layer in the model instead.\n",
      "  super().__init__(**kwargs)\n"
     ]
    },
    {
     "name": "stdout",
     "output_type": "stream",
     "text": [
      "\u001b[1m93/93\u001b[0m \u001b[32m━━━━━━━━━━━━━━━━━━━━\u001b[0m\u001b[37m\u001b[0m \u001b[1m0s\u001b[0m 1ms/step\n"
     ]
    },
    {
     "name": "stderr",
     "output_type": "stream",
     "text": [
      "Tuning LSTM: 100%|██████████| 72/72 [05:10<00:00,  4.31s/it]"
     ]
    },
    {
     "name": "stdout",
     "output_type": "stream",
     "text": [
      "Retraining the best RandomForest model...\n"
     ]
    },
    {
     "name": "stderr",
     "output_type": "stream",
     "text": [
      "\n"
     ]
    },
    {
     "name": "stdout",
     "output_type": "stream",
     "text": [
      "Retraining the best XGBoost model...\n",
      "Retraining the best LinearRegression model...\n",
      "Retraining the best LSTM model...\n"
     ]
    },
    {
     "name": "stderr",
     "output_type": "stream",
     "text": [
      "/Users/pbrams/Desktop/AARHUS_UNIVERSITY/kandidat/data_sci/data_sci_project/DS_EXAM_BACKUP/politicians_not_people_env/lib/python3.12/site-packages/keras/src/layers/rnn/rnn.py:204: UserWarning: Do not pass an `input_shape`/`input_dim` argument to a layer. When using Sequential models, prefer using an `Input(shape)` object as the first layer in the model instead.\n",
      "  super().__init__(**kwargs)\n",
      "/Users/pbrams/Desktop/AARHUS_UNIVERSITY/kandidat/data_sci/data_sci_project/DS_EXAM_BACKUP/politicians_not_people_env/lib/python3.12/site-packages/keras/src/callbacks/early_stopping.py:155: UserWarning: Early stopping conditioned on metric `val_loss` which is not available. Available metrics are: loss\n",
      "  current = self.get_monitor_value(logs)\n"
     ]
    },
    {
     "name": "stdout",
     "output_type": "stream",
     "text": [
      "Evaluating on holdout cycle...\n",
      "\u001b[1m108/108\u001b[0m \u001b[32m━━━━━━━━━━━━━━━━━━━━\u001b[0m\u001b[37m\u001b[0m \u001b[1m0s\u001b[0m 1ms/step\n",
      "Holdout Test Set Metrics\n",
      "Evaluation completed and metrics saved.\n"
     ]
    },
    {
     "data": {
      "text/html": [
       "<div>\n",
       "<style scoped>\n",
       "    .dataframe tbody tr th:only-of-type {\n",
       "        vertical-align: middle;\n",
       "    }\n",
       "\n",
       "    .dataframe tbody tr th {\n",
       "        vertical-align: top;\n",
       "    }\n",
       "\n",
       "    .dataframe thead th {\n",
       "        text-align: right;\n",
       "    }\n",
       "</style>\n",
       "<table border=\"1\" class=\"dataframe\">\n",
       "  <thead>\n",
       "    <tr style=\"text-align: right;\">\n",
       "      <th></th>\n",
       "      <th>Model</th>\n",
       "      <th>Evaluation_Set</th>\n",
       "      <th>MSE</th>\n",
       "      <th>MAE</th>\n",
       "      <th>RMSE</th>\n",
       "      <th>R2</th>\n",
       "      <th>Params</th>\n",
       "      <th>Feature_Subset</th>\n",
       "    </tr>\n",
       "  </thead>\n",
       "  <tbody>\n",
       "    <tr>\n",
       "      <th>0</th>\n",
       "      <td>RandomForest</td>\n",
       "      <td>Holdout Cycle</td>\n",
       "      <td>1.852888</td>\n",
       "      <td>1.079655</td>\n",
       "      <td>1.361208</td>\n",
       "      <td>0.177952</td>\n",
       "      <td>{'n_estimators': 200, 'max_depth': 20}</td>\n",
       "      <td>[days_since_election_2, seats, government_stat...</td>\n",
       "    </tr>\n",
       "    <tr>\n",
       "      <th>1</th>\n",
       "      <td>XGBoost</td>\n",
       "      <td>Holdout Cycle</td>\n",
       "      <td>1.978768</td>\n",
       "      <td>1.100339</td>\n",
       "      <td>1.406687</td>\n",
       "      <td>0.122104</td>\n",
       "      <td>{'n_estimators': 50, 'max_depth': 30}</td>\n",
       "      <td>[days_since_election, seats, government_status...</td>\n",
       "    </tr>\n",
       "    <tr>\n",
       "      <th>4</th>\n",
       "      <td>Mean</td>\n",
       "      <td>Holdout Cycle</td>\n",
       "      <td>2.253990</td>\n",
       "      <td>1.176629</td>\n",
       "      <td>1.501329</td>\n",
       "      <td>0.000000</td>\n",
       "      <td>N/A</td>\n",
       "      <td>N/A</td>\n",
       "    </tr>\n",
       "    <tr>\n",
       "      <th>2</th>\n",
       "      <td>LinearRegression</td>\n",
       "      <td>Holdout Cycle</td>\n",
       "      <td>2.386702</td>\n",
       "      <td>1.233065</td>\n",
       "      <td>1.544895</td>\n",
       "      <td>-0.058879</td>\n",
       "      <td>{'fit_intercept': True}</td>\n",
       "      <td>[days_since_election, seats, government_status...</td>\n",
       "    </tr>\n",
       "    <tr>\n",
       "      <th>3</th>\n",
       "      <td>LSTM</td>\n",
       "      <td>Holdout Cycle</td>\n",
       "      <td>9.017001</td>\n",
       "      <td>1.911405</td>\n",
       "      <td>3.002832</td>\n",
       "      <td>-3.000462</td>\n",
       "      <td>{'units': 10, 'epochs': 10, 'batch_size': 32}</td>\n",
       "      <td>[seats, government_status_coalition, governmen...</td>\n",
       "    </tr>\n",
       "  </tbody>\n",
       "</table>\n",
       "</div>"
      ],
      "text/plain": [
       "              Model Evaluation_Set       MSE       MAE      RMSE        R2  \\\n",
       "0      RandomForest  Holdout Cycle  1.852888  1.079655  1.361208  0.177952   \n",
       "1           XGBoost  Holdout Cycle  1.978768  1.100339  1.406687  0.122104   \n",
       "4              Mean  Holdout Cycle  2.253990  1.176629  1.501329  0.000000   \n",
       "2  LinearRegression  Holdout Cycle  2.386702  1.233065  1.544895 -0.058879   \n",
       "3              LSTM  Holdout Cycle  9.017001  1.911405  3.002832 -3.000462   \n",
       "\n",
       "                                          Params  \\\n",
       "0         {'n_estimators': 200, 'max_depth': 20}   \n",
       "1          {'n_estimators': 50, 'max_depth': 30}   \n",
       "4                                            N/A   \n",
       "2                        {'fit_intercept': True}   \n",
       "3  {'units': 10, 'epochs': 10, 'batch_size': 32}   \n",
       "\n",
       "                                      Feature_Subset  \n",
       "0  [days_since_election_2, seats, government_stat...  \n",
       "1  [days_since_election, seats, government_status...  \n",
       "4                                                N/A  \n",
       "2  [days_since_election, seats, government_status...  \n",
       "3  [seats, government_status_coalition, governmen...  "
      ]
     },
     "execution_count": 3,
     "metadata": {},
     "output_type": "execute_result"
    }
   ],
   "source": [
    "import pandas as pd\n",
    "import numpy as np\n",
    "from sklearn.preprocessing import StandardScaler\n",
    "from sklearn.metrics import mean_squared_error, mean_absolute_error, r2_score\n",
    "from sklearn.ensemble import RandomForestRegressor\n",
    "from sklearn.linear_model import LinearRegression\n",
    "from sklearn.model_selection import GridSearchCV\n",
    "import matplotlib.pyplot as plt\n",
    "from xgboost import XGBRegressor\n",
    "from keras.models import Sequential\n",
    "from keras.layers import LSTM, Dense\n",
    "from keras.callbacks import EarlyStopping\n",
    "from tqdm import tqdm\n",
    "import os\n",
    "\n",
    "# Convert to numpy arrays\n",
    "X_full = data_comp_subset_clean[features].values\n",
    "y = data_comp_subset_clean[target].values\n",
    "\n",
    "# Function to split election cycles\n",
    "def split_cycles(df, cycles):\n",
    "    cycle_indices = []\n",
    "    for cycle_start, cycle_end in cycles:\n",
    "        cycle_data = df[(df['Date'] >= cycle_start) & (df['Date'] <= cycle_end)]\n",
    "        if not cycle_data.empty:\n",
    "            cycle_indices.append(cycle_data.index.tolist())\n",
    "    return cycle_indices\n",
    "\n",
    "# Generate indices for each election cycle\n",
    "cycles = split_cycles(data_comp_subset_clean, election_cycles[:-1])  # Exclude holdout test set (cycle 6)\n",
    "holdout_cycle = split_cycles(data_comp_subset_clean, [election_cycles[-1]])[0]  # Only one cycle for holdout\n",
    "\n",
    "# Custom cross-validation for blocked cycles\n",
    "class BlockedCycleCV:\n",
    "    def __init__(self, cycles):\n",
    "        self.cycles = cycles\n",
    "\n",
    "    def split(self, X, y=None, groups=None):\n",
    "        train_idx = [idx for cycle in self.cycles[:4] for idx in cycle]\n",
    "        val_idx = self.cycles[4]\n",
    "        print(f\"Training on cycles 1 to 4, Validating on cycle 5\")\n",
    "        yield train_idx, val_idx\n",
    "\n",
    "    def get_n_splits(self, X, y, groups=None):\n",
    "        return 1  # Only one split for this specific training-validation setup\n",
    "\n",
    "# Specify your list of feature combinations using feature names\n",
    "feature_combinations = [\n",
    "    ['days_since_election', 'seats'],\n",
    "    #['days_since_election','seats','government_status_coalition', 'government_status_opposition', 'government_status_support', 'PolQuarter_numb_1.0','PolQuarter_numb_2.0','PolQuarter_numb_3.0','PolQuarter_numb_4.0'],\n",
    "    ['seats','government_status_coalition', 'government_status_opposition', 'government_status_support'],\n",
    "    ['seats','government_status_coalition', 'government_status_opposition', 'government_status_support', 'block_left','block_right'],\n",
    "    ['days_since_election','seats','government_status_coalition', 'government_status_opposition', 'government_status_support','block_left','block_right'],\n",
    "    #['days_since_election','seats','government_status_coalition', 'government_status_opposition', 'government_status_support','block_left','block_right','liberty_authority'],\n",
    "    ['days_since_election','seats','government_status_coalition', 'government_status_opposition', 'government_status_support','block_left','block_right','eu_anti_pro'],\n",
    "    ['days_since_election_2','seats','government_status_coalition', 'government_status_opposition', 'government_status_support','block_left','block_right','eu_anti_pro'],\n",
    "\n",
    "\n",
    "]\n",
    "\n",
    "# Define the parameter grid for each model\n",
    "param_grid_rf = {\n",
    "    'n_estimators': [#10, \n",
    "                     50, \n",
    "                     100, \n",
    "                     200\n",
    "                     #250,\n",
    "                     #400,\n",
    "                     #500\n",
    "                     ],\n",
    "    'max_depth': [#5, \n",
    "                  10, \n",
    "                  15, \n",
    "                  20\n",
    "                  #30,\n",
    "                  #50\n",
    "                  ]\n",
    "}\n",
    "\n",
    "param_grid_xgb = {\n",
    "    'n_estimators': [10, \n",
    "                     50, \n",
    "                     100\n",
    "                     #200,\n",
    "                     #250,\n",
    "                     #300,\n",
    "                     #400\n",
    "                     ],\n",
    "    'max_depth': [#3, \n",
    "                  #5,\n",
    "                  7,\n",
    "                  10,\n",
    "                  20,\n",
    "                  30\n",
    "                  #40,\n",
    "                  #50,\n",
    "                  #60\n",
    "                  ]\n",
    "}\n",
    "\n",
    "param_grid_lr = {\n",
    "    'fit_intercept': [True, False]\n",
    "}\n",
    "\n",
    "param_grid_lstm = {\n",
    "    'units': [2,\n",
    "              5, \n",
    "              10\n",
    "              #100\n",
    "              ], # removed 50\n",
    "    'epochs': [10, \n",
    "        #20, \n",
    "        30#, 40#, 50#, \n",
    "               #50, \n",
    "              # 60\n",
    "               ],#, 100],\n",
    "    'batch_size': [#15, \n",
    "                   32, \n",
    "                   64]\n",
    "}\n",
    "\n",
    "# Function to create the LSTM model\n",
    "def create_lstm_model(units=50, input_shape=(1, 1)):\n",
    "    model = Sequential()\n",
    "    model.add(LSTM(units, activation='relu', input_shape=input_shape))\n",
    "    model.add(Dense(1))\n",
    "    model.compile(optimizer='adam', loss='mse')\n",
    "    return model\n",
    "\n",
    "# Function to select a subset of features by name\n",
    "def select_features_by_name(X, feature_names, all_feature_names):\n",
    "    indices = [all_feature_names.index(name) for name in feature_names]\n",
    "    return X[:, indices]\n",
    "\n",
    "# Create the models\n",
    "rf = RandomForestRegressor(random_state=42)\n",
    "xgb = XGBRegressor(random_state=42)\n",
    "lr = LinearRegression()\n",
    "\n",
    "# Perform hyperparameter tuning with custom CV\n",
    "cv = BlockedCycleCV(cycles)\n",
    "\n",
    "# Function to calculate total combinations\n",
    "def calculate_total_combinations(param_grid, feature_combinations):\n",
    "    total_combinations = 1\n",
    "    for key in param_grid:\n",
    "        total_combinations *= len(param_grid[key])\n",
    "    total_combinations *= len(feature_combinations)\n",
    "    return total_combinations\n",
    "\n",
    "def tune_model(model, param_grid, model_name, X, y, features, lstm=False):\n",
    "    results = []\n",
    "    all_models = []\n",
    "    best_score = float('inf')\n",
    "    best_params = None\n",
    "    best_model = None\n",
    "\n",
    "    total_combinations = calculate_total_combinations(param_grid, feature_combinations)\n",
    "    combination_counter = 0\n",
    "\n",
    "    with tqdm(total=total_combinations, desc=f\"Tuning {model_name}\") as pbar:\n",
    "        for feature_subset in feature_combinations:\n",
    "            X_subset = select_features_by_name(X, feature_subset, features)\n",
    "\n",
    "            if lstm:\n",
    "                X_subset_lstm = X_subset.reshape((X_subset.shape[0], 1, X_subset.shape[1]))\n",
    "                for units in param_grid['units']:\n",
    "                    for epochs in param_grid['epochs']:\n",
    "                        for batch_size in param_grid['batch_size']:\n",
    "                            print(f\"Evaluating LSTM: Feature Subset: {feature_subset}, Units: {units}, Epochs: {epochs}, Batch Size: {batch_size}\")\n",
    "                            lstm_model = create_lstm_model(units=units, input_shape=(1, X_subset.shape[1]))\n",
    "                            early_stopping = EarlyStopping(monitor='val_loss', patience=5, restore_best_weights=True)\n",
    "                            lstm_best_score = float('inf')\n",
    "                            for train_idx, val_idx in cv.split(X_subset_lstm):\n",
    "                                X_train, X_val = X_subset_lstm[train_idx], X_subset_lstm[val_idx]\n",
    "                                y_train, y_val = y[train_idx], y[val_idx]\n",
    "\n",
    "                                lstm_model.fit(X_train, y_train, epochs=epochs, batch_size=batch_size, validation_data=(X_val, y_val), callbacks=[early_stopping], verbose=0)\n",
    "                                y_pred = lstm_model.predict(X_val)\n",
    "\n",
    "                                mse = mean_squared_error(y_val, y_pred)\n",
    "                                rmse = np.sqrt(mse)\n",
    "                                if rmse < lstm_best_score:\n",
    "                                    lstm_best_score = rmse\n",
    "\n",
    "                            model_metrics = {\n",
    "                                'Model': model_name,\n",
    "                                'Params': {'units': units, 'epochs': epochs, 'batch_size': batch_size},\n",
    "                                'MSE': mse,\n",
    "                                'MAE': mean_absolute_error(y_val, y_pred),\n",
    "                                'RMSE': rmse,\n",
    "                                'R2': r2_score(y_val, y_pred),\n",
    "                                'feature_subset': feature_subset\n",
    "                            }\n",
    "\n",
    "                            if rmse < best_score:\n",
    "                                best_score = rmse\n",
    "                                best_params = {'units': units, 'epochs': epochs, 'batch_size': batch_size}\n",
    "                                best_model = lstm_model\n",
    "\n",
    "                            all_models.append(model_metrics)\n",
    "                            results.append((best_model, {**best_params, 'feature_subset': feature_subset}))\n",
    "                            combination_counter += 1\n",
    "                            pbar.update(1)\n",
    "\n",
    "            else:\n",
    "                if model_name == 'LinearRegression':\n",
    "                    for fit_intercept in param_grid['fit_intercept']:\n",
    "                        current_params = {'fit_intercept': fit_intercept}\n",
    "                        print(f\"Evaluating: Feature Subset: {feature_subset}, Params: {current_params}\")\n",
    "                        grid = GridSearchCV(estimator=model, param_grid={'fit_intercept': [fit_intercept]}, cv=cv, scoring='neg_mean_squared_error', verbose=0)\n",
    "                        grid.fit(X_subset, y)\n",
    "                        grid_best_score = -grid.best_score_\n",
    "                        best_model_in_grid = grid.best_estimator_\n",
    "\n",
    "                        # Get validation scores\n",
    "                        val_scores = []\n",
    "                        for train_idx, val_idx in cv.split(X_subset):\n",
    "                            X_train, X_val = X_subset[train_idx], X_subset[val_idx]\n",
    "                            y_train, y_val = y[train_idx], y[val_idx]\n",
    "                            y_pred = best_model_in_grid.predict(X_val)\n",
    "                            val_scores.append({\n",
    "                                'MSE': mean_squared_error(y_val, y_pred),\n",
    "                                'MAE': mean_absolute_error(y_val, y_pred),\n",
    "                                'RMSE': np.sqrt(mean_squared_error(y_val, y_pred)),\n",
    "                                'R2': r2_score(y_val, y_pred)\n",
    "                            })\n",
    "                        \n",
    "                        # Aggregate validation scores\n",
    "                        mean_val_scores = {\n",
    "                            'MSE': np.mean([score['MSE'] for score in val_scores]),\n",
    "                            'MAE': np.mean([score['MAE'] for score in val_scores]),\n",
    "                            'RMSE': np.mean([score['RMSE'] for score in val_scores]),\n",
    "                            'R2': np.mean([score['R2'] for score in val_scores])\n",
    "                        }\n",
    "\n",
    "                        model_metrics = {\n",
    "                            'Model': model_name,\n",
    "                            'Params': current_params,\n",
    "                            'MSE': mean_val_scores['MSE'],\n",
    "                            'MAE': mean_val_scores['MAE'],\n",
    "                            'RMSE': mean_val_scores['RMSE'],\n",
    "                            'R2': mean_val_scores['R2'],\n",
    "                            'feature_subset': feature_subset\n",
    "                        }\n",
    "\n",
    "                        if mean_val_scores['RMSE'] < best_score:\n",
    "                            best_score = mean_val_scores['RMSE']\n",
    "                            best_params = current_params\n",
    "                            best_model = best_model_in_grid\n",
    "\n",
    "                        all_models.append(model_metrics)\n",
    "                        results.append((best_model, {**best_params, 'feature_subset': feature_subset}))\n",
    "                        combination_counter += 1\n",
    "                        pbar.update(1)\n",
    "                else:\n",
    "                    # Iterate over each combination of parameters manually to log details\n",
    "                    for n_estimators in param_grid['n_estimators']:\n",
    "                        for max_depth in param_grid['max_depth']:\n",
    "                            current_params = {'n_estimators': n_estimators, 'max_depth': max_depth}\n",
    "                            print(f\"Evaluating: Feature Subset: {feature_subset}, Params: {current_params}\")\n",
    "                            grid = GridSearchCV(estimator=model, param_grid={'n_estimators': [n_estimators], 'max_depth': [max_depth]}, cv=cv, scoring='neg_mean_squared_error', verbose=0)\n",
    "                            grid.fit(X_subset, y)\n",
    "                            grid_best_score = -grid.best_score_\n",
    "                            best_model_in_grid = grid.best_estimator_\n",
    "\n",
    "                            # Get validation scores\n",
    "                            val_scores = []\n",
    "                            for train_idx, val_idx in cv.split(X_subset):\n",
    "                                X_train, X_val = X_subset[train_idx], X_subset[val_idx]\n",
    "                                y_train, y_val = y[train_idx], y[val_idx]\n",
    "                                y_pred = best_model_in_grid.predict(X_val)\n",
    "                                val_scores.append({\n",
    "                                    'MSE': mean_squared_error(y_val, y_pred),\n",
    "                                    'MAE': mean_absolute_error(y_val, y_pred),\n",
    "                                    'RMSE': np.sqrt(mean_squared_error(y_val, y_pred)),\n",
    "                                    'R2': r2_score(y_val, y_pred)\n",
    "                                })\n",
    "                            \n",
    "                            # Aggregate validation scores\n",
    "                            mean_val_scores = {\n",
    "                                'MSE': np.mean([score['MSE'] for score in val_scores]),\n",
    "                                'MAE': np.mean([score['MAE'] for score in val_scores]),\n",
    "                                'RMSE': np.mean([score['RMSE'] for score in val_scores]),\n",
    "                                'R2': np.mean([score['R2'] for score in val_scores])\n",
    "                            }\n",
    "\n",
    "                            model_metrics = {\n",
    "                                'Model': model_name,\n",
    "                                'Params': current_params,\n",
    "                                'MSE': mean_val_scores['MSE'],\n",
    "                                'MAE': mean_val_scores['MAE'],\n",
    "                                'RMSE': mean_val_scores['RMSE'],\n",
    "                                'R2': mean_val_scores['R2'],\n",
    "                                'feature_subset': feature_subset\n",
    "                            }\n",
    "\n",
    "                            if mean_val_scores['RMSE'] < best_score:\n",
    "                                best_score = mean_val_scores['RMSE']\n",
    "                                best_params = current_params\n",
    "                                best_model = best_model_in_grid\n",
    "\n",
    "                            all_models.append(model_metrics)\n",
    "                            results.append((best_model, {**best_params, 'feature_subset': feature_subset}))\n",
    "                            combination_counter += 1\n",
    "                            pbar.update(1)\n",
    "\n",
    "    return results, all_models\n",
    "\n",
    "\n",
    "# Ensure the /tunings_CV_4_5 directory exists\n",
    "if not os.path.exists('results/tunings_CV_4_5'):\n",
    "    os.makedirs('results/tunings_CV_4_5')\n",
    "\n",
    "print(\"Tuning RandomForest model...\")\n",
    "rf_results, rf_all_models = tune_model(rf, param_grid_rf, 'RandomForest', X_full, y, features)\n",
    "pd.DataFrame(rf_all_models).to_csv('results/tunings_CV_4_5/rf_all_models.csv', index=False)\n",
    "pd.DataFrame(rf_results).to_csv('results/tunings_CV_4_5/rf_results.csv', index=False)\n",
    "\n",
    "print(\"Tuning XGBoost model...\")\n",
    "xgb_results, xgb_all_models = tune_model(xgb, param_grid_xgb, 'XGBoost', X_full, y, features)\n",
    "pd.DataFrame(xgb_all_models).to_csv('results/tunings_CV_4_5/xgb_all_models.csv', index=False)\n",
    "pd.DataFrame(xgb_results).to_csv('results/tunings_CV_4_5/xgb_results.csv', index=False)\n",
    "\n",
    "print(\"Tuning LinearRegression model...\")\n",
    "lr_results, lr_all_models = tune_model(lr, param_grid_lr, 'LinearRegression', X_full, y, features)\n",
    "pd.DataFrame(lr_all_models).to_csv('results/tunings_CV_4_5/lr_all_models.csv', index=False)\n",
    "pd.DataFrame(lr_results).to_csv('results/tunings_CV_4_5/lr_results.csv', index=False)\n",
    "\n",
    "print(\"Tuning LSTM model...\")\n",
    "lstm_results, lstm_all_models = tune_model(None, param_grid_lstm, 'LSTM', X_full, y, features, lstm=True)\n",
    "pd.DataFrame(lstm_all_models).to_csv('results/tunings_CV_4_5/lstm_all_models.csv', index=False)\n",
    "pd.DataFrame(lstm_results).to_csv('results/tunings_CV_4_5/lstm_results.csv', index=False)\n",
    "\n",
    "# Combine all models into a DataFrame\n",
    "all_models = rf_all_models + xgb_all_models + lr_all_models + lstm_all_models\n",
    "all_models_df = pd.DataFrame(all_models)\n",
    "all_models_df.to_csv('results/tunings_CV_4_5/all_models_df.csv', index=False)\n",
    "\n",
    "# Extract best parameters\n",
    "best_models_df = all_models_df.loc[all_models_df.groupby('Model')['RMSE'].idxmin()]\n",
    "best_models_df.to_csv('results/tunings_CV_4_5/best_models_df.csv')\n",
    "\n",
    "best_rf_params = best_models_df[best_models_df['Model'] == 'RandomForest']['Params'].values[0]\n",
    "best_xgb_params = best_models_df[best_models_df['Model'] == 'XGBoost']['Params'].values[0]\n",
    "best_lr_params = best_models_df[best_models_df['Model'] == 'LinearRegression']['Params'].values[0]\n",
    "best_lstm_params = best_models_df[best_models_df['Model'] == 'LSTM']['Params'].values[0]\n",
    "\n",
    "best_rf_feature_subset = best_models_df[best_models_df['Model'] == 'RandomForest']['feature_subset'].values[0]\n",
    "best_xgb_feature_subset = best_models_df[best_models_df['Model'] == 'XGBoost']['feature_subset'].values[0]\n",
    "best_lr_feature_subset = best_models_df[best_models_df['Model'] == 'LinearRegression']['feature_subset'].values[0]\n",
    "best_lstm_feature_subset = best_models_df[best_models_df['Model'] == 'LSTM']['feature_subset'].values[0]\n",
    "\n",
    "# Function to retrain the best model\n",
    "def retrain_model(model, params, feature_subset, X, y, model_name, lstm=False):\n",
    "    X_subset = select_features_by_name(X, feature_subset, features)\n",
    "    if lstm:\n",
    "        X_reshaped = X_subset.reshape((X_subset.shape[0], 1, X_subset.shape[1]))\n",
    "        early_stopping = EarlyStopping(monitor='val_loss', patience=5, restore_best_weights=True)\n",
    "        lstm_model = create_lstm_model(units=params['units'], input_shape=(1, X_reshaped.shape[2]))\n",
    "        lstm_model.fit(X_reshaped, y, epochs=params['epochs'], batch_size=params['batch_size'], callbacks=[early_stopping], verbose=0)\n",
    "        return lstm_model\n",
    "    else:\n",
    "        model.set_params(**params)\n",
    "        model.fit(X_subset, y)\n",
    "        return model\n",
    "\n",
    "# Retrain the best models using cycles 1-5\n",
    "train_indices = np.concatenate(cycles[:5])  # Use cycles 1 to 5 for training\n",
    "X_train = X_full[train_indices]\n",
    "y_train = y[train_indices]\n",
    "\n",
    "print(\"Retraining the best RandomForest model...\")\n",
    "best_rf_retrained = retrain_model(RandomForestRegressor(random_state=42), best_rf_params, best_rf_feature_subset, X_train, y_train, 'RandomForest')\n",
    "\n",
    "print(\"Retraining the best XGBoost model...\")\n",
    "best_xgb_retrained = retrain_model(XGBRegressor(random_state=42), best_xgb_params, best_xgb_feature_subset, X_train, y_train, 'XGBoost')\n",
    "\n",
    "print(\"Retraining the best LinearRegression model...\")\n",
    "best_lr_retrained = retrain_model(LinearRegression(), best_lr_params, best_lr_feature_subset, X_train, y_train, 'LinearRegression')\n",
    "\n",
    "print(\"Retraining the best LSTM model...\")\n",
    "best_lstm_retrained = retrain_model(None, best_lstm_params, best_lstm_feature_subset, X_train, y_train, 'LSTM', lstm=True)\n",
    "\n",
    "# Function to evaluate model on holdout test set (cycle 6)\n",
    "def evaluate_best_model(model, model_name, X_holdout, y_holdout, feature_subset, params, evaluation_set):\n",
    "    X_holdout_subset = select_features_by_name(X_holdout, feature_subset, features)\n",
    "    if model_name == 'LSTM':\n",
    "        X_holdout_lstm = X_holdout_subset.reshape((X_holdout_subset.shape[0], 1, X_holdout_subset.shape[1]))\n",
    "        y_pred_holdout = model.predict(X_holdout_lstm)\n",
    "    else:\n",
    "        y_pred_holdout = model.predict(X_holdout_subset)\n",
    "    \n",
    "    mse = mean_squared_error(y_holdout, y_pred_holdout)\n",
    "    mae = mean_absolute_error(y_holdout, y_pred_holdout)\n",
    "    rmse = np.sqrt(mse)\n",
    "    r2 = r2_score(y_holdout, y_pred_holdout)\n",
    "    \n",
    "    metrics = {\n",
    "        'Model': model_name,\n",
    "        'Evaluation_Set': evaluation_set,\n",
    "        'MSE': mse,\n",
    "        'MAE': mae,\n",
    "        'RMSE': rmse,\n",
    "        'R2': r2,\n",
    "        'Params': params,\n",
    "        'Feature_Subset': feature_subset\n",
    "    }\n",
    "    \n",
    "    return metrics\n",
    "\n",
    "# Evaluate the best models on the holdout test set (cycle 6)\n",
    "holdout_indices = holdout_cycle  # Use the holdout cycle directly\n",
    "X_holdout = X_full[holdout_indices]\n",
    "y_holdout = y[holdout_indices]\n",
    "\n",
    "print(\"Evaluating on holdout cycle...\")\n",
    "\n",
    "metrics = []\n",
    "metrics.append(evaluate_best_model(best_rf_retrained, 'RandomForest', X_holdout, y_holdout, best_rf_feature_subset, best_rf_params, 'Holdout Cycle'))\n",
    "metrics.append(evaluate_best_model(best_xgb_retrained, 'XGBoost', X_holdout, y_holdout, best_xgb_feature_subset, best_xgb_params, 'Holdout Cycle'))\n",
    "metrics.append(evaluate_best_model(best_lr_retrained, 'LinearRegression', X_holdout, y_holdout, best_lr_feature_subset, best_lr_params, 'Holdout Cycle'))\n",
    "metrics.append(evaluate_best_model(best_lstm_retrained, 'LSTM', X_holdout, y_holdout, best_lstm_feature_subset, best_lstm_params, 'Holdout Cycle'))\n",
    "\n",
    "# Add a mean model for benchmarking\n",
    "mean_prediction = np.mean(y_holdout)\n",
    "mse_mean = mean_squared_error(y_holdout, [mean_prediction] * len(y_holdout))\n",
    "mae_mean = mean_absolute_error(y_holdout, [mean_prediction] * len(y_holdout))\n",
    "rmse_mean = np.sqrt(mse_mean)\n",
    "r2_mean = r2_score(y_holdout, [mean_prediction] * len(y_holdout))\n",
    "\n",
    "mean_model_metrics = {\n",
    "    'Model': 'Mean',\n",
    "    'Evaluation_Set': 'Holdout Cycle',\n",
    "    'MSE': mse_mean,\n",
    "    'MAE': mae_mean,\n",
    "    'RMSE': rmse_mean,\n",
    "    'R2': r2_mean,\n",
    "    'Params': 'N/A',\n",
    "    'Feature_Subset': 'N/A'\n",
    "}\n",
    "\n",
    "metrics.append(mean_model_metrics)\n",
    "\n",
    "# Convert metrics to DataFrame and display\n",
    "metrics_df = pd.DataFrame(metrics)\n",
    "metrics_df = metrics_df.sort_values(by=['RMSE'])\n",
    "print(\"Holdout Test Set Metrics\")\n",
    "\n",
    "# Ensure the /fits_CV_4_5 directory exists\n",
    "if not os.path.exists('results/fits_CV_4_5'):\n",
    "    os.makedirs('results/fits_CV_4_5')\n",
    "\n",
    "metrics_df.to_csv(\"results/fits_CV_4_5/metrics_df.csv\")\n",
    "\n",
    "print(\"Evaluation completed and metrics saved.\")\n",
    "metrics_df\n"
   ]
  },
  {
   "cell_type": "code",
   "execution_count": 4,
   "metadata": {},
   "outputs": [
    {
     "data": {
      "text/html": [
       "<div>\n",
       "<style scoped>\n",
       "    .dataframe tbody tr th:only-of-type {\n",
       "        vertical-align: middle;\n",
       "    }\n",
       "\n",
       "    .dataframe tbody tr th {\n",
       "        vertical-align: top;\n",
       "    }\n",
       "\n",
       "    .dataframe thead th {\n",
       "        text-align: right;\n",
       "    }\n",
       "</style>\n",
       "<table border=\"1\" class=\"dataframe\">\n",
       "  <thead>\n",
       "    <tr style=\"text-align: right;\">\n",
       "      <th></th>\n",
       "      <th>Model</th>\n",
       "      <th>Evaluation_Set</th>\n",
       "      <th>MSE</th>\n",
       "      <th>MAE</th>\n",
       "      <th>RMSE</th>\n",
       "      <th>R2</th>\n",
       "      <th>Params</th>\n",
       "      <th>Feature_Subset</th>\n",
       "    </tr>\n",
       "  </thead>\n",
       "  <tbody>\n",
       "    <tr>\n",
       "      <th>0</th>\n",
       "      <td>RandomForest</td>\n",
       "      <td>Holdout Cycle</td>\n",
       "      <td>1.852888</td>\n",
       "      <td>1.079655</td>\n",
       "      <td>1.361208</td>\n",
       "      <td>0.177952</td>\n",
       "      <td>{'n_estimators': 200, 'max_depth': 20}</td>\n",
       "      <td>[days_since_election_2, seats, government_stat...</td>\n",
       "    </tr>\n",
       "    <tr>\n",
       "      <th>1</th>\n",
       "      <td>XGBoost</td>\n",
       "      <td>Holdout Cycle</td>\n",
       "      <td>1.978768</td>\n",
       "      <td>1.100339</td>\n",
       "      <td>1.406687</td>\n",
       "      <td>0.122104</td>\n",
       "      <td>{'n_estimators': 50, 'max_depth': 30}</td>\n",
       "      <td>[days_since_election, seats, government_status...</td>\n",
       "    </tr>\n",
       "    <tr>\n",
       "      <th>4</th>\n",
       "      <td>Mean</td>\n",
       "      <td>Holdout Cycle</td>\n",
       "      <td>2.253990</td>\n",
       "      <td>1.176629</td>\n",
       "      <td>1.501329</td>\n",
       "      <td>0.000000</td>\n",
       "      <td>N/A</td>\n",
       "      <td>N/A</td>\n",
       "    </tr>\n",
       "    <tr>\n",
       "      <th>2</th>\n",
       "      <td>LinearRegression</td>\n",
       "      <td>Holdout Cycle</td>\n",
       "      <td>2.386702</td>\n",
       "      <td>1.233065</td>\n",
       "      <td>1.544895</td>\n",
       "      <td>-0.058879</td>\n",
       "      <td>{'fit_intercept': True}</td>\n",
       "      <td>[days_since_election, seats, government_status...</td>\n",
       "    </tr>\n",
       "    <tr>\n",
       "      <th>3</th>\n",
       "      <td>LSTM</td>\n",
       "      <td>Holdout Cycle</td>\n",
       "      <td>9.017001</td>\n",
       "      <td>1.911405</td>\n",
       "      <td>3.002832</td>\n",
       "      <td>-3.000462</td>\n",
       "      <td>{'units': 10, 'epochs': 10, 'batch_size': 32}</td>\n",
       "      <td>[seats, government_status_coalition, governmen...</td>\n",
       "    </tr>\n",
       "  </tbody>\n",
       "</table>\n",
       "</div>"
      ],
      "text/plain": [
       "              Model Evaluation_Set       MSE       MAE      RMSE        R2  \\\n",
       "0      RandomForest  Holdout Cycle  1.852888  1.079655  1.361208  0.177952   \n",
       "1           XGBoost  Holdout Cycle  1.978768  1.100339  1.406687  0.122104   \n",
       "4              Mean  Holdout Cycle  2.253990  1.176629  1.501329  0.000000   \n",
       "2  LinearRegression  Holdout Cycle  2.386702  1.233065  1.544895 -0.058879   \n",
       "3              LSTM  Holdout Cycle  9.017001  1.911405  3.002832 -3.000462   \n",
       "\n",
       "                                          Params  \\\n",
       "0         {'n_estimators': 200, 'max_depth': 20}   \n",
       "1          {'n_estimators': 50, 'max_depth': 30}   \n",
       "4                                            N/A   \n",
       "2                        {'fit_intercept': True}   \n",
       "3  {'units': 10, 'epochs': 10, 'batch_size': 32}   \n",
       "\n",
       "                                      Feature_Subset  \n",
       "0  [days_since_election_2, seats, government_stat...  \n",
       "1  [days_since_election, seats, government_status...  \n",
       "4                                                N/A  \n",
       "2  [days_since_election, seats, government_status...  \n",
       "3  [seats, government_status_coalition, governmen...  "
      ]
     },
     "execution_count": 4,
     "metadata": {},
     "output_type": "execute_result"
    }
   ],
   "source": [
    "# Taking a look\n",
    "metrics_df"
   ]
  }
 ],
 "metadata": {
  "kernelspec": {
   "display_name": "politicians_not_people_env",
   "language": "python",
   "name": "python3"
  },
  "language_info": {
   "codemirror_mode": {
    "name": "ipython",
    "version": 3
   },
   "file_extension": ".py",
   "mimetype": "text/x-python",
   "name": "python",
   "nbconvert_exporter": "python",
   "pygments_lexer": "ipython3",
   "version": "3.12.3"
  }
 },
 "nbformat": 4,
 "nbformat_minor": 2
}
